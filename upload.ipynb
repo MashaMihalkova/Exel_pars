{
 "cells": [
  {
   "cell_type": "markdown",
   "id": "556176d9",
   "metadata": {},
   "source": [
    "в данном файле будет представлен список операции для расшифровки норм из нейросети"
   ]
  },
  {
   "cell_type": "markdown",
   "id": "f713da22",
   "metadata": {},
   "source": [
    "## Inputs"
   ]
  },
  {
   "cell_type": "code",
   "execution_count": 5,
   "id": "f6d9bca9",
   "metadata": {
    "ExecuteTime": {
     "end_time": "2022-12-21T06:15:55.759848Z",
     "start_time": "2022-12-21T06:15:55.746850Z"
    }
   },
   "outputs": [],
   "source": [
    "import numpy as np\n",
    "import pandas as pd\n",
    "\n",
    "import csv\n",
    "from datetime import datetime\n",
    "\n",
    "import matplotlib.pyplot as plt\n",
    "%matplotlib inline\n",
    "import seaborn as sns\n",
    "\n",
    "plt.rcParams['figure.figsize'] = (12,5)\n",
    "\n",
    "from glob import glob\n",
    "from tqdm import tqdm"
   ]
  },
  {
   "cell_type": "markdown",
   "id": "db0ed62d",
   "metadata": {},
   "source": [
    "## DATA  - данные использованные в обучении на модели xlsx"
   ]
  },
  {
   "cell_type": "code",
   "execution_count": 3,
   "id": "410adb30",
   "metadata": {
    "ExecuteTime": {
     "end_time": "2022-12-15T10:20:06.854343Z",
     "start_time": "2022-12-15T10:20:04.644766Z"
    }
   },
   "outputs": [
    {
     "data": {
      "text/html": [
       "<div>\n",
       "<style scoped>\n",
       "    .dataframe tbody tr th:only-of-type {\n",
       "        vertical-align: middle;\n",
       "    }\n",
       "\n",
       "    .dataframe tbody tr th {\n",
       "        vertical-align: top;\n",
       "    }\n",
       "\n",
       "    .dataframe thead th {\n",
       "        text-align: right;\n",
       "    }\n",
       "</style>\n",
       "<table border=\"1\" class=\"dataframe\">\n",
       "  <thead>\n",
       "    <tr style=\"text-align: right;\">\n",
       "      <th></th>\n",
       "      <th>Unnamed: 0</th>\n",
       "      <th>proj_id</th>\n",
       "      <th>contr_id</th>\n",
       "      <th>0</th>\n",
       "      <th>1</th>\n",
       "      <th>2</th>\n",
       "      <th>3</th>\n",
       "      <th>4</th>\n",
       "      <th>5</th>\n",
       "      <th>6</th>\n",
       "      <th>...</th>\n",
       "      <th>367</th>\n",
       "      <th>368</th>\n",
       "      <th>369</th>\n",
       "      <th>370</th>\n",
       "      <th>371</th>\n",
       "      <th>372</th>\n",
       "      <th>month</th>\n",
       "      <th>year</th>\n",
       "      <th>res_id</th>\n",
       "      <th>target</th>\n",
       "    </tr>\n",
       "  </thead>\n",
       "  <tbody>\n",
       "    <tr>\n",
       "      <th>0</th>\n",
       "      <td>0</td>\n",
       "      <td>15</td>\n",
       "      <td>44</td>\n",
       "      <td>0.0</td>\n",
       "      <td>0.0</td>\n",
       "      <td>0.0</td>\n",
       "      <td>0.0</td>\n",
       "      <td>0.0</td>\n",
       "      <td>0</td>\n",
       "      <td>0</td>\n",
       "      <td>...</td>\n",
       "      <td>0</td>\n",
       "      <td>0</td>\n",
       "      <td>0</td>\n",
       "      <td>0</td>\n",
       "      <td>0</td>\n",
       "      <td>0</td>\n",
       "      <td>7</td>\n",
       "      <td>2021</td>\n",
       "      <td>23</td>\n",
       "      <td>40.0</td>\n",
       "    </tr>\n",
       "    <tr>\n",
       "      <th>1</th>\n",
       "      <td>1</td>\n",
       "      <td>15</td>\n",
       "      <td>44</td>\n",
       "      <td>0.0</td>\n",
       "      <td>0.0</td>\n",
       "      <td>0.0</td>\n",
       "      <td>0.0</td>\n",
       "      <td>0.0</td>\n",
       "      <td>0</td>\n",
       "      <td>0</td>\n",
       "      <td>...</td>\n",
       "      <td>0</td>\n",
       "      <td>0</td>\n",
       "      <td>0</td>\n",
       "      <td>0</td>\n",
       "      <td>0</td>\n",
       "      <td>0</td>\n",
       "      <td>11</td>\n",
       "      <td>2021</td>\n",
       "      <td>23</td>\n",
       "      <td>125.0</td>\n",
       "    </tr>\n",
       "    <tr>\n",
       "      <th>2</th>\n",
       "      <td>2</td>\n",
       "      <td>15</td>\n",
       "      <td>44</td>\n",
       "      <td>0.0</td>\n",
       "      <td>0.0</td>\n",
       "      <td>0.0</td>\n",
       "      <td>0.0</td>\n",
       "      <td>0.0</td>\n",
       "      <td>0</td>\n",
       "      <td>0</td>\n",
       "      <td>...</td>\n",
       "      <td>0</td>\n",
       "      <td>0</td>\n",
       "      <td>0</td>\n",
       "      <td>0</td>\n",
       "      <td>0</td>\n",
       "      <td>0</td>\n",
       "      <td>11</td>\n",
       "      <td>2021</td>\n",
       "      <td>9</td>\n",
       "      <td>169.5</td>\n",
       "    </tr>\n",
       "    <tr>\n",
       "      <th>3</th>\n",
       "      <td>3</td>\n",
       "      <td>15</td>\n",
       "      <td>44</td>\n",
       "      <td>0.0</td>\n",
       "      <td>0.0</td>\n",
       "      <td>0.0</td>\n",
       "      <td>0.0</td>\n",
       "      <td>0.0</td>\n",
       "      <td>0</td>\n",
       "      <td>0</td>\n",
       "      <td>...</td>\n",
       "      <td>0</td>\n",
       "      <td>0</td>\n",
       "      <td>0</td>\n",
       "      <td>0</td>\n",
       "      <td>0</td>\n",
       "      <td>0</td>\n",
       "      <td>12</td>\n",
       "      <td>2021</td>\n",
       "      <td>23</td>\n",
       "      <td>248.6</td>\n",
       "    </tr>\n",
       "    <tr>\n",
       "      <th>4</th>\n",
       "      <td>4</td>\n",
       "      <td>15</td>\n",
       "      <td>44</td>\n",
       "      <td>0.0</td>\n",
       "      <td>0.0</td>\n",
       "      <td>0.0</td>\n",
       "      <td>0.0</td>\n",
       "      <td>0.0</td>\n",
       "      <td>0</td>\n",
       "      <td>0</td>\n",
       "      <td>...</td>\n",
       "      <td>0</td>\n",
       "      <td>0</td>\n",
       "      <td>0</td>\n",
       "      <td>0</td>\n",
       "      <td>0</td>\n",
       "      <td>0</td>\n",
       "      <td>12</td>\n",
       "      <td>2021</td>\n",
       "      <td>9</td>\n",
       "      <td>316.4</td>\n",
       "    </tr>\n",
       "  </tbody>\n",
       "</table>\n",
       "<p>5 rows × 380 columns</p>\n",
       "</div>"
      ],
      "text/plain": [
       "   Unnamed: 0  proj_id  contr_id    0    1    2    3    4  5  6  ...  367  \\\n",
       "0           0       15        44  0.0  0.0  0.0  0.0  0.0  0  0  ...    0   \n",
       "1           1       15        44  0.0  0.0  0.0  0.0  0.0  0  0  ...    0   \n",
       "2           2       15        44  0.0  0.0  0.0  0.0  0.0  0  0  ...    0   \n",
       "3           3       15        44  0.0  0.0  0.0  0.0  0.0  0  0  ...    0   \n",
       "4           4       15        44  0.0  0.0  0.0  0.0  0.0  0  0  ...    0   \n",
       "\n",
       "   368  369  370  371  372  month  year  res_id  target  \n",
       "0    0    0    0    0    0      7  2021      23    40.0  \n",
       "1    0    0    0    0    0     11  2021      23   125.0  \n",
       "2    0    0    0    0    0     11  2021       9   169.5  \n",
       "3    0    0    0    0    0     12  2021      23   248.6  \n",
       "4    0    0    0    0    0     12  2021       9   316.4  \n",
       "\n",
       "[5 rows x 380 columns]"
      ]
     },
     "execution_count": 3,
     "metadata": {},
     "output_type": "execute_result"
    }
   ],
   "source": [
    "df = pd.read_excel('./data/3_final/DATA.xlsx')\n",
    "df.head()"
   ]
  },
  {
   "cell_type": "code",
   "execution_count": 182,
   "id": "70dfb4fb",
   "metadata": {
    "ExecuteTime": {
     "end_time": "2022-12-14T06:07:20.216867Z",
     "start_time": "2022-12-14T06:07:20.201177Z"
    }
   },
   "outputs": [],
   "source": [
    "# старые stages не использовать\n",
    "# #proj_idc\n",
    "# proj_ids_dict = np.load('./data/Needed_materials/stages_dict.npy',allow_pickle=True).item()\n",
    "# proj_ids_dict  = {v:k for k,v in proj_ids_dict.items()}\n",
    "# df['project_name'] = df.proj_id.map(proj_ids_dict)\n",
    "# #assert sum(pd.isna(df.project_name)) == 0, 'есть пустые project_name'"
   ]
  },
  {
   "cell_type": "code",
   "execution_count": 4,
   "id": "5c4e6c14",
   "metadata": {
    "ExecuteTime": {
     "end_time": "2022-12-15T10:20:06.869350Z",
     "start_time": "2022-12-15T10:20:06.855344Z"
    }
   },
   "outputs": [],
   "source": [
    "# project_ids_names\n",
    "stages = pd.read_excel('./data/Needed_materials/stages_2022_12_14.xlsx',usecols=[1,2])\n",
    "proj_ids_dict = stages.set_index('id').project_name.to_dict()\n",
    "df['project_name'] = df.proj_id.map(proj_ids_dict)\n",
    "assert sum(pd.isna(df.project_name))==0 , 'пустые проекты'"
   ]
  },
  {
   "cell_type": "code",
   "execution_count": 5,
   "id": "f5465313",
   "metadata": {
    "ExecuteTime": {
     "end_time": "2022-12-15T10:20:14.049893Z",
     "start_time": "2022-12-15T10:20:14.016199Z"
    }
   },
   "outputs": [],
   "source": [
    "#res_id\n",
    "mech_res_dict = np.load( './scripts/3_final/mech_res_dict.npy', allow_pickle=True).item()\n",
    "c = pd.read_excel('./data/Needed_materials/mech_missed_ids.xlsx',usecols=[0,1],).dropna()\n",
    "c = c.set_index('missed_name').id.astype( int ).to_dict()\n",
    "mech_res_dict = {**c,**mech_res_dict}\n",
    "\n",
    "mech_res_dict_ids = {v:k for k,v in mech_res_dict.items()}\n",
    "df['resource_name'] = df.res_id.map(mech_res_dict_ids)\n",
    "assert sum(pd.isna(df.resource_name)) == 0, 'есть пустые машины'"
   ]
  },
  {
   "cell_type": "code",
   "execution_count": 6,
   "id": "1a3a95eb",
   "metadata": {
    "ExecuteTime": {
     "end_time": "2022-12-15T10:20:14.890305Z",
     "start_time": "2022-12-15T10:20:14.873305Z"
    }
   },
   "outputs": [],
   "source": [
    "# contr name\n",
    "feature_contractor_dict = np.load('./scripts/3_final/all_contractors.npy', allow_pickle=True).item()\n",
    "feature_contractor_dict_ids =  {v:k for k,v in feature_contractor_dict.items()}\n",
    "df['contractor_name'] = df.contr_id.map(feature_contractor_dict_ids)\n",
    "\n",
    "new_contractor_dict = {'АО \"Стройтранснефтегаз\"': 0,\n",
    "  'ООО \"СГК-1\"': 1,\n",
    "  'ООО \"ССК \"Газрегион\"': 2,\n",
    "  'ООО \"Велесстрой\"': 3}\n",
    "\n",
    "df['contr_id'] = df.contractor_name.map(new_contractor_dict)\n",
    "assert sum(pd.isna(df.contr_id)) == 0, 'есть пустые контракторы'\n"
   ]
  },
  {
   "cell_type": "code",
   "execution_count": 7,
   "id": "ad2086ac",
   "metadata": {
    "ExecuteTime": {
     "end_time": "2022-12-15T10:20:17.002760Z",
     "start_time": "2022-12-15T10:20:16.994760Z"
    }
   },
   "outputs": [],
   "source": [
    "# plan fact columns\n",
    "df['Plan'] = np.sum(df.iloc[:,3:-6],axis = 1)\n",
    "df['Fact'] = df.target"
   ]
  },
  {
   "cell_type": "code",
   "execution_count": 8,
   "id": "7164b96d",
   "metadata": {
    "ExecuteTime": {
     "end_time": "2022-12-15T10:20:17.547467Z",
     "start_time": "2022-12-15T10:20:17.531397Z"
    }
   },
   "outputs": [],
   "source": [
    "# datetime\n",
    "df['dt'] = df['year'].astype(str) + '-' + df['month'].astype(str) + '-' + '01'\n",
    "df['dt'] = df.dt.apply( lambda x: datetime.strptime(str(x), '%Y-%m-%d') )\n"
   ]
  },
  {
   "cell_type": "markdown",
   "id": "fb1be63b",
   "metadata": {},
   "source": [
    "### научим модель в predict для DATA"
   ]
  },
  {
   "cell_type": "code",
   "execution_count": 10,
   "id": "bda99be9",
   "metadata": {
    "ExecuteTime": {
     "end_time": "2022-12-21T06:16:10.884739Z",
     "start_time": "2022-12-21T06:16:10.499739Z"
    }
   },
   "outputs": [],
   "source": [
    "import torch\n",
    "import torch.nn as nn\n",
    "import torch.optim as optim\n",
    "import torchinfo"
   ]
  },
  {
   "cell_type": "code",
   "execution_count": 11,
   "id": "3f4fce96",
   "metadata": {
    "ExecuteTime": {
     "end_time": "2022-12-21T06:16:10.995502Z",
     "start_time": "2022-12-21T06:16:10.991502Z"
    }
   },
   "outputs": [],
   "source": [
    "# класс для слоя с позитивными весами\n",
    "class positive_weights_linear(nn.Module):\n",
    "    def __init__(self, in_features, out_features):\n",
    "        super(positive_weights_linear, self).__init__()\n",
    "        self.in_features = in_features\n",
    "        self.out_features = out_features\n",
    "        self.weight = nn.Parameter(torch.empty(out_features, in_features))\n",
    "        self.reset_parameters()\n",
    "\n",
    "    def reset_parameters(self):\n",
    "        nn.init.xavier_uniform_(self.weight)\n",
    "\n",
    "    def forward(self, input_x, res_id):\n",
    "        \n",
    "        return torch.matmul( self.weight[res_id.long()].exp() , input_x )\n",
    "        \n"
   ]
  },
  {
   "cell_type": "code",
   "execution_count": 12,
   "id": "c32aa8da",
   "metadata": {
    "ExecuteTime": {
     "end_time": "2022-12-21T06:16:11.554515Z",
     "start_time": "2022-12-21T06:16:11.532509Z"
    },
    "scrolled": false
   },
   "outputs": [
    {
     "name": "stdout",
     "output_type": "stream",
     "text": [
      "predict_hours_net(\n",
      "  (activity_dense): positive_weights_linear()\n",
      "  (proj_dense): Linear(in_features=23, out_features=1, bias=False)\n",
      "  (contractor_dense): Linear(in_features=4, out_features=1, bias=False)\n",
      "  (year_dense): Linear(in_features=2, out_features=1, bias=True)\n",
      "  (month_dense): Linear(in_features=12, out_features=1, bias=False)\n",
      ")\n"
     ]
    },
    {
     "data": {
      "text/plain": [
       "=================================================================\n",
       "Layer (type:depth-idx)                   Param #\n",
       "=================================================================\n",
       "predict_hours_net                        --\n",
       "├─positive_weights_linear: 1-1           91,758\n",
       "├─Linear: 1-2                            23\n",
       "├─Linear: 1-3                            4\n",
       "├─Linear: 1-4                            3\n",
       "├─Linear: 1-5                            12\n",
       "=================================================================\n",
       "Total params: 91,800\n",
       "Trainable params: 91,800\n",
       "Non-trainable params: 0\n",
       "================================================================="
      ]
     },
     "execution_count": 12,
     "metadata": {},
     "output_type": "execute_result"
    }
   ],
   "source": [
    "# класс с 1 месяцем\n",
    "class predict_hours_net(nn.Module):\n",
    "    '''\n",
    "        всего работ по нормам 373 шт. = \"in_features\" в слое \"activity_dense\"\n",
    "        всего видов техники = 246 (все виды техники берутся из норм PO№№№ ) = \"out_features\" в слое \"activity_dense\"\n",
    "        всего подрядчиков 4 шт. = \"in_features\" в слое \"contractor_dense\"\n",
    "        всего проектов 23 шт. = \"in_features\" в слое \"proj_dense\"\n",
    "    '''\n",
    "\n",
    "    def __init__(self):\n",
    "        super(predict_hours_net, self).__init__()\n",
    "        \n",
    "        #  out_features = количество техник 246\n",
    "        self.activity_dense = positive_weights_linear(in_features=373, out_features = 246 ) \n",
    "        self.proj_dense = torch.nn.Linear(in_features=23, out_features = 1, bias = False)\n",
    "        self.contractor_dense = torch.nn.Linear(in_features=4, out_features = 1, bias = False)        \n",
    "        self.year_dense = torch.nn.Linear(in_features=2, out_features = 1, bias = True)\n",
    "        self.month_dense = torch.nn.Linear(in_features=12, out_features = 1, bias = False)\n",
    "        \n",
    "    def forward(self, x):\n",
    "        # умножили на матрицу весов\n",
    "        sum_of_activities = self.activity_dense(x[2:-3],x[-1].long() )\n",
    "        \n",
    "        # умножили на коэф месяца\n",
    "        sum_of_activities_month = self.month_dense.weight[0,x[-3].long()] *  sum_of_activities\n",
    "        \n",
    "        # умножили на коэф.года\n",
    "        sum_of_activities_month_year = self.year_dense.weight[0,x[-2].long() ] *  sum_of_activities_month\n",
    "        \n",
    "        # умножили на коэф.контрактора\n",
    "        predict = self.contractor_dense.weight[0,x[1].long()] * sum_of_activities_month_year\n",
    "        \n",
    "        return predict\n",
    "\n",
    "net = predict_hours_net()\n",
    "print(net)\n",
    "torchinfo.summary(net)"
   ]
  },
  {
   "cell_type": "code",
   "execution_count": 13,
   "id": "2c5d36a9",
   "metadata": {
    "ExecuteTime": {
     "end_time": "2022-12-21T06:16:12.070721Z",
     "start_time": "2022-12-21T06:16:12.058720Z"
    }
   },
   "outputs": [
    {
     "data": {
      "text/plain": [
       "<All keys matched successfully>"
      ]
     },
     "execution_count": 13,
     "metadata": {},
     "output_type": "execute_result"
    }
   ],
   "source": [
    "net_state_dict = torch.load('./weights/log_model_huber_05_epoch_500_loss_69_mae_547.pt')\n",
    "net.load_state_dict(net_state_dict)\n"
   ]
  },
  {
   "cell_type": "code",
   "execution_count": 14,
   "id": "4e696c39",
   "metadata": {
    "ExecuteTime": {
     "end_time": "2022-12-21T06:16:12.707290Z",
     "start_time": "2022-12-21T06:16:12.688288Z"
    }
   },
   "outputs": [
    {
     "data": {
      "text/plain": [
       "predict_hours_net(\n",
       "  (activity_dense): positive_weights_linear()\n",
       "  (proj_dense): Linear(in_features=23, out_features=1, bias=False)\n",
       "  (contractor_dense): Linear(in_features=4, out_features=1, bias=False)\n",
       "  (year_dense): Linear(in_features=2, out_features=1, bias=True)\n",
       "  (month_dense): Linear(in_features=12, out_features=1, bias=False)\n",
       ")"
      ]
     },
     "execution_count": 14,
     "metadata": {},
     "output_type": "execute_result"
    }
   ],
   "source": [
    "device = torch.device('cuda' if torch.cuda.is_available() else 'cpu')\n",
    "net.to(device)"
   ]
  },
  {
   "cell_type": "code",
   "execution_count": 7,
   "id": "20efebc3",
   "metadata": {
    "ExecuteTime": {
     "end_time": "2022-12-20T17:40:20.764683Z",
     "start_time": "2022-12-20T17:40:20.483676Z"
    }
   },
   "outputs": [
    {
     "ename": "NameError",
     "evalue": "name 'df' is not defined",
     "output_type": "error",
     "traceback": [
      "\u001b[1;31m---------------------------------------------------------------------------\u001b[0m",
      "\u001b[1;31mNameError\u001b[0m                                 Traceback (most recent call last)",
      "Input \u001b[1;32mIn [7]\u001b[0m, in \u001b[0;36m<cell line: 1>\u001b[1;34m()\u001b[0m\n\u001b[1;32m----> 1\u001b[0m df[\u001b[38;5;124m'\u001b[39m\u001b[38;5;124myear\u001b[39m\u001b[38;5;124m'\u001b[39m] \u001b[38;5;241m=\u001b[39m \u001b[43mdf\u001b[49m\u001b[38;5;241m.\u001b[39myear \u001b[38;5;241m-\u001b[39m \u001b[38;5;241m2021\u001b[39m\n\u001b[0;32m      2\u001b[0m df[\u001b[38;5;124m'\u001b[39m\u001b[38;5;124mmonth\u001b[39m\u001b[38;5;124m'\u001b[39m] \u001b[38;5;241m=\u001b[39m df\u001b[38;5;241m.\u001b[39mmonth \u001b[38;5;241m-\u001b[39m \u001b[38;5;241m1\u001b[39m\n",
      "\u001b[1;31mNameError\u001b[0m: name 'df' is not defined"
     ]
    }
   ],
   "source": [
    "df['year'] = df.year - 2021\n",
    "df['month'] = df.month - 1"
   ]
  },
  {
   "cell_type": "code",
   "execution_count": 15,
   "id": "cc5243c4",
   "metadata": {
    "ExecuteTime": {
     "end_time": "2022-12-15T10:20:30.183235Z",
     "start_time": "2022-12-15T10:20:30.109138Z"
    }
   },
   "outputs": [],
   "source": [
    "features = torch.tensor(df.iloc[:,1:-7].values).to(torch.float)\n",
    "targets = torch.tensor(df.target.values).to(torch.float)\n",
    "predict = []\n",
    "net.eval()   # Set model to evaluate mode\n",
    "for i in range(features.shape[0]):\n",
    "    with torch.no_grad():\n",
    "        pred = net(features[i])\n",
    "        predict.append(pred.tolist())"
   ]
  },
  {
   "cell_type": "code",
   "execution_count": 16,
   "id": "7e3aa966",
   "metadata": {
    "ExecuteTime": {
     "end_time": "2022-12-15T10:20:33.001421Z",
     "start_time": "2022-12-15T10:20:32.988407Z"
    }
   },
   "outputs": [],
   "source": [
    "df['Predict_NN'] = predict"
   ]
  },
  {
   "cell_type": "markdown",
   "id": "f6c22c8c",
   "metadata": {
    "ExecuteTime": {
     "end_time": "2022-12-15T10:04:54.117718Z",
     "start_time": "2022-12-15T10:04:54.104709Z"
    }
   },
   "source": [
    "### проверяем метрики МАЕ и выбираем что выгружать"
   ]
  },
  {
   "cell_type": "code",
   "execution_count": 17,
   "id": "a7855f0b",
   "metadata": {
    "ExecuteTime": {
     "end_time": "2022-12-15T10:20:35.644007Z",
     "start_time": "2022-12-15T10:20:35.518137Z"
    }
   },
   "outputs": [],
   "source": [
    "from sklearn.metrics import mean_absolute_error"
   ]
  },
  {
   "cell_type": "code",
   "execution_count": 18,
   "id": "498e5354",
   "metadata": {
    "ExecuteTime": {
     "end_time": "2022-12-15T10:20:37.536567Z",
     "start_time": "2022-12-15T10:20:37.482381Z"
    }
   },
   "outputs": [],
   "source": [
    "result = []\n",
    "for i in pd.unique(df.res_id):\n",
    "    if len(df.loc[(df.res_id == i) & (df.proj_id==23), 'target']) ==0 : continue\n",
    "    mae = mean_absolute_error(df.loc[(df.res_id == i) & (df.proj_id==23), 'target'],   df.loc[(df.res_id == i) & (df.proj_id==23),'Predict_NN'] )\n",
    "    count = len(df.loc[(df.res_id == i) & (df.proj_id==23),:])\n",
    "    result.append({'res_id':i, 'res_name':mech_res_dict_ids[i],'model_MAE':mae,'count':count})"
   ]
  },
  {
   "cell_type": "code",
   "execution_count": 19,
   "id": "8a50e854",
   "metadata": {
    "ExecuteTime": {
     "end_time": "2022-12-15T10:20:38.574422Z",
     "start_time": "2022-12-15T10:20:38.569422Z"
    }
   },
   "outputs": [
    {
     "data": {
      "text/plain": [
       "[(15, 'КС-1 Салдыкельская Сила Сибири Этап 5.1'),\n",
       " (23, 'КС-2 Олекминская Сила Сибири Этап 5.2'),\n",
       " (16, 'КС-2 Олекминская Сила Сибири Этап 6.2'),\n",
       " (17, 'КС-3 Амгинская Сила Сибири Этап 5.3'),\n",
       " (18, 'КС-4 Нимнырская Сила Сибири Этап 6.4'),\n",
       " (19, 'КС-5 Нагорная Сила Сибири Этап 5.5'),\n",
       " (20, 'КС-6 Сковородинская Сила Сибири Этап 5.6'),\n",
       " (21, 'КС-6 Сковородинская Сила Сибири Этап 6.6'),\n",
       " (22, 'КС-7 Сивакинская Сила Сибири Этап 5.7')]"
      ]
     },
     "execution_count": 19,
     "metadata": {},
     "output_type": "execute_result"
    }
   ],
   "source": [
    "list(zip(pd.unique(df.proj_id),list(map(proj_ids_dict.get,pd.unique(df.proj_id)))))"
   ]
  },
  {
   "cell_type": "code",
   "execution_count": 20,
   "id": "808b6700",
   "metadata": {
    "ExecuteTime": {
     "end_time": "2022-12-15T10:20:39.689960Z",
     "start_time": "2022-12-15T10:20:39.679973Z"
    }
   },
   "outputs": [],
   "source": [
    "df.sort_values(by='dt',inplace=True)"
   ]
  },
  {
   "cell_type": "code",
   "execution_count": 39,
   "id": "2c211467",
   "metadata": {
    "ExecuteTime": {
     "end_time": "2022-12-14T19:25:43.972306Z",
     "start_time": "2022-12-14T19:25:43.554440Z"
    }
   },
   "outputs": [
    {
     "data": {
      "image/png": "[encoded data removed]",
      "text/plain": [
       "<Figure size 864x360 with 1 Axes>"
      ]
     },
     "metadata": {
      "needs_background": "light"
     },
     "output_type": "display_data"
    }
   ],
   "source": [
    "def plot(i,proj):\n",
    "#     i = 30\n",
    "#     proj = 23\n",
    "    plt.plot(df.loc[(df.res_id==i) & (df.proj_id == proj),'dt'], df.loc[(df.res_id == i) & (df.proj_id==proj), 'target'])\n",
    "    plt.plot(df.loc[(df.res_id==i) & (df.proj_id == proj),'dt'], df.loc[(df.res_id == i) & (df.proj_id==proj),'Predict_NN'])\n",
    "plot(30,17)\n"
   ]
  },
  {
   "cell_type": "code",
   "execution_count": 40,
   "id": "8bbabb87",
   "metadata": {
    "ExecuteTime": {
     "end_time": "2022-12-14T19:25:49.588230Z",
     "start_time": "2022-12-14T19:25:48.457229Z"
    },
    "scrolled": false
   },
   "outputs": [
    {
     "data": {
      "image/png": "[encoded data removed]",
      "text/plain": [
       "<Figure size 864x360 with 1 Axes>"
      ]
     },
     "metadata": {
      "needs_background": "light"
     },
     "output_type": "display_data"
    },
    {
     "data": {
      "image/png": "[encoded data removed]",
      "text/plain": [
       "<Figure size 864x360 with 1 Axes>"
      ]
     },
     "metadata": {
      "needs_background": "light"
     },
     "output_type": "display_data"
    },
    {
     "data": {
      "image/png": "[encoded data removed]",
      "text/plain": [
       "<Figure size 864x360 with 1 Axes>"
      ]
     },
     "metadata": {
      "needs_background": "light"
     },
     "output_type": "display_data"
    },
    {
     "data": {
      "image/png": "[encoded data removed]",
      "text/plain": [
       "<Figure size 864x360 with 1 Axes>"
      ]
     },
     "metadata": {
      "needs_background": "light"
     },
     "output_type": "display_data"
    },
    {
     "data": {
      "image/png": "[encoded data removed]",
      "text/plain": [
       "<Figure size 864x360 with 1 Axes>"
      ]
     },
     "metadata": {
      "needs_background": "light"
     },
     "output_type": "display_data"
    },
    {
     "data": {
      "image/png": "[encoded data removed]",
      "text/plain": [
       "<Figure size 864x360 with 1 Axes>"
      ]
     },
     "metadata": {
      "needs_background": "light"
     },
     "output_type": "display_data"
    },
    {
     "data": {
      "image/png": "[encoded data removed]",
      "text/plain": [
       "<Figure size 864x360 with 1 Axes>"
      ]
     },
     "metadata": {
      "needs_background": "light"
     },
     "output_type": "display_data"
    },
    {
     "data": {
      "image/png": "[encoded data removed]",
      "text/plain": [
       "<Figure size 864x360 with 1 Axes>"
      ]
     },
     "metadata": {
      "needs_background": "light"
     },
     "output_type": "display_data"
    }
   ],
   "source": [
    "# to be used for publication\n",
    "id = [30, 28,19,32 ] #,112,48\n",
    "for p in [17,23]:\n",
    "    for l in id:\n",
    "        plt.title(f'{p}, {l} , {mech_res_dict_ids.get(l)}')\n",
    "        plot(l,p)\n",
    "        plt.show()\n",
    "    "
   ]
  },
  {
   "cell_type": "markdown",
   "id": "bec8467f",
   "metadata": {},
   "source": [
    "### Выгружаем в template (top_left)"
   ]
  },
  {
   "cell_type": "code",
   "execution_count": 21,
   "id": "e7cc0ada",
   "metadata": {
    "ExecuteTime": {
     "end_time": "2022-12-15T10:20:51.649488Z",
     "start_time": "2022-12-15T10:20:51.634186Z"
    }
   },
   "outputs": [],
   "source": [
    "# Итого \n",
    "# на данный момент будут выгружаться id машин \n",
    "mech_id = [30, 28,19,32 ] \n",
    "# по следующим проектам \n",
    "projects_id= [17,23]\n"
   ]
  },
  {
   "cell_type": "code",
   "execution_count": 116,
   "id": "0fd96e18",
   "metadata": {
    "ExecuteTime": {
     "end_time": "2022-12-14T16:17:16.229132Z",
     "start_time": "2022-12-14T16:17:16.201115Z"
    },
    "collapsed": true
   },
   "outputs": [
    {
     "data": {
      "text/plain": [
       "[False,\n",
       " False,\n",
       " False,\n",
       " False,\n",
       " False,\n",
       " False,\n",
       " False,\n",
       " False,\n",
       " False,\n",
       " False,\n",
       " False,\n",
       " True,\n",
       " False,\n",
       " False,\n",
       " False,\n",
       " False,\n",
       " False,\n",
       " True,\n",
       " True,\n",
       " True,\n",
       " False,\n",
       " False,\n",
       " False,\n",
       " False,\n",
       " False,\n",
       " False,\n",
       " False,\n",
       " False,\n",
       " False,\n",
       " False,\n",
       " False,\n",
       " False,\n",
       " False,\n",
       " False,\n",
       " False,\n",
       " False,\n",
       " False,\n",
       " True,\n",
       " False,\n",
       " False,\n",
       " False,\n",
       " True,\n",
       " True,\n",
       " True,\n",
       " False,\n",
       " False,\n",
       " False,\n",
       " False,\n",
       " False,\n",
       " False,\n",
       " False,\n",
       " False,\n",
       " False,\n",
       " False,\n",
       " False,\n",
       " True,\n",
       " True,\n",
       " False,\n",
       " True,\n",
       " True,\n",
       " False,\n",
       " False,\n",
       " False,\n",
       " True,\n",
       " False,\n",
       " False,\n",
       " False,\n",
       " False,\n",
       " False,\n",
       " False,\n",
       " False,\n",
       " False,\n",
       " False,\n",
       " True,\n",
       " False,\n",
       " True,\n",
       " True,\n",
       " False,\n",
       " True,\n",
       " False,\n",
       " False,\n",
       " False,\n",
       " False,\n",
       " False,\n",
       " False,\n",
       " False,\n",
       " False,\n",
       " False,\n",
       " False,\n",
       " False,\n",
       " False,\n",
       " True,\n",
       " False,\n",
       " True,\n",
       " False,\n",
       " False,\n",
       " True,\n",
       " True,\n",
       " False,\n",
       " False,\n",
       " False,\n",
       " False,\n",
       " False,\n",
       " False,\n",
       " True,\n",
       " True,\n",
       " False,\n",
       " True,\n",
       " True,\n",
       " True,\n",
       " False,\n",
       " False,\n",
       " False,\n",
       " True,\n",
       " False,\n",
       " False,\n",
       " False,\n",
       " False,\n",
       " False,\n",
       " False,\n",
       " False,\n",
       " False,\n",
       " False,\n",
       " False,\n",
       " False,\n",
       " False,\n",
       " False,\n",
       " False,\n",
       " False,\n",
       " False,\n",
       " False,\n",
       " False,\n",
       " False,\n",
       " True,\n",
       " True,\n",
       " True,\n",
       " False,\n",
       " False,\n",
       " False,\n",
       " False,\n",
       " False,\n",
       " False,\n",
       " True,\n",
       " False,\n",
       " False,\n",
       " False,\n",
       " False,\n",
       " False,\n",
       " False,\n",
       " True,\n",
       " False,\n",
       " False,\n",
       " False,\n",
       " False,\n",
       " False,\n",
       " False,\n",
       " False,\n",
       " False,\n",
       " False,\n",
       " True,\n",
       " False,\n",
       " False,\n",
       " False,\n",
       " False,\n",
       " True,\n",
       " False,\n",
       " False,\n",
       " False,\n",
       " False,\n",
       " False,\n",
       " True,\n",
       " True,\n",
       " True,\n",
       " False,\n",
       " False,\n",
       " False,\n",
       " False,\n",
       " False,\n",
       " False,\n",
       " False,\n",
       " False,\n",
       " False,\n",
       " False,\n",
       " False,\n",
       " False,\n",
       " True,\n",
       " False,\n",
       " False,\n",
       " False,\n",
       " False,\n",
       " False,\n",
       " False,\n",
       " False,\n",
       " True,\n",
       " False,\n",
       " False,\n",
       " False,\n",
       " False,\n",
       " False,\n",
       " False,\n",
       " False,\n",
       " False,\n",
       " False,\n",
       " False,\n",
       " True,\n",
       " False,\n",
       " True,\n",
       " True,\n",
       " False,\n",
       " False,\n",
       " False,\n",
       " False,\n",
       " False,\n",
       " False,\n",
       " False,\n",
       " False,\n",
       " True,\n",
       " True,\n",
       " False,\n",
       " False,\n",
       " False,\n",
       " True,\n",
       " False,\n",
       " False,\n",
       " False,\n",
       " True,\n",
       " True,\n",
       " True,\n",
       " False,\n",
       " False,\n",
       " False,\n",
       " False,\n",
       " False,\n",
       " False,\n",
       " False,\n",
       " False,\n",
       " False,\n",
       " False,\n",
       " False,\n",
       " False,\n",
       " False,\n",
       " True,\n",
       " False,\n",
       " False,\n",
       " False,\n",
       " False,\n",
       " False,\n",
       " False,\n",
       " False,\n",
       " False,\n",
       " False,\n",
       " False,\n",
       " False,\n",
       " False,\n",
       " True,\n",
       " False,\n",
       " True,\n",
       " True,\n",
       " False,\n",
       " False,\n",
       " False,\n",
       " True,\n",
       " False,\n",
       " False,\n",
       " False,\n",
       " False,\n",
       " False,\n",
       " False,\n",
       " False,\n",
       " False,\n",
       " False,\n",
       " False,\n",
       " True,\n",
       " False,\n",
       " True,\n",
       " False,\n",
       " False,\n",
       " False,\n",
       " False,\n",
       " False,\n",
       " False,\n",
       " False,\n",
       " False,\n",
       " False,\n",
       " False,\n",
       " False,\n",
       " True,\n",
       " False,\n",
       " False,\n",
       " False,\n",
       " True,\n",
       " False,\n",
       " False,\n",
       " False,\n",
       " False,\n",
       " False,\n",
       " False,\n",
       " False,\n",
       " False,\n",
       " False,\n",
       " False,\n",
       " False,\n",
       " False,\n",
       " False,\n",
       " False,\n",
       " False,\n",
       " False,\n",
       " False,\n",
       " True,\n",
       " True,\n",
       " True,\n",
       " True,\n",
       " True,\n",
       " False,\n",
       " False,\n",
       " False,\n",
       " False,\n",
       " False,\n",
       " False,\n",
       " False,\n",
       " False,\n",
       " False,\n",
       " False,\n",
       " False,\n",
       " False,\n",
       " False,\n",
       " True,\n",
       " False,\n",
       " False,\n",
       " True,\n",
       " True,\n",
       " False,\n",
       " False,\n",
       " True,\n",
       " False,\n",
       " False,\n",
       " True,\n",
       " False,\n",
       " False,\n",
       " False,\n",
       " False,\n",
       " False,\n",
       " False,\n",
       " True,\n",
       " False,\n",
       " False,\n",
       " False,\n",
       " True,\n",
       " False,\n",
       " False,\n",
       " False,\n",
       " False,\n",
       " False,\n",
       " False,\n",
       " False,\n",
       " False,\n",
       " False,\n",
       " True,\n",
       " False,\n",
       " False,\n",
       " False,\n",
       " True,\n",
       " False,\n",
       " False,\n",
       " False,\n",
       " False,\n",
       " False,\n",
       " True,\n",
       " False,\n",
       " False,\n",
       " False,\n",
       " True,\n",
       " True,\n",
       " True,\n",
       " False,\n",
       " True,\n",
       " False,\n",
       " False,\n",
       " False,\n",
       " False,\n",
       " False,\n",
       " False,\n",
       " False,\n",
       " False,\n",
       " True,\n",
       " True,\n",
       " False,\n",
       " False,\n",
       " False,\n",
       " False,\n",
       " True,\n",
       " False,\n",
       " False,\n",
       " False,\n",
       " False,\n",
       " False,\n",
       " False,\n",
       " False,\n",
       " False,\n",
       " True,\n",
       " False,\n",
       " True,\n",
       " False,\n",
       " False,\n",
       " False,\n",
       " False,\n",
       " False,\n",
       " False,\n",
       " False,\n",
       " False,\n",
       " False,\n",
       " True,\n",
       " False,\n",
       " False,\n",
       " False,\n",
       " False,\n",
       " False,\n",
       " False,\n",
       " False,\n",
       " False,\n",
       " False,\n",
       " True,\n",
       " False,\n",
       " False,\n",
       " True,\n",
       " False,\n",
       " True,\n",
       " False,\n",
       " False,\n",
       " False,\n",
       " False,\n",
       " False,\n",
       " False,\n",
       " False,\n",
       " False,\n",
       " False,\n",
       " False,\n",
       " False,\n",
       " False,\n",
       " False,\n",
       " True,\n",
       " False,\n",
       " False,\n",
       " True,\n",
       " False,\n",
       " False,\n",
       " False,\n",
       " False,\n",
       " True,\n",
       " False,\n",
       " False,\n",
       " True,\n",
       " True,\n",
       " False,\n",
       " True,\n",
       " False,\n",
       " True,\n",
       " False,\n",
       " False,\n",
       " False,\n",
       " True,\n",
       " False,\n",
       " False,\n",
       " False,\n",
       " False,\n",
       " False,\n",
       " False,\n",
       " False,\n",
       " False,\n",
       " False,\n",
       " False,\n",
       " False,\n",
       " False,\n",
       " True,\n",
       " True,\n",
       " True,\n",
       " False,\n",
       " False,\n",
       " False,\n",
       " True,\n",
       " False,\n",
       " False,\n",
       " True,\n",
       " False,\n",
       " False,\n",
       " False,\n",
       " True,\n",
       " False,\n",
       " True,\n",
       " False,\n",
       " False,\n",
       " False,\n",
       " False,\n",
       " True,\n",
       " False,\n",
       " False,\n",
       " True,\n",
       " False,\n",
       " True,\n",
       " True,\n",
       " False,\n",
       " False,\n",
       " False,\n",
       " False,\n",
       " False,\n",
       " False,\n",
       " False,\n",
       " False,\n",
       " False,\n",
       " False,\n",
       " False,\n",
       " True,\n",
       " False,\n",
       " False,\n",
       " False,\n",
       " False,\n",
       " False,\n",
       " True,\n",
       " False,\n",
       " False,\n",
       " True,\n",
       " False,\n",
       " True,\n",
       " True,\n",
       " False,\n",
       " False,\n",
       " True,\n",
       " True,\n",
       " False,\n",
       " True,\n",
       " False,\n",
       " False,\n",
       " False,\n",
       " False,\n",
       " True,\n",
       " False,\n",
       " True,\n",
       " False,\n",
       " False,\n",
       " False,\n",
       " False,\n",
       " False,\n",
       " False,\n",
       " False,\n",
       " True,\n",
       " False,\n",
       " False,\n",
       " False,\n",
       " False,\n",
       " False,\n",
       " False,\n",
       " False,\n",
       " False,\n",
       " True,\n",
       " False,\n",
       " False,\n",
       " False,\n",
       " False,\n",
       " False,\n",
       " False,\n",
       " False,\n",
       " True,\n",
       " False,\n",
       " False,\n",
       " False,\n",
       " False,\n",
       " False,\n",
       " False,\n",
       " False,\n",
       " False,\n",
       " False,\n",
       " False,\n",
       " False,\n",
       " False,\n",
       " False,\n",
       " False,\n",
       " False,\n",
       " False,\n",
       " True,\n",
       " True,\n",
       " False,\n",
       " True,\n",
       " False,\n",
       " True,\n",
       " False,\n",
       " False,\n",
       " False,\n",
       " False,\n",
       " False,\n",
       " False,\n",
       " False,\n",
       " False,\n",
       " False,\n",
       " False,\n",
       " False,\n",
       " False,\n",
       " False,\n",
       " False,\n",
       " False,\n",
       " False,\n",
       " False,\n",
       " False,\n",
       " False,\n",
       " False,\n",
       " True,\n",
       " True,\n",
       " False,\n",
       " False,\n",
       " False,\n",
       " True,\n",
       " False,\n",
       " True,\n",
       " False,\n",
       " False,\n",
       " False,\n",
       " False,\n",
       " True,\n",
       " False,\n",
       " True,\n",
       " False,\n",
       " True,\n",
       " False,\n",
       " True,\n",
       " True,\n",
       " False,\n",
       " False,\n",
       " False,\n",
       " True,\n",
       " True,\n",
       " True,\n",
       " False,\n",
       " False,\n",
       " False,\n",
       " False,\n",
       " False,\n",
       " False,\n",
       " False,\n",
       " False,\n",
       " True,\n",
       " False,\n",
       " False,\n",
       " True,\n",
       " False,\n",
       " False,\n",
       " False,\n",
       " False,\n",
       " False,\n",
       " False,\n",
       " False,\n",
       " False,\n",
       " False,\n",
       " False,\n",
       " False,\n",
       " False,\n",
       " False,\n",
       " False,\n",
       " False,\n",
       " False,\n",
       " True,\n",
       " False,\n",
       " False,\n",
       " False,\n",
       " False,\n",
       " False,\n",
       " False,\n",
       " True,\n",
       " False,\n",
       " True,\n",
       " False,\n",
       " False,\n",
       " False,\n",
       " False,\n",
       " False,\n",
       " False,\n",
       " False,\n",
       " False,\n",
       " True,\n",
       " False,\n",
       " False,\n",
       " False,\n",
       " False,\n",
       " False,\n",
       " False,\n",
       " False,\n",
       " False,\n",
       " False,\n",
       " False,\n",
       " False,\n",
       " True,\n",
       " True,\n",
       " False,\n",
       " False,\n",
       " False,\n",
       " False,\n",
       " False,\n",
       " False,\n",
       " False,\n",
       " True,\n",
       " False,\n",
       " True,\n",
       " False,\n",
       " False,\n",
       " False,\n",
       " False,\n",
       " False,\n",
       " False,\n",
       " False]"
      ]
     },
     "execution_count": 116,
     "metadata": {},
     "output_type": "execute_result"
    }
   ],
   "source": [
    "list(map(lambda x : x in mech_id, df['res_id']  ))"
   ]
  },
  {
   "cell_type": "code",
   "execution_count": 22,
   "id": "dc6c91c1",
   "metadata": {
    "ExecuteTime": {
     "end_time": "2022-12-15T10:20:55.943636Z",
     "start_time": "2022-12-15T10:20:55.923351Z"
    }
   },
   "outputs": [],
   "source": [
    "# фильтруем по проекту\n",
    "df_new = df.loc[ list(map(lambda x : x in projects_id, df['proj_id']  ))   ,:]\n",
    "df_new = df_new.loc[ list(map(lambda x : x in mech_id, df_new['res_id']  ))  ,:]\n"
   ]
  },
  {
   "cell_type": "code",
   "execution_count": 23,
   "id": "b67aae9d",
   "metadata": {
    "ExecuteTime": {
     "end_time": "2022-12-15T10:20:57.485589Z",
     "start_time": "2022-12-15T10:20:57.413387Z"
    },
    "collapsed": true
   },
   "outputs": [
    {
     "data": {
      "text/html": [
       "<div>\n",
       "<style scoped>\n",
       "    .dataframe tbody tr th:only-of-type {\n",
       "        vertical-align: middle;\n",
       "    }\n",
       "\n",
       "    .dataframe tbody tr th {\n",
       "        vertical-align: top;\n",
       "    }\n",
       "\n",
       "    .dataframe thead th {\n",
       "        text-align: right;\n",
       "    }\n",
       "</style>\n",
       "<table border=\"1\" class=\"dataframe\">\n",
       "  <thead>\n",
       "    <tr style=\"text-align: right;\">\n",
       "      <th></th>\n",
       "      <th>project_id</th>\n",
       "      <th>project_name</th>\n",
       "      <th>resource_id</th>\n",
       "      <th>resource_name</th>\n",
       "      <th>contractor_id</th>\n",
       "      <th>contractor_name</th>\n",
       "      <th>dt</th>\n",
       "      <th>Plan</th>\n",
       "      <th>Fact</th>\n",
       "      <th>Predict_NN</th>\n",
       "    </tr>\n",
       "  </thead>\n",
       "  <tbody>\n",
       "    <tr>\n",
       "      <th>22</th>\n",
       "      <td>23</td>\n",
       "      <td>КС-2 Олекминская Сила Сибири Этап 5.2</td>\n",
       "      <td>30</td>\n",
       "      <td>Кран автомобильный (21-25т)</td>\n",
       "      <td>1</td>\n",
       "      <td>ООО \"СГК-1\"</td>\n",
       "      <td>2021-03-01</td>\n",
       "      <td>15064.347697</td>\n",
       "      <td>2612.04</td>\n",
       "      <td>2743.156494</td>\n",
       "    </tr>\n",
       "    <tr>\n",
       "      <th>23</th>\n",
       "      <td>23</td>\n",
       "      <td>КС-2 Олекминская Сила Сибири Этап 5.2</td>\n",
       "      <td>32</td>\n",
       "      <td>Сварочный агрегат передвижной (гусеничный)</td>\n",
       "      <td>1</td>\n",
       "      <td>ООО \"СГК-1\"</td>\n",
       "      <td>2021-03-01</td>\n",
       "      <td>4045.658071</td>\n",
       "      <td>3366.01</td>\n",
       "      <td>3485.977051</td>\n",
       "    </tr>\n",
       "    <tr>\n",
       "      <th>24</th>\n",
       "      <td>23</td>\n",
       "      <td>КС-2 Олекминская Сила Сибири Этап 5.2</td>\n",
       "      <td>19</td>\n",
       "      <td>Экскаватор гусеничный легкого класса (массой д...</td>\n",
       "      <td>1</td>\n",
       "      <td>ООО \"СГК-1\"</td>\n",
       "      <td>2021-03-01</td>\n",
       "      <td>649.886509</td>\n",
       "      <td>620.00</td>\n",
       "      <td>630.373718</td>\n",
       "    </tr>\n",
       "    <tr>\n",
       "      <th>20</th>\n",
       "      <td>23</td>\n",
       "      <td>КС-2 Олекминская Сила Сибири Этап 5.2</td>\n",
       "      <td>28</td>\n",
       "      <td>Автобетоносмеситель</td>\n",
       "      <td>1</td>\n",
       "      <td>ООО \"СГК-1\"</td>\n",
       "      <td>2021-03-01</td>\n",
       "      <td>8131.646914</td>\n",
       "      <td>1221.00</td>\n",
       "      <td>1224.605469</td>\n",
       "    </tr>\n",
       "    <tr>\n",
       "      <th>44</th>\n",
       "      <td>23</td>\n",
       "      <td>КС-2 Олекминская Сила Сибири Этап 5.2</td>\n",
       "      <td>30</td>\n",
       "      <td>Кран автомобильный (21-25т)</td>\n",
       "      <td>1</td>\n",
       "      <td>ООО \"СГК-1\"</td>\n",
       "      <td>2021-04-01</td>\n",
       "      <td>1605.987568</td>\n",
       "      <td>3250.05</td>\n",
       "      <td>3137.526611</td>\n",
       "    </tr>\n",
       "    <tr>\n",
       "      <th>...</th>\n",
       "      <td>...</td>\n",
       "      <td>...</td>\n",
       "      <td>...</td>\n",
       "      <td>...</td>\n",
       "      <td>...</td>\n",
       "      <td>...</td>\n",
       "      <td>...</td>\n",
       "      <td>...</td>\n",
       "      <td>...</td>\n",
       "      <td>...</td>\n",
       "    </tr>\n",
       "    <tr>\n",
       "      <th>586</th>\n",
       "      <td>17</td>\n",
       "      <td>КС-3 Амгинская Сила Сибири Этап 5.3</td>\n",
       "      <td>28</td>\n",
       "      <td>Автобетоносмеситель</td>\n",
       "      <td>1</td>\n",
       "      <td>ООО \"СГК-1\"</td>\n",
       "      <td>2022-07-01</td>\n",
       "      <td>528.680561</td>\n",
       "      <td>1721.00</td>\n",
       "      <td>507.246307</td>\n",
       "    </tr>\n",
       "    <tr>\n",
       "      <th>459</th>\n",
       "      <td>17</td>\n",
       "      <td>КС-3 Амгинская Сила Сибири Этап 5.3</td>\n",
       "      <td>28</td>\n",
       "      <td>Автобетоносмеситель</td>\n",
       "      <td>1</td>\n",
       "      <td>ООО \"СГК-1\"</td>\n",
       "      <td>2022-08-01</td>\n",
       "      <td>59.481421</td>\n",
       "      <td>1385.00</td>\n",
       "      <td>26.630539</td>\n",
       "    </tr>\n",
       "    <tr>\n",
       "      <th>457</th>\n",
       "      <td>17</td>\n",
       "      <td>КС-3 Амгинская Сила Сибири Этап 5.3</td>\n",
       "      <td>19</td>\n",
       "      <td>Экскаватор гусеничный легкого класса (массой д...</td>\n",
       "      <td>1</td>\n",
       "      <td>ООО \"СГК-1\"</td>\n",
       "      <td>2022-08-01</td>\n",
       "      <td>17.438728</td>\n",
       "      <td>485.00</td>\n",
       "      <td>24.923759</td>\n",
       "    </tr>\n",
       "    <tr>\n",
       "      <th>448</th>\n",
       "      <td>17</td>\n",
       "      <td>КС-3 Амгинская Сила Сибири Этап 5.3</td>\n",
       "      <td>32</td>\n",
       "      <td>Сварочный агрегат передвижной (гусеничный)</td>\n",
       "      <td>1</td>\n",
       "      <td>ООО \"СГК-1\"</td>\n",
       "      <td>2022-08-01</td>\n",
       "      <td>101.826081</td>\n",
       "      <td>809.10</td>\n",
       "      <td>401.715057</td>\n",
       "    </tr>\n",
       "    <tr>\n",
       "      <th>446</th>\n",
       "      <td>17</td>\n",
       "      <td>КС-3 Амгинская Сила Сибири Этап 5.3</td>\n",
       "      <td>30</td>\n",
       "      <td>Кран автомобильный (21-25т)</td>\n",
       "      <td>1</td>\n",
       "      <td>ООО \"СГК-1\"</td>\n",
       "      <td>2022-08-01</td>\n",
       "      <td>173.604735</td>\n",
       "      <td>7496.00</td>\n",
       "      <td>104.443245</td>\n",
       "    </tr>\n",
       "  </tbody>\n",
       "</table>\n",
       "<p>119 rows × 10 columns</p>\n",
       "</div>"
      ],
      "text/plain": [
       "     project_id                           project_name  resource_id  \\\n",
       "22           23  КС-2 Олекминская Сила Сибири Этап 5.2           30   \n",
       "23           23  КС-2 Олекминская Сила Сибири Этап 5.2           32   \n",
       "24           23  КС-2 Олекминская Сила Сибири Этап 5.2           19   \n",
       "20           23  КС-2 Олекминская Сила Сибири Этап 5.2           28   \n",
       "44           23  КС-2 Олекминская Сила Сибири Этап 5.2           30   \n",
       "..          ...                                    ...          ...   \n",
       "586          17    КС-3 Амгинская Сила Сибири Этап 5.3           28   \n",
       "459          17    КС-3 Амгинская Сила Сибири Этап 5.3           28   \n",
       "457          17    КС-3 Амгинская Сила Сибири Этап 5.3           19   \n",
       "448          17    КС-3 Амгинская Сила Сибири Этап 5.3           32   \n",
       "446          17    КС-3 Амгинская Сила Сибири Этап 5.3           30   \n",
       "\n",
       "                                         resource_name  contractor_id  \\\n",
       "22                         Кран автомобильный (21-25т)              1   \n",
       "23          Сварочный агрегат передвижной (гусеничный)              1   \n",
       "24   Экскаватор гусеничный легкого класса (массой д...              1   \n",
       "20                                 Автобетоносмеситель              1   \n",
       "44                         Кран автомобильный (21-25т)              1   \n",
       "..                                                 ...            ...   \n",
       "586                                Автобетоносмеситель              1   \n",
       "459                                Автобетоносмеситель              1   \n",
       "457  Экскаватор гусеничный легкого класса (массой д...              1   \n",
       "448         Сварочный агрегат передвижной (гусеничный)              1   \n",
       "446                        Кран автомобильный (21-25т)              1   \n",
       "\n",
       "    contractor_name         dt          Plan     Fact   Predict_NN  \n",
       "22      ООО \"СГК-1\" 2021-03-01  15064.347697  2612.04  2743.156494  \n",
       "23      ООО \"СГК-1\" 2021-03-01   4045.658071  3366.01  3485.977051  \n",
       "24      ООО \"СГК-1\" 2021-03-01    649.886509   620.00   630.373718  \n",
       "20      ООО \"СГК-1\" 2021-03-01   8131.646914  1221.00  1224.605469  \n",
       "44      ООО \"СГК-1\" 2021-04-01   1605.987568  3250.05  3137.526611  \n",
       "..              ...        ...           ...      ...          ...  \n",
       "586     ООО \"СГК-1\" 2022-07-01    528.680561  1721.00   507.246307  \n",
       "459     ООО \"СГК-1\" 2022-08-01     59.481421  1385.00    26.630539  \n",
       "457     ООО \"СГК-1\" 2022-08-01     17.438728   485.00    24.923759  \n",
       "448     ООО \"СГК-1\" 2022-08-01    101.826081   809.10   401.715057  \n",
       "446     ООО \"СГК-1\" 2022-08-01    173.604735  7496.00   104.443245  \n",
       "\n",
       "[119 rows x 10 columns]"
      ]
     },
     "execution_count": 23,
     "metadata": {},
     "output_type": "execute_result"
    }
   ],
   "source": [
    "df_new = df_new.loc[:,['proj_id','project_name','res_id','resource_name', 'contr_id', 'contractor_name','dt','Plan','Fact','Predict_NN']]\n",
    "\n",
    "df_new.columns = ['project_id','project_name','resource_id','resource_name','contractor_id','contractor_name','dt','Plan','Fact','Predict_NN']\n",
    "df_new.to_excel('./data/4_to_export/filled_template.xlsx', index=False,sheet_name = 'top_left')\n",
    "df_new             \n"
   ]
  },
  {
   "cell_type": "markdown",
   "id": "9679ebc3",
   "metadata": {},
   "source": [
    "### predict на будущих данных - 2023 год. Для Top Left и Bottom Left"
   ]
  },
  {
   "cell_type": "markdown",
   "id": "740d0de6",
   "metadata": {},
   "source": [
    "#### Загружаем и обрабатываем сырые данные из Primavera"
   ]
  },
  {
   "cell_type": "code",
   "execution_count": 7,
   "id": "1629fbe4",
   "metadata": {
    "ExecuteTime": {
     "end_time": "2022-12-21T05:46:21.552700Z",
     "start_time": "2022-12-21T05:46:21.266707Z"
    }
   },
   "outputs": [],
   "source": [
    "#res_id\n",
    "mech_res_dict = np.load( './scripts/3_final/mech_res_dict.npy', allow_pickle=True).item()\n",
    "c = pd.read_excel('./data/Needed_materials/mech_missed_ids.xlsx',usecols=[0,1],).dropna()\n",
    "c = c.set_index('missed_name').id.astype( int ).to_dict()\n",
    "mech_res_dict = {**c,**mech_res_dict}\n"
   ]
  },
  {
   "cell_type": "code",
   "execution_count": 12,
   "id": "5a51d2a9",
   "metadata": {
    "ExecuteTime": {
     "end_time": "2022-12-21T05:57:36.280214Z",
     "start_time": "2022-12-21T05:57:36.073223Z"
    }
   },
   "outputs": [
    {
     "name": "stdout",
     "output_type": "stream",
     "text": [
      "1774\n",
      "Done. a shape =  (1774, 378)\n",
      "Non zero shape =  (1719, 378)\n"
     ]
    }
   ],
   "source": [
    "df = pd.read_excel('./data/4_to_export/predict_template_top_left/KS_2.xlsx',\n",
    "                   usecols= ['PO_id','dt', 'resource_name', 'id_resource', 'remain_qty'])\n",
    "\n",
    "\n",
    "a = np.zeros((len(df),378))\n",
    "\n",
    "# КС-2 = 23 , КС-3 = 17\n",
    "a[:,0] = 23\n",
    "\n",
    "#res_id\n",
    "df['res_id'] = df.resource_name.map(mech_res_dict)\n",
    "assert sum(pd.isna(df.res_id)) == 0, 'есть пустые машины'\n",
    "\n",
    "#contr_id = 1 (СГК)\n",
    "a[:,1] = 1 \n",
    "\n",
    "# month year\n",
    "from datetime import datetime \n",
    "df['dt'] = df.dt.apply( lambda x: datetime.strptime(str(x), '%Y-%m-%d %H:%M:%S.000'))\n",
    "df['month'] = df.dt.dt.month\n",
    "df['year'] = df.dt.dt.year - 2021\n",
    "\n",
    "\n",
    "for j,i in enumerate(df.groupby(['res_id','year','month','PO_id'])):\n",
    "    # заполняем year month res \n",
    "    a[j,-1] = i[0][0]\n",
    "    a[j,-2] = i[0][1]\n",
    "    a[j,-3] = i[0][2]\n",
    "    # PO number\n",
    "    po_number = int( str(i[0][-1])[2:] )\n",
    "    a[j,po_number+1] = i[1].remain_qty.sum()\n",
    "\n",
    "    #if j == 5:break\n",
    "    \n",
    "print(j)\n",
    "a = a[:j]\n",
    "print('Done. a shape = ', a.shape )   \n",
    "a = a[np.sum(a[:,2:374],axis=1) > 0.1 ]\n",
    "print('Non zero shape = ',a.shape)\n",
    "\n",
    "# заполняем features\n",
    "feat = np.zeros([1,378])\n",
    "\n",
    "feat = np.concatenate((feat,a))\n",
    "\n",
    "feat = feat[1:]"
   ]
  },
  {
   "cell_type": "code",
   "execution_count": 18,
   "id": "05740d54",
   "metadata": {
    "ExecuteTime": {
     "end_time": "2022-12-21T06:14:13.351860Z",
     "start_time": "2022-12-21T06:11:58.821823Z"
    },
    "code_folding": [],
    "scrolled": true
   },
   "outputs": [
    {
     "name": "stdout",
     "output_type": "stream",
     "text": [
      "5650\n",
      "Done. a shape =  (5650, 378)\n",
      "Non zero shape =  (3013, 378)\n"
     ]
    },
    {
     "data": {
      "text/plain": [
       "(4732, 378)"
      ]
     },
     "execution_count": 18,
     "metadata": {},
     "output_type": "execute_result"
    }
   ],
   "source": [
    "df = pd.read_excel('./data/4_to_export/predict_template_top_left/Этап_5_3_Компрессорная_станция_КС_3_«Амгинская» (2).xlsx',\n",
    "                   usecols= ['PO_id','dt', 'resource_name', 'id_resource', 'act_reg_qty'])\n",
    "\n",
    "\n",
    "a = np.zeros((len(df),378))\n",
    "\n",
    "# КС-2 = 23 , КС-3 = 17\n",
    "a[:,0] = 17\n",
    "\n",
    "#res_id\n",
    "df['res_id'] = df.resource_name.map(mech_res_dict)\n",
    "assert sum(pd.isna(df.res_id)) == 0, 'есть пустые машины'\n",
    "\n",
    "#contr_id = 1 (СГК)\n",
    "a[:,1] = 1 \n",
    "\n",
    "# month year\n",
    "from datetime import datetime \n",
    "df['month'] = df.dt.dt.month\n",
    "df['year'] = df.dt.dt.year - 2021\n",
    "\n",
    "\n",
    "for j,i in enumerate(df.groupby(['res_id','year','month','PO_id'])):\n",
    "    #print(j)\n",
    "    #print(i[0])\n",
    "    a[j,-1] = i[0][0]\n",
    "    a[j,-2] = i[0][1]\n",
    "    a[j,-3] = i[0][2]\n",
    "    # PO number\n",
    "    po_number = int( str(i[0][-1])[2:] )\n",
    "    a[j,po_number+1] = i[1].act_reg_qty.sum()\n",
    "\n",
    "    \n",
    "print(j)\n",
    "a = a[:j]\n",
    "print('Done. a shape = ', a.shape )    \n",
    "a = a[np.sum(a[:,2:374],axis=1) > 0.1 ]\n",
    "print('Non zero shape = ',a.shape)\n",
    "\n",
    "# заполняем features\n",
    "feat = np.concatenate((feat,a))\n",
    "\n",
    "\n",
    "\n",
    "feat.shape"
   ]
  },
  {
   "cell_type": "code",
   "execution_count": 13,
   "id": "116fc247",
   "metadata": {
    "ExecuteTime": {
     "end_time": "2022-12-21T05:58:02.348235Z",
     "start_time": "2022-12-21T05:58:02.340229Z"
    }
   },
   "outputs": [
    {
     "data": {
      "text/plain": [
       "1719"
      ]
     },
     "execution_count": 13,
     "metadata": {},
     "output_type": "execute_result"
    }
   ],
   "source": [
    " #проверка чтобы в каждом ряду было одно значение\n",
    "np.count_nonzero(np.sum(feat[:,2:374],axis=1))"
   ]
  },
  {
   "cell_type": "code",
   "execution_count": 19,
   "id": "6c8ab040",
   "metadata": {
    "ExecuteTime": {
     "end_time": "2022-12-21T06:14:13.367860Z",
     "start_time": "2022-12-21T06:14:13.353861Z"
    }
   },
   "outputs": [
    {
     "data": {
      "text/plain": [
       "4732"
      ]
     },
     "execution_count": 19,
     "metadata": {},
     "output_type": "execute_result"
    }
   ],
   "source": [
    " #проверка чтобы в каждом ряду было одно значение\n",
    "np.count_nonzero(np.sum(feat[:,2:374],axis=1))"
   ]
  },
  {
   "cell_type": "code",
   "execution_count": 20,
   "id": "253f1901",
   "metadata": {
    "ExecuteTime": {
     "end_time": "2022-12-21T06:14:13.399861Z",
     "start_time": "2022-12-21T06:14:13.368862Z"
    }
   },
   "outputs": [
    {
     "data": {
      "text/plain": [
       "0"
      ]
     },
     "execution_count": 20,
     "metadata": {},
     "output_type": "execute_result"
    }
   ],
   "source": [
    "# проверка количество PO в каждом ряду только одно\n",
    "sum(np.count_nonzero(feat[:,2:374],axis=1) > 1)"
   ]
  },
  {
   "cell_type": "code",
   "execution_count": 24,
   "id": "3b61c146",
   "metadata": {
    "ExecuteTime": {
     "end_time": "2022-12-21T06:14:34.823866Z",
     "start_time": "2022-12-21T06:14:34.813867Z"
    }
   },
   "outputs": [],
   "source": [
    "#save \n",
    "np.save('./data/4_to_export/predict_template_top_left/feat.npy',feat,allow_pickle=True)"
   ]
  },
  {
   "cell_type": "markdown",
   "id": "3712fe50",
   "metadata": {},
   "source": [
    "#### добавляем \n",
    "- предикт только по новым данным и\n",
    "- проверить предикт по зимним месяцам"
   ]
  },
  {
   "cell_type": "code",
   "execution_count": 23,
   "id": "679325c7",
   "metadata": {
    "ExecuteTime": {
     "end_time": "2022-12-20T13:08:52.641860Z",
     "start_time": "2022-12-20T13:08:52.630860Z"
    }
   },
   "outputs": [
    {
     "data": {
      "text/plain": [
       "(Timestamp('2021-03-01 00:00:00'), Timestamp('2022-08-01 00:00:00'))"
      ]
     },
     "execution_count": 23,
     "metadata": {},
     "output_type": "execute_result"
    }
   ],
   "source": [
    "df_new  = pd.read_excel('./data/4_to_export/filled_template.xlsx')\n",
    "min(df_new.dt), max(df_new.dt)"
   ]
  },
  {
   "cell_type": "markdown",
   "id": "1b78e20a",
   "metadata": {},
   "source": [
    "значит делаем предикт по следующему за 08 месяцем - то бишь предикт все, что дальше сентября"
   ]
  },
  {
   "cell_type": "code",
   "execution_count": 6,
   "id": "619df4e8",
   "metadata": {
    "ExecuteTime": {
     "end_time": "2022-12-21T06:15:59.681737Z",
     "start_time": "2022-12-21T06:15:59.669673Z"
    }
   },
   "outputs": [],
   "source": [
    "#load \n",
    "feat = np.load('./data/4_to_export/predict_template_top_left/feat.npy',allow_pickle=True)"
   ]
  },
  {
   "cell_type": "code",
   "execution_count": 7,
   "id": "c1c2733e",
   "metadata": {
    "ExecuteTime": {
     "end_time": "2022-12-21T06:16:00.863950Z",
     "start_time": "2022-12-21T06:16:00.848010Z"
    }
   },
   "outputs": [
    {
     "data": {
      "text/plain": [
       "(4061, 378)"
      ]
     },
     "execution_count": 7,
     "metadata": {},
     "output_type": "execute_result"
    }
   ],
   "source": [
    "# все что в 2022 годы после 8 месяца и весь 2023 год\n",
    "features_numpy = feat[(feat[:,-2]==1) & (feat[:,-3]>8) | (feat[:,-2]==2) ]\n",
    "features_numpy.shape"
   ]
  },
  {
   "cell_type": "code",
   "execution_count": 8,
   "id": "5b0e73e0",
   "metadata": {
    "ExecuteTime": {
     "end_time": "2022-12-21T06:16:02.288700Z",
     "start_time": "2022-12-21T06:16:02.274046Z"
    }
   },
   "outputs": [
    {
     "data": {
      "text/plain": [
       "(732, 378)"
      ]
     },
     "execution_count": 8,
     "metadata": {},
     "output_type": "execute_result"
    }
   ],
   "source": [
    "# получаем предикт только по указанным в \"ids\" машинам\n",
    "ids = [30, 28,19,32 ]\n",
    "\n",
    "features_numpy = features_numpy[np.array([True if i in ids else False for i in features_numpy[:,-1]]) ]\n",
    "\n",
    "features_numpy.shape"
   ]
  },
  {
   "cell_type": "code",
   "execution_count": 23,
   "id": "c0c4e727",
   "metadata": {
    "ExecuteTime": {
     "end_time": "2022-12-21T06:14:13.447860Z",
     "start_time": "2022-12-21T06:14:13.432861Z"
    }
   },
   "outputs": [
    {
     "data": {
      "text/plain": [
       "array([19., 28., 30., 32.])"
      ]
     },
     "execution_count": 23,
     "metadata": {},
     "output_type": "execute_result"
    }
   ],
   "source": [
    "pd.unique(features_numpy[features_numpy[:,0]==23,-1])"
   ]
  },
  {
   "cell_type": "markdown",
   "id": "0aaecaa6",
   "metadata": {
    "ExecuteTime": {
     "end_time": "2022-12-20T13:05:35.654836Z",
     "start_time": "2022-12-20T13:05:35.636742Z"
    }
   },
   "source": [
    "#### Bottom Left Predict на 2023 год \n",
    "Так как данные в примавере хранятся в виде Bottom Left, то начинаем строить предикт с него.  \n",
    "\n",
    "графика СНИЗУ СЛЕВА"
   ]
  },
  {
   "cell_type": "code",
   "execution_count": null,
   "id": "e6cb5354",
   "metadata": {
    "ExecuteTime": {
     "end_time": "2022-12-20T13:05:35.654836Z",
     "start_time": "2022-12-20T13:05:35.636742Z"
    }
   },
   "outputs": [],
   "source": [
    "# predict для каждой PO по отдельности - то  есть для графика СНИЗУ СЛЕВА"
   ]
  },
  {
   "cell_type": "code",
   "execution_count": 15,
   "id": "eacdbe64",
   "metadata": {
    "ExecuteTime": {
     "end_time": "2022-12-21T06:16:19.476059Z",
     "start_time": "2022-12-21T06:16:19.457061Z"
    }
   },
   "outputs": [
    {
     "data": {
      "text/plain": [
       "predict_hours_net(\n",
       "  (activity_dense): positive_weights_linear()\n",
       "  (proj_dense): Linear(in_features=23, out_features=1, bias=False)\n",
       "  (contractor_dense): Linear(in_features=4, out_features=1, bias=False)\n",
       "  (year_dense): Linear(in_features=2, out_features=1, bias=True)\n",
       "  (month_dense): Linear(in_features=12, out_features=1, bias=False)\n",
       ")"
      ]
     },
     "execution_count": 15,
     "metadata": {},
     "output_type": "execute_result"
    }
   ],
   "source": [
    "device = torch.device('cuda' if torch.cuda.is_available() else 'cpu')\n",
    "net.to(device)"
   ]
  },
  {
   "cell_type": "code",
   "execution_count": 50,
   "id": "ddda963f",
   "metadata": {
    "ExecuteTime": {
     "end_time": "2022-12-21T07:11:25.947916Z",
     "start_time": "2022-12-21T07:11:25.884915Z"
    },
    "code_folding": []
   },
   "outputs": [
    {
     "name": "stdout",
     "output_type": "stream",
     "text": [
      "features length 2022+2023 year =  732\n",
      "predict length 2022 year =  298\n",
      "predict length 2022+2023 year =  732\n"
     ]
    }
   ],
   "source": [
    "# функция предикта\n",
    "def predit_torch(ft):\n",
    "    pd = []\n",
    "    ft_torch = torch.from_numpy(ft).to(torch.float)\n",
    "    net.eval()   # Set model to evaluate mode\n",
    "    for i in range(ft_torch.shape[0]):\n",
    "        with torch.no_grad():\n",
    "            pred = net(ft_torch[i])\n",
    "            pd.append(pred.tolist())\n",
    "    \n",
    "    return pd\n",
    "\n",
    "print('features length 2022+2023 year = ', features_numpy.shape[0])\n",
    "\n",
    "\n",
    "# сортируем массив - Обязательно\n",
    "features_numpy = features_numpy[features_numpy[:,-2].argsort()]\n",
    "the_first_2023_year = np.where(features_numpy[:,-2]==2)[0][0]\n",
    "\n",
    "predict = []\n",
    "\n",
    "# changing month\n",
    "features_numpy[:,-3] = features_numpy[:,-3] -1\n",
    "\n",
    "# сначала делаем предикт на 2022 году\n",
    "the_2022_year_last_pos = np.where(features_numpy[:,-2]==2)[0][0]\n",
    "predict = predit_torch(features_numpy[:the_2022_year_last_pos])\n",
    "print('predict length 2022 year = ', len(predict))\n",
    "\n",
    " # потом делаем предикт на 2023 год\n",
    "## меняем 2023 год на 2022 чтобы использовать веса 2022 года - так как нет весов 2023 года\n",
    "features_numpy[the_2022_year_last_pos:,-2]=1 \n",
    "predict.extend( predit_torch( features_numpy[the_2022_year_last_pos:] ) )\n",
    "## возвращаем 2023 год \n",
    "features_numpy[the_2022_year_last_pos:,-2] =2\n",
    "print('predict length 2022+2023 year = ', len(predict))\n",
    "\n",
    "# resuming month\n",
    "features_numpy[:,-3] = features_numpy[:,-3] +1"
   ]
  },
  {
   "cell_type": "code",
   "execution_count": 22,
   "id": "d6bf9913",
   "metadata": {
    "ExecuteTime": {
     "end_time": "2022-12-21T06:43:39.067086Z",
     "start_time": "2022-12-21T06:43:39.055075Z"
    }
   },
   "outputs": [],
   "source": [
    "df = pd.DataFrame(features_numpy[:,:2], columns=['proj_id','contr_id'],dtype=int)\n",
    "\n",
    "df['res_id'] = features_numpy[:,-1].astype( int )\n",
    "df['month'] = features_numpy[:,-3].astype( int ) + 1\n",
    "df['year'] = features_numpy[:,-2].astype( int ) + 2021\n",
    "\n",
    "df['dt'] = df['year'].astype(str) + '-' + df['month'].astype(str)+ '-01'\n",
    "\n",
    "df['dt'] = df.dt.apply( lambda x: datetime.strptime(str(x), '%Y-%m-%d'))\n",
    "\n",
    "non_zero_pos = np.nonzero(features_numpy[:,2:375])[1]+2\n",
    "df['PO_id'] = non_zero_pos\n",
    "\n",
    "df['Predict_NN'] = predict\n",
    "\n",
    "df['Fact'] = features_numpy[np.nonzero(features_numpy[:,2:375])[0],non_zero_pos ]"
   ]
  },
  {
   "cell_type": "code",
   "execution_count": 53,
   "id": "bf59f7e7",
   "metadata": {
    "ExecuteTime": {
     "end_time": "2022-12-21T08:00:43.539537Z",
     "start_time": "2022-12-21T08:00:43.446594Z"
    }
   },
   "outputs": [],
   "source": [
    "df.to_excel('./data/4_to_export/predict_template_top_left/bottom_left.xlsx')"
   ]
  },
  {
   "cell_type": "code",
   "execution_count": null,
   "id": "6a5cb32d",
   "metadata": {},
   "outputs": [],
   "source": []
  },
  {
   "cell_type": "code",
   "execution_count": 67,
   "id": "0c7c5b00",
   "metadata": {
    "ExecuteTime": {
     "end_time": "2022-12-21T08:22:14.264857Z",
     "start_time": "2022-12-21T08:22:14.053850Z"
    }
   },
   "outputs": [],
   "source": [
    "# project_ids_names\n",
    "stages = pd.read_excel('./data/Needed_materials/stages_2022_12_14.xlsx',usecols=[1,2])\n",
    "proj_ids_dict = stages.set_index('id').project_name.to_dict()\n",
    "df['project_name'] = df.proj_id.map(proj_ids_dict)\n",
    "assert sum(pd.isna(df.project_name))==0 , 'пустые проекты'"
   ]
  },
  {
   "cell_type": "code",
   "execution_count": 68,
   "id": "f6fbe5d6",
   "metadata": {
    "ExecuteTime": {
     "end_time": "2022-12-21T08:22:25.908796Z",
     "start_time": "2022-12-21T08:22:25.885799Z"
    }
   },
   "outputs": [],
   "source": [
    "#res_id\n",
    "mech_res_dict = np.load( './scripts/3_final/mech_res_dict.npy', allow_pickle=True).item()\n",
    "c = pd.read_excel('./data/Needed_materials/mech_missed_ids.xlsx',usecols=[0,1],).dropna()\n",
    "c = c.set_index('missed_name').id.astype( int ).to_dict()\n",
    "mech_res_dict = {**c,**mech_res_dict}\n",
    "\n",
    "mech_res_dict_ids = {v:k for k,v in mech_res_dict.items()}\n",
    "df['resource_name'] = df.res_id.map(mech_res_dict_ids)\n",
    "assert sum(pd.isna(df.resource_name)) == 0, 'есть пустые машины'"
   ]
  },
  {
   "cell_type": "code",
   "execution_count": 87,
   "id": "43cad08d",
   "metadata": {
    "ExecuteTime": {
     "end_time": "2022-12-21T08:29:45.659186Z",
     "start_time": "2022-12-21T08:29:45.650190Z"
    }
   },
   "outputs": [],
   "source": [
    "# contr name\n",
    "new_contractor_dict = {'АО \"Стройтранснефтегаз\"': 0,\n",
    "  'ООО \"СГК-1\"': 1,\n",
    "  'ООО \"ССК \"Газрегион\"': 2,\n",
    "  'ООО \"Велесстрой\"': 3}\n",
    "\n",
    "new_contractor_dict_ids = {v:k for k,v in new_contractor_dict.items()}\n",
    "\n",
    "df['contractor_name'] = df.contr_id.map(new_contractor_dict_ids)\n",
    "assert sum(pd.isna(df.contr_id)) == 0, 'есть пустые контракторы'\n"
   ]
  },
  {
   "cell_type": "code",
   "execution_count": 90,
   "id": "426f591f",
   "metadata": {
    "ExecuteTime": {
     "end_time": "2022-12-21T08:31:05.905960Z",
     "start_time": "2022-12-21T08:31:03.632958Z"
    },
    "collapsed": true
   },
   "outputs": [
    {
     "data": {
      "image/png": "[encoded data removed]",
      "text/plain": [
       "<Figure size 864x360 with 1 Axes>"
      ]
     },
     "metadata": {
      "needs_background": "light"
     },
     "output_type": "display_data"
    },
    {
     "data": {
      "image/png": "[encoded data removed]",
      "text/plain": [
       "<Figure size 864x360 with 1 Axes>"
      ]
     },
     "metadata": {
      "needs_background": "light"
     },
     "output_type": "display_data"
    },
    {
     "data": {
      "image/png": "[encoded data removed]",
      "text/plain": [
       "<Figure size 864x360 with 1 Axes>"
      ]
     },
     "metadata": {
      "needs_background": "light"
     },
     "output_type": "display_data"
    },
    {
     "data": {
      "image/png": "[encoded data removed]",
      "text/plain": [
       "<Figure size 864x360 with 1 Axes>"
      ]
     },
     "metadata": {
      "needs_background": "light"
     },
     "output_type": "display_data"
    },
    {
     "data": {
      "image/png": "[encoded data removed]",
      "text/plain": [
       "<Figure size 864x360 with 1 Axes>"
      ]
     },
     "metadata": {
      "needs_background": "light"
     },
     "output_type": "display_data"
    },
    {
     "data": {
      "image/png": "[encoded data removed]",
      "text/plain": [
       "<Figure size 864x360 with 1 Axes>"
      ]
     },
     "metadata": {
      "needs_background": "light"
     },
     "output_type": "display_data"
    },
    {
     "data": {
      "image/png": "[encoded data removed]",
      "text/plain": [
       "<Figure size 864x360 with 1 Axes>"
      ]
     },
     "metadata": {
      "needs_background": "light"
     },
     "output_type": "display_data"
    },
    {
     "data": {
      "image/png": "[encoded data removed]",
      "text/plain": [
       "<Figure size 864x360 with 1 Axes>"
      ]
     },
     "metadata": {
      "needs_background": "light"
     },
     "output_type": "display_data"
    }
   ],
   "source": [
    "# проверка графиков\n",
    "for p in pd.unique(df.proj_id):\n",
    "    for r in pd.unique(df.res_id):\n",
    "        a = df.loc[(df.proj_id==p) & (df.res_id==r)]\n",
    "        plt.title(f'proj = {proj_ids_dict[p]}, res = {mech_res_dict_ids.get(r)}')\n",
    "        plt.bar(a.dt, a.Fact.sum(),label='Fact',width= 10)\n",
    "        plt.bar(a.dt, a.Predict_NN.sum(),label='Predict_NN',width=3)\n",
    "        plt.legend(loc='best');\n",
    "        plt.show()\n",
    "        "
   ]
  },
  {
   "cell_type": "markdown",
   "id": "1853dc01",
   "metadata": {},
   "source": [
    "####  Bottom Left  Выгружаем (создаем PO_name)"
   ]
  },
  {
   "cell_type": "code",
   "execution_count": 97,
   "id": "e4d669c3",
   "metadata": {
    "ExecuteTime": {
     "end_time": "2022-12-21T08:34:09.523034Z",
     "start_time": "2022-12-21T08:34:09.514962Z"
    }
   },
   "outputs": [],
   "source": [
    "# PO создаем\n",
    "norms_ids_dict = np.load('./data/Needed_materials/Norms_ids_dict.npy', allow_pickle=True).item()\n",
    "l = [ int(str(k)[2:]) if str(k)[2:].isnumeric() else str(k)[2:] for k in norms_ids_dict.keys()]\n",
    "norms_dict = dict(zip(l,norms_ids_dict.values()))\n",
    "df['PO_name'] = df.PO_id.map(norms_dict)"
   ]
  },
  {
   "cell_type": "code",
   "execution_count": 100,
   "id": "407ea10f",
   "metadata": {
    "ExecuteTime": {
     "end_time": "2022-12-21T08:36:02.192042Z",
     "start_time": "2022-12-21T08:36:02.092043Z"
    }
   },
   "outputs": [
    {
     "data": {
      "text/html": [
       "<div>\n",
       "<style scoped>\n",
       "    .dataframe tbody tr th:only-of-type {\n",
       "        vertical-align: middle;\n",
       "    }\n",
       "\n",
       "    .dataframe tbody tr th {\n",
       "        vertical-align: top;\n",
       "    }\n",
       "\n",
       "    .dataframe thead th {\n",
       "        text-align: right;\n",
       "    }\n",
       "</style>\n",
       "<table border=\"1\" class=\"dataframe\">\n",
       "  <thead>\n",
       "    <tr style=\"text-align: right;\">\n",
       "      <th></th>\n",
       "      <th>project_id</th>\n",
       "      <th>project_name</th>\n",
       "      <th>resource_id</th>\n",
       "      <th>resource_name</th>\n",
       "      <th>contractor_id</th>\n",
       "      <th>contractor_name</th>\n",
       "      <th>PO_id</th>\n",
       "      <th>PO_name</th>\n",
       "      <th>dt</th>\n",
       "      <th>Fact</th>\n",
       "      <th>Predict_NN</th>\n",
       "    </tr>\n",
       "  </thead>\n",
       "  <tbody>\n",
       "    <tr>\n",
       "      <th>0</th>\n",
       "      <td>23</td>\n",
       "      <td>КС-2 Олекминская Сила Сибири Этап 5.2</td>\n",
       "      <td>19</td>\n",
       "      <td>Экскаватор гусеничный легкого класса (массой д...</td>\n",
       "      <td>1</td>\n",
       "      <td>ООО \"СГК-1\"</td>\n",
       "      <td>28</td>\n",
       "      <td>Монтаж м/к (лестницы, площадки обслуживания)</td>\n",
       "      <td>2022-09-01</td>\n",
       "      <td>12.372202</td>\n",
       "      <td>5.554081</td>\n",
       "    </tr>\n",
       "    <tr>\n",
       "      <th>1</th>\n",
       "      <td>23</td>\n",
       "      <td>КС-2 Олекминская Сила Сибири Этап 5.2</td>\n",
       "      <td>19</td>\n",
       "      <td>Экскаватор гусеничный легкого класса (массой д...</td>\n",
       "      <td>1</td>\n",
       "      <td>ООО \"СГК-1\"</td>\n",
       "      <td>29</td>\n",
       "      <td>АКЗ м/к</td>\n",
       "      <td>2022-09-01</td>\n",
       "      <td>47.207387</td>\n",
       "      <td>79.967346</td>\n",
       "    </tr>\n",
       "    <tr>\n",
       "      <th>2</th>\n",
       "      <td>23</td>\n",
       "      <td>КС-2 Олекминская Сила Сибири Этап 5.2</td>\n",
       "      <td>19</td>\n",
       "      <td>Экскаватор гусеничный легкого класса (массой д...</td>\n",
       "      <td>1</td>\n",
       "      <td>ООО \"СГК-1\"</td>\n",
       "      <td>282</td>\n",
       "      <td>Монтаж ограждения площадки (Dfence Prof) (мета...</td>\n",
       "      <td>2022-10-01</td>\n",
       "      <td>25.305363</td>\n",
       "      <td>7.747723</td>\n",
       "    </tr>\n",
       "    <tr>\n",
       "      <th>3</th>\n",
       "      <td>23</td>\n",
       "      <td>КС-2 Олекминская Сила Сибири Этап 5.2</td>\n",
       "      <td>19</td>\n",
       "      <td>Экскаватор гусеничный легкого класса (массой д...</td>\n",
       "      <td>1</td>\n",
       "      <td>ООО \"СГК-1\"</td>\n",
       "      <td>298</td>\n",
       "      <td>Изготовление и монтаж дренажного колодца (Ду17...</td>\n",
       "      <td>2022-11-01</td>\n",
       "      <td>261.444187</td>\n",
       "      <td>660.366211</td>\n",
       "    </tr>\n",
       "    <tr>\n",
       "      <th>4</th>\n",
       "      <td>23</td>\n",
       "      <td>КС-2 Олекминская Сила Сибири Этап 5.2</td>\n",
       "      <td>19</td>\n",
       "      <td>Экскаватор гусеничный легкого класса (массой д...</td>\n",
       "      <td>1</td>\n",
       "      <td>ООО \"СГК-1\"</td>\n",
       "      <td>32</td>\n",
       "      <td>Монтаж ограждающих конструкций (стеновые и кро...</td>\n",
       "      <td>2022-11-01</td>\n",
       "      <td>124.242000</td>\n",
       "      <td>64.837410</td>\n",
       "    </tr>\n",
       "  </tbody>\n",
       "</table>\n",
       "</div>"
      ],
      "text/plain": [
       "   project_id                           project_name  resource_id  \\\n",
       "0          23  КС-2 Олекминская Сила Сибири Этап 5.2           19   \n",
       "1          23  КС-2 Олекминская Сила Сибири Этап 5.2           19   \n",
       "2          23  КС-2 Олекминская Сила Сибири Этап 5.2           19   \n",
       "3          23  КС-2 Олекминская Сила Сибири Этап 5.2           19   \n",
       "4          23  КС-2 Олекминская Сила Сибири Этап 5.2           19   \n",
       "\n",
       "                                       resource_name  contractor_id  \\\n",
       "0  Экскаватор гусеничный легкого класса (массой д...              1   \n",
       "1  Экскаватор гусеничный легкого класса (массой д...              1   \n",
       "2  Экскаватор гусеничный легкого класса (массой д...              1   \n",
       "3  Экскаватор гусеничный легкого класса (массой д...              1   \n",
       "4  Экскаватор гусеничный легкого класса (массой д...              1   \n",
       "\n",
       "  contractor_name  PO_id                                            PO_name  \\\n",
       "0     ООО \"СГК-1\"     28       Монтаж м/к (лестницы, площадки обслуживания)   \n",
       "1     ООО \"СГК-1\"     29                                            АКЗ м/к   \n",
       "2     ООО \"СГК-1\"    282  Монтаж ограждения площадки (Dfence Prof) (мета...   \n",
       "3     ООО \"СГК-1\"    298  Изготовление и монтаж дренажного колодца (Ду17...   \n",
       "4     ООО \"СГК-1\"     32  Монтаж ограждающих конструкций (стеновые и кро...   \n",
       "\n",
       "          dt        Fact  Predict_NN  \n",
       "0 2022-09-01   12.372202    5.554081  \n",
       "1 2022-09-01   47.207387   79.967346  \n",
       "2 2022-10-01   25.305363    7.747723  \n",
       "3 2022-11-01  261.444187  660.366211  \n",
       "4 2022-11-01  124.242000   64.837410  "
      ]
     },
     "execution_count": 100,
     "metadata": {},
     "output_type": "execute_result"
    }
   ],
   "source": [
    "# объединяем и выгружаем\n",
    "df_pred = df.loc[:,['proj_id','project_name','res_id','resource_name', 'contr_id', 'contractor_name','PO_id','PO_name','dt','Fact','Predict_NN']]\n",
    "\n",
    "df_pred.columns = ['project_id','project_name','resource_id','resource_name','contractor_id','contractor_name','PO_id','PO_name','dt','Fact','Predict_NN']\n",
    "df_pred.to_excel('./data/4_to_export/filled_template_bottom_left_predict_2023.xlsx', index=False,sheet_name = 'bottom_left')\n",
    "df_pred.head()             \n"
   ]
  },
  {
   "cell_type": "code",
   "execution_count": 101,
   "id": "83cb3ba1",
   "metadata": {
    "ExecuteTime": {
     "end_time": "2022-12-21T08:36:30.560449Z",
     "start_time": "2022-12-21T08:36:30.458230Z"
    }
   },
   "outputs": [],
   "source": [
    "# сохраняем result так как он понадобится для графика Bottom_right\n",
    "df.to_excel('./data/4_to_export/df_predict_2023.xlsx', index=False)"
   ]
  },
  {
   "cell_type": "markdown",
   "id": "94f5989a",
   "metadata": {},
   "source": [
    "#### Top Left   на 2023 год (обрабатываем Bottom Left предикт на 2023 год )"
   ]
  },
  {
   "cell_type": "code",
   "execution_count": 118,
   "id": "4de5c879",
   "metadata": {
    "ExecuteTime": {
     "end_time": "2022-12-21T09:05:07.118354Z",
     "start_time": "2022-12-21T09:05:07.101357Z"
    }
   },
   "outputs": [
    {
     "name": "stdout",
     "output_type": "stream",
     "text": [
      "Done\n"
     ]
    }
   ],
   "source": [
    "res = []\n",
    "\n",
    "for i in df.groupby(['proj_id','res_id','year','month']):\n",
    "    #print(i[0])\n",
    "    res.append({'proj_id':i[0][0] ,'res_id':i[0][1] ,\n",
    "                'year':i[0][2] ,'month':i[0][3], \n",
    "                'Predict_NN_sum_PO': i[1].Predict_NN.sum(), 'Fact': i[1].Fact.sum() } )\n",
    "    #break\n",
    "\n",
    "print('Done')"
   ]
  },
  {
   "cell_type": "code",
   "execution_count": 123,
   "id": "cbc6f70f",
   "metadata": {
    "ExecuteTime": {
     "end_time": "2022-12-21T09:06:27.650265Z",
     "start_time": "2022-12-21T09:06:27.647267Z"
    }
   },
   "outputs": [],
   "source": [
    "df_for_top_left = pd.DataFrame(res)\n",
    "df_for_top_left['contr_id'] = 1"
   ]
  },
  {
   "cell_type": "code",
   "execution_count": 124,
   "id": "659c1366",
   "metadata": {
    "ExecuteTime": {
     "end_time": "2022-12-21T09:06:28.182940Z",
     "start_time": "2022-12-21T09:06:28.175919Z"
    },
    "scrolled": true
   },
   "outputs": [
    {
     "data": {
      "text/html": [
       "<div>\n",
       "<style scoped>\n",
       "    .dataframe tbody tr th:only-of-type {\n",
       "        vertical-align: middle;\n",
       "    }\n",
       "\n",
       "    .dataframe tbody tr th {\n",
       "        vertical-align: top;\n",
       "    }\n",
       "\n",
       "    .dataframe thead th {\n",
       "        text-align: right;\n",
       "    }\n",
       "</style>\n",
       "<table border=\"1\" class=\"dataframe\">\n",
       "  <thead>\n",
       "    <tr style=\"text-align: right;\">\n",
       "      <th></th>\n",
       "      <th>proj_id</th>\n",
       "      <th>res_id</th>\n",
       "      <th>year</th>\n",
       "      <th>month</th>\n",
       "      <th>Predict_NN_sum_PO</th>\n",
       "      <th>Fact</th>\n",
       "      <th>contr_id</th>\n",
       "    </tr>\n",
       "  </thead>\n",
       "  <tbody>\n",
       "    <tr>\n",
       "      <th>0</th>\n",
       "      <td>17</td>\n",
       "      <td>19</td>\n",
       "      <td>2022</td>\n",
       "      <td>9</td>\n",
       "      <td>886.423621</td>\n",
       "      <td>1771.532005</td>\n",
       "      <td>1</td>\n",
       "    </tr>\n",
       "    <tr>\n",
       "      <th>1</th>\n",
       "      <td>17</td>\n",
       "      <td>19</td>\n",
       "      <td>2022</td>\n",
       "      <td>10</td>\n",
       "      <td>501.313202</td>\n",
       "      <td>125.149163</td>\n",
       "      <td>1</td>\n",
       "    </tr>\n",
       "    <tr>\n",
       "      <th>2</th>\n",
       "      <td>17</td>\n",
       "      <td>19</td>\n",
       "      <td>2022</td>\n",
       "      <td>11</td>\n",
       "      <td>2384.273880</td>\n",
       "      <td>1689.532856</td>\n",
       "      <td>1</td>\n",
       "    </tr>\n",
       "    <tr>\n",
       "      <th>3</th>\n",
       "      <td>17</td>\n",
       "      <td>19</td>\n",
       "      <td>2022</td>\n",
       "      <td>12</td>\n",
       "      <td>915.022544</td>\n",
       "      <td>443.139554</td>\n",
       "      <td>1</td>\n",
       "    </tr>\n",
       "    <tr>\n",
       "      <th>4</th>\n",
       "      <td>17</td>\n",
       "      <td>19</td>\n",
       "      <td>2023</td>\n",
       "      <td>1</td>\n",
       "      <td>776.750786</td>\n",
       "      <td>211.679427</td>\n",
       "      <td>1</td>\n",
       "    </tr>\n",
       "  </tbody>\n",
       "</table>\n",
       "</div>"
      ],
      "text/plain": [
       "   proj_id  res_id  year  month  Predict_NN_sum_PO         Fact  contr_id\n",
       "0       17      19  2022      9         886.423621  1771.532005         1\n",
       "1       17      19  2022     10         501.313202   125.149163         1\n",
       "2       17      19  2022     11        2384.273880  1689.532856         1\n",
       "3       17      19  2022     12         915.022544   443.139554         1\n",
       "4       17      19  2023      1         776.750786   211.679427         1"
      ]
     },
     "execution_count": 124,
     "metadata": {},
     "output_type": "execute_result"
    }
   ],
   "source": [
    "df_for_top_left.head()"
   ]
  },
  {
   "cell_type": "code",
   "execution_count": 125,
   "id": "925166be",
   "metadata": {
    "ExecuteTime": {
     "end_time": "2022-12-21T09:09:35.727435Z",
     "start_time": "2022-12-21T09:09:35.713438Z"
    }
   },
   "outputs": [],
   "source": [
    "# project_ids_names\n",
    "stages = pd.read_excel('./data/Needed_materials/stages_2022_12_14.xlsx',usecols=[1,2])\n",
    "proj_ids_dict = stages.set_index('id').project_name.to_dict()\n",
    "df_for_top_left['project_name'] = df_for_top_left.proj_id.map(proj_ids_dict)\n",
    "assert sum(pd.isna(df_for_top_left.project_name))==0 , 'пустые проекты'"
   ]
  },
  {
   "cell_type": "code",
   "execution_count": 126,
   "id": "d389ef8a",
   "metadata": {
    "ExecuteTime": {
     "end_time": "2022-12-21T09:09:36.455721Z",
     "start_time": "2022-12-21T09:09:36.441719Z"
    }
   },
   "outputs": [],
   "source": [
    "#res_id\n",
    "mech_res_dict = np.load( './scripts/3_final/mech_res_dict.npy', allow_pickle=True).item()\n",
    "c = pd.read_excel('./data/Needed_materials/mech_missed_ids.xlsx',usecols=[0,1],).dropna()\n",
    "c = c.set_index('missed_name').id.astype( int ).to_dict()\n",
    "mech_res_dict = {**c,**mech_res_dict}\n",
    "\n",
    "mech_res_dict_ids = {v:k for k,v in mech_res_dict.items()}\n",
    "df_for_top_left['resource_name'] = df_for_top_left.res_id.map(mech_res_dict_ids)\n",
    "assert sum(pd.isna(df_for_top_left.resource_name)) == 0, 'есть пустые машины'"
   ]
  },
  {
   "cell_type": "code",
   "execution_count": 127,
   "id": "48e1526b",
   "metadata": {
    "ExecuteTime": {
     "end_time": "2022-12-21T09:09:48.303283Z",
     "start_time": "2022-12-21T09:09:48.298283Z"
    }
   },
   "outputs": [],
   "source": [
    "# contr name\n",
    "new_contractor_dict = {'АО \"Стройтранснефтегаз\"': 0,\n",
    "  'ООО \"СГК-1\"': 1,\n",
    "  'ООО \"ССК \"Газрегион\"': 2,\n",
    "  'ООО \"Велесстрой\"': 3}\n",
    "\n",
    "new_contractor_dict_ids = {v:k for k,v in new_contractor_dict.items()}\n",
    "\n",
    "df_for_top_left['contractor_name'] = df_for_top_left.contr_id.map(new_contractor_dict_ids)\n",
    "assert sum(pd.isna(df_for_top_left.contr_id)) == 0, 'есть пустые контракторы'\n"
   ]
  },
  {
   "cell_type": "code",
   "execution_count": 132,
   "id": "21648d9d",
   "metadata": {
    "ExecuteTime": {
     "end_time": "2022-12-21T09:12:06.284798Z",
     "start_time": "2022-12-21T09:12:06.281794Z"
    }
   },
   "outputs": [
    {
     "data": {
      "text/plain": [
       "Index(['proj_id', 'res_id', 'year', 'month', 'Predict_NN_sum_PO', 'Fact',\n",
       "       'contr_id', 'project_name', 'resource_name', 'contractor_name'],\n",
       "      dtype='object')"
      ]
     },
     "execution_count": 132,
     "metadata": {},
     "output_type": "execute_result"
    }
   ],
   "source": [
    "df_for_top_left.columns"
   ]
  },
  {
   "cell_type": "code",
   "execution_count": 135,
   "id": "03bc60fa",
   "metadata": {
    "ExecuteTime": {
     "end_time": "2022-12-21T09:14:15.336390Z",
     "start_time": "2022-12-21T09:14:15.330397Z"
    }
   },
   "outputs": [],
   "source": [
    "df_for_top_left['dt'] = df_for_top_left['year'].astype(str) + '-' + df_for_top_left['month'].astype(str)+ '-01'\n",
    "\n",
    "df_for_top_left['dt'] = df_for_top_left.dt.apply( lambda x: datetime.strptime(str(x), '%Y-%m-%d'))"
   ]
  },
  {
   "cell_type": "code",
   "execution_count": 136,
   "id": "305c0034",
   "metadata": {
    "ExecuteTime": {
     "end_time": "2022-12-21T09:14:18.020458Z",
     "start_time": "2022-12-21T09:14:17.994449Z"
    }
   },
   "outputs": [
    {
     "data": {
      "text/html": [
       "<div>\n",
       "<style scoped>\n",
       "    .dataframe tbody tr th:only-of-type {\n",
       "        vertical-align: middle;\n",
       "    }\n",
       "\n",
       "    .dataframe tbody tr th {\n",
       "        vertical-align: top;\n",
       "    }\n",
       "\n",
       "    .dataframe thead th {\n",
       "        text-align: right;\n",
       "    }\n",
       "</style>\n",
       "<table border=\"1\" class=\"dataframe\">\n",
       "  <thead>\n",
       "    <tr style=\"text-align: right;\">\n",
       "      <th></th>\n",
       "      <th>project_id</th>\n",
       "      <th>project_name</th>\n",
       "      <th>resource_id</th>\n",
       "      <th>resource_name</th>\n",
       "      <th>contractor_id</th>\n",
       "      <th>contractor_name</th>\n",
       "      <th>dt</th>\n",
       "      <th>Fact</th>\n",
       "      <th>Predict_NN</th>\n",
       "    </tr>\n",
       "  </thead>\n",
       "  <tbody>\n",
       "    <tr>\n",
       "      <th>0</th>\n",
       "      <td>17</td>\n",
       "      <td>КС-3 Амгинская Сила Сибири Этап 5.3</td>\n",
       "      <td>19</td>\n",
       "      <td>Экскаватор гусеничный легкого класса (массой д...</td>\n",
       "      <td>1</td>\n",
       "      <td>ООО \"СГК-1\"</td>\n",
       "      <td>2022-09-01</td>\n",
       "      <td>1771.532005</td>\n",
       "      <td>886.423621</td>\n",
       "    </tr>\n",
       "    <tr>\n",
       "      <th>1</th>\n",
       "      <td>17</td>\n",
       "      <td>КС-3 Амгинская Сила Сибири Этап 5.3</td>\n",
       "      <td>19</td>\n",
       "      <td>Экскаватор гусеничный легкого класса (массой д...</td>\n",
       "      <td>1</td>\n",
       "      <td>ООО \"СГК-1\"</td>\n",
       "      <td>2022-10-01</td>\n",
       "      <td>125.149163</td>\n",
       "      <td>501.313202</td>\n",
       "    </tr>\n",
       "    <tr>\n",
       "      <th>2</th>\n",
       "      <td>17</td>\n",
       "      <td>КС-3 Амгинская Сила Сибири Этап 5.3</td>\n",
       "      <td>19</td>\n",
       "      <td>Экскаватор гусеничный легкого класса (массой д...</td>\n",
       "      <td>1</td>\n",
       "      <td>ООО \"СГК-1\"</td>\n",
       "      <td>2022-11-01</td>\n",
       "      <td>1689.532856</td>\n",
       "      <td>2384.273880</td>\n",
       "    </tr>\n",
       "    <tr>\n",
       "      <th>3</th>\n",
       "      <td>17</td>\n",
       "      <td>КС-3 Амгинская Сила Сибири Этап 5.3</td>\n",
       "      <td>19</td>\n",
       "      <td>Экскаватор гусеничный легкого класса (массой д...</td>\n",
       "      <td>1</td>\n",
       "      <td>ООО \"СГК-1\"</td>\n",
       "      <td>2022-12-01</td>\n",
       "      <td>443.139554</td>\n",
       "      <td>915.022544</td>\n",
       "    </tr>\n",
       "    <tr>\n",
       "      <th>4</th>\n",
       "      <td>17</td>\n",
       "      <td>КС-3 Амгинская Сила Сибири Этап 5.3</td>\n",
       "      <td>19</td>\n",
       "      <td>Экскаватор гусеничный легкого класса (массой д...</td>\n",
       "      <td>1</td>\n",
       "      <td>ООО \"СГК-1\"</td>\n",
       "      <td>2023-01-01</td>\n",
       "      <td>211.679427</td>\n",
       "      <td>776.750786</td>\n",
       "    </tr>\n",
       "  </tbody>\n",
       "</table>\n",
       "</div>"
      ],
      "text/plain": [
       "   project_id                         project_name  resource_id  \\\n",
       "0          17  КС-3 Амгинская Сила Сибири Этап 5.3           19   \n",
       "1          17  КС-3 Амгинская Сила Сибири Этап 5.3           19   \n",
       "2          17  КС-3 Амгинская Сила Сибири Этап 5.3           19   \n",
       "3          17  КС-3 Амгинская Сила Сибири Этап 5.3           19   \n",
       "4          17  КС-3 Амгинская Сила Сибири Этап 5.3           19   \n",
       "\n",
       "                                       resource_name  contractor_id  \\\n",
       "0  Экскаватор гусеничный легкого класса (массой д...              1   \n",
       "1  Экскаватор гусеничный легкого класса (массой д...              1   \n",
       "2  Экскаватор гусеничный легкого класса (массой д...              1   \n",
       "3  Экскаватор гусеничный легкого класса (массой д...              1   \n",
       "4  Экскаватор гусеничный легкого класса (массой д...              1   \n",
       "\n",
       "  contractor_name         dt         Fact   Predict_NN  \n",
       "0     ООО \"СГК-1\" 2022-09-01  1771.532005   886.423621  \n",
       "1     ООО \"СГК-1\" 2022-10-01   125.149163   501.313202  \n",
       "2     ООО \"СГК-1\" 2022-11-01  1689.532856  2384.273880  \n",
       "3     ООО \"СГК-1\" 2022-12-01   443.139554   915.022544  \n",
       "4     ООО \"СГК-1\" 2023-01-01   211.679427   776.750786  "
      ]
     },
     "execution_count": 136,
     "metadata": {},
     "output_type": "execute_result"
    }
   ],
   "source": [
    "# объединяем и выгружаем\n",
    "df_for_top_left_pred = df_for_top_left.loc[:,['proj_id','project_name','res_id','resource_name', 'contr_id', 'contractor_name','dt','Fact','Predict_NN_sum_PO']]\n",
    "\n",
    "df_for_top_left_pred.columns = ['project_id','project_name','resource_id','resource_name','contractor_id','contractor_name','dt','Fact','Predict_NN']\n",
    "df_for_top_left_pred.to_excel('./data/4_to_export/filled_template_top_left_predict_2023.xlsx', index=False,sheet_name = 'top_left')\n",
    "df_for_top_left_pred.head()             \n"
   ]
  },
  {
   "cell_type": "code",
   "execution_count": 137,
   "id": "aad9b696",
   "metadata": {
    "ExecuteTime": {
     "end_time": "2022-12-21T09:14:39.544059Z",
     "start_time": "2022-12-21T09:14:39.526067Z"
    }
   },
   "outputs": [],
   "source": [
    "# сохраняем result так как он понадобится для графика Bottom_right\n",
    "df_for_top_left_pred.to_excel('./data/4_to_export/predict_template_top_left/df_top_left_predict_2023.xlsx', index=False)"
   ]
  },
  {
   "cell_type": "markdown",
   "id": "4c703f8f",
   "metadata": {},
   "source": [
    "## График bottom left "
   ]
  },
  {
   "cell_type": "code",
   "execution_count": 24,
   "id": "509e5eb2",
   "metadata": {
    "ExecuteTime": {
     "end_time": "2022-12-15T10:21:03.043161Z",
     "start_time": "2022-12-15T10:21:03.022164Z"
    }
   },
   "outputs": [],
   "source": [
    "# фильтруем по проекту\n",
    "df_new = df.loc[ list(map(lambda x : x in projects_id, df['proj_id']  ))   ,:]\n",
    "df_new = df_new.loc[ list(map(lambda x : x in mech_id, df_new['res_id']  ))  ,:]\n"
   ]
  },
  {
   "cell_type": "code",
   "execution_count": 25,
   "id": "39fadbf7",
   "metadata": {
    "ExecuteTime": {
     "end_time": "2022-12-15T10:21:04.784230Z",
     "start_time": "2022-12-15T10:21:03.891933Z"
    }
   },
   "outputs": [],
   "source": [
    "# создаем массив\n",
    "for ind in range(len(df_new)):\n",
    "    start_pos = 3\n",
    "    end_pos = 11\n",
    "    a = np.nonzero(df_new.iloc[ind][3:-11].values)[0]\n",
    "    \n",
    "    l = pd.DataFrame([df_new.iloc[ind,:start_pos] for _ in range(len(a))]).reset_index(drop= True)\n",
    "    k = pd.DataFrame([df_new.iloc[ind,-end_pos:] for _ in range(len(a))]).reset_index(drop= True)\n",
    "\n",
    "    \n",
    "    b = np.zeros((len(a),373))\n",
    "\n",
    "    for i,j in enumerate(a):\n",
    "        b[i,j] = df_new.iloc[ind][start_pos+j]\n",
    "    \n",
    "    res = pd.concat([ l,pd.DataFrame(b),k],axis=1,ignore_index=True )\n",
    "    \n",
    "    if ind == 0:\n",
    "          result = res\n",
    "    else:\n",
    "          result =  pd.concat((result,res),ignore_index=True)\n",
    "\n",
    "result.columns = df_new.columns"
   ]
  },
  {
   "cell_type": "code",
   "execution_count": 26,
   "id": "13482321",
   "metadata": {
    "ExecuteTime": {
     "end_time": "2022-12-15T10:21:07.227991Z",
     "start_time": "2022-12-15T10:21:07.216988Z"
    }
   },
   "outputs": [],
   "source": [
    "result['Fact'] = np.sum(result.iloc[:,3:-11].values,axis=1)"
   ]
  },
  {
   "cell_type": "markdown",
   "id": "f063e54c",
   "metadata": {},
   "source": [
    "### делаем предикт по bottom_left"
   ]
  },
  {
   "cell_type": "code",
   "execution_count": 27,
   "id": "4f79fca8",
   "metadata": {
    "ExecuteTime": {
     "end_time": "2022-12-15T10:21:08.739271Z",
     "start_time": "2022-12-15T10:21:08.725332Z"
    }
   },
   "outputs": [
    {
     "data": {
      "text/plain": [
       "predict_hours_net(\n",
       "  (activity_dense): positive_weights_linear()\n",
       "  (proj_dense): Linear(in_features=23, out_features=1, bias=False)\n",
       "  (contractor_dense): Linear(in_features=4, out_features=1, bias=False)\n",
       "  (year_dense): Linear(in_features=2, out_features=1, bias=True)\n",
       "  (month_dense): Linear(in_features=12, out_features=1, bias=False)\n",
       ")"
      ]
     },
     "execution_count": 27,
     "metadata": {},
     "output_type": "execute_result"
    }
   ],
   "source": [
    "device = torch.device('cuda' if torch.cuda.is_available() else 'cpu')\n",
    "net.to(device)"
   ]
  },
  {
   "cell_type": "code",
   "execution_count": 28,
   "id": "0b303062",
   "metadata": {
    "ExecuteTime": {
     "end_time": "2022-12-15T10:21:11.005064Z",
     "start_time": "2022-12-15T10:21:10.914067Z"
    }
   },
   "outputs": [],
   "source": [
    "features = torch.tensor(result.iloc[:,1:-8].values).to(torch.float)\n",
    "targets = torch.tensor(result.target.values).to(torch.float)\n",
    "predict = []\n",
    "net.eval()   # Set model to evaluate mode\n",
    "for i in range(features.shape[0]):\n",
    "    with torch.no_grad():\n",
    "        pred = net(features[i])\n",
    "        predict.append(pred.tolist())"
   ]
  },
  {
   "cell_type": "code",
   "execution_count": 29,
   "id": "f8edd8b0",
   "metadata": {
    "ExecuteTime": {
     "end_time": "2022-12-15T10:21:17.809654Z",
     "start_time": "2022-12-15T10:21:17.803659Z"
    }
   },
   "outputs": [],
   "source": [
    "result['Predict_NN'] = predict"
   ]
  },
  {
   "cell_type": "markdown",
   "id": "917d8316",
   "metadata": {},
   "source": [
    "### проверка предикта bottom_left"
   ]
  },
  {
   "cell_type": "code",
   "execution_count": null,
   "id": "f4cbbdfb",
   "metadata": {},
   "outputs": [],
   "source": []
  },
  {
   "cell_type": "code",
   "execution_count": 30,
   "id": "55f8858c",
   "metadata": {
    "ExecuteTime": {
     "end_time": "2022-12-15T10:21:21.455582Z",
     "start_time": "2022-12-15T10:21:20.906161Z"
    }
   },
   "outputs": [
    {
     "data": {
      "image/png": "[encoded data removed]",
      "text/plain": [
       "<Figure size 864x360 with 1 Axes>"
      ]
     },
     "metadata": {
      "needs_background": "light"
     },
     "output_type": "display_data"
    }
   ],
   "source": [
    "def plot(i,proj):\n",
    "#     i = 30\n",
    "#     proj = 23\n",
    "    plt.bar(result.loc[(result.res_id==i) & (result.proj_id == proj),'dt'], result.loc[(result.res_id == i) & (result.proj_id==proj), 'Fact'],label = 'Primavera_Norms')\n",
    "    plt.bar(result.loc[(result.res_id==i) & (result.proj_id == proj),'dt'], result.loc[(result.res_id == i) & (result.proj_id==proj),'Predict_NN'], label = 'NN_predict_Fact')\n",
    "    plt.legend(loc='best')\n",
    "plot(30,17)\n"
   ]
  },
  {
   "cell_type": "code",
   "execution_count": 31,
   "id": "cd424f76",
   "metadata": {
    "ExecuteTime": {
     "end_time": "2022-12-15T10:21:27.630948Z",
     "start_time": "2022-12-15T10:21:24.828011Z"
    },
    "scrolled": true
   },
   "outputs": [
    {
     "data": {
      "image/png": "[encoded data removed]",
      "text/plain": [
       "<Figure size 864x360 with 1 Axes>"
      ]
     },
     "metadata": {
      "needs_background": "light"
     },
     "output_type": "display_data"
    },
    {
     "data": {
      "image/png": "[encoded data removed]",
      "text/plain": [
       "<Figure size 864x360 with 1 Axes>"
      ]
     },
     "metadata": {
      "needs_background": "light"
     },
     "output_type": "display_data"
    },
    {
     "data": {
      "image/png": "[encoded data removed]",
      "text/plain": [
       "<Figure size 864x360 with 1 Axes>"
      ]
     },
     "metadata": {
      "needs_background": "light"
     },
     "output_type": "display_data"
    },
    {
     "data": {
      "image/png": "[encoded data removed]",
      "text/plain": [
       "<Figure size 864x360 with 1 Axes>"
      ]
     },
     "metadata": {
      "needs_background": "light"
     },
     "output_type": "display_data"
    },
    {
     "data": {
      "image/png": "[encoded data removed]",
      "text/plain": [
       "<Figure size 864x360 with 1 Axes>"
      ]
     },
     "metadata": {
      "needs_background": "light"
     },
     "output_type": "display_data"
    },
    {
     "data": {
      "image/png": "[encoded data removed]",
      "text/plain": [
       "<Figure size 864x360 with 1 Axes>"
      ]
     },
     "metadata": {
      "needs_background": "light"
     },
     "output_type": "display_data"
    },
    {
     "data": {
      "image/png": "[encoded data removed]",
      "text/plain": [
       "<Figure size 864x360 with 1 Axes>"
      ]
     },
     "metadata": {
      "needs_background": "light"
     },
     "output_type": "display_data"
    },
    {
     "data": {
      "image/png": "[encoded data removed]",
      "text/plain": [
       "<Figure size 864x360 with 1 Axes>"
      ]
     },
     "metadata": {
      "needs_background": "light"
     },
     "output_type": "display_data"
    }
   ],
   "source": [
    "# to be used for publication\n",
    "id = [30, 28,19,32 ] #,112,48\n",
    "for p in [17,23]:\n",
    "    for l in id:\n",
    "        plt.title(f'{p}, {l} , {mech_res_dict_ids.get(l)}')\n",
    "        plot(l,p)\n",
    "        plt.show()\n",
    "    "
   ]
  },
  {
   "cell_type": "markdown",
   "id": "11c65834",
   "metadata": {},
   "source": [
    "### Выгружаем bottom_left (создаем PO_name)"
   ]
  },
  {
   "cell_type": "code",
   "execution_count": 32,
   "id": "01085c14",
   "metadata": {
    "ExecuteTime": {
     "end_time": "2022-12-15T10:21:30.674161Z",
     "start_time": "2022-12-15T10:21:30.650168Z"
    }
   },
   "outputs": [],
   "source": [
    "# PO создаем\n",
    "result['PO_id'] = np.nonzero(result.iloc[:,3:-11].values)[1]\n",
    "norms_ids_dict = np.load('./data/Needed_materials/Norms_ids_dict.npy', allow_pickle=True).item()\n",
    "l = [ int(str(k)[2:]) if str(k)[2:].isnumeric() else str(k)[2:] for k in norms_ids_dict.keys()]\n",
    "norms_dict = dict(zip(l,norms_ids_dict.values()))\n",
    "result['PO_name'] = result.PO_id.map(norms_dict)"
   ]
  },
  {
   "cell_type": "code",
   "execution_count": 33,
   "id": "d6e54271",
   "metadata": {
    "ExecuteTime": {
     "end_time": "2022-12-15T10:21:31.903960Z",
     "start_time": "2022-12-15T10:21:31.760968Z"
    }
   },
   "outputs": [
    {
     "data": {
      "text/html": [
       "<div>\n",
       "<style scoped>\n",
       "    .dataframe tbody tr th:only-of-type {\n",
       "        vertical-align: middle;\n",
       "    }\n",
       "\n",
       "    .dataframe tbody tr th {\n",
       "        vertical-align: top;\n",
       "    }\n",
       "\n",
       "    .dataframe thead th {\n",
       "        text-align: right;\n",
       "    }\n",
       "</style>\n",
       "<table border=\"1\" class=\"dataframe\">\n",
       "  <thead>\n",
       "    <tr style=\"text-align: right;\">\n",
       "      <th></th>\n",
       "      <th>project_id</th>\n",
       "      <th>project_name</th>\n",
       "      <th>resource_id</th>\n",
       "      <th>resource_name</th>\n",
       "      <th>contractor_id</th>\n",
       "      <th>contractor_name</th>\n",
       "      <th>PO_id</th>\n",
       "      <th>PO_name</th>\n",
       "      <th>dt</th>\n",
       "      <th>Fact</th>\n",
       "      <th>Predict_NN</th>\n",
       "    </tr>\n",
       "  </thead>\n",
       "  <tbody>\n",
       "    <tr>\n",
       "      <th>0</th>\n",
       "      <td>23</td>\n",
       "      <td>КС-2 Олекминская Сила Сибири Этап 5.2</td>\n",
       "      <td>30</td>\n",
       "      <td>Кран автомобильный (21-25т)</td>\n",
       "      <td>1</td>\n",
       "      <td>ООО \"СГК-1\"</td>\n",
       "      <td>4</td>\n",
       "      <td>Устройство ливневой канализации</td>\n",
       "      <td>2021-03-01</td>\n",
       "      <td>31.824629</td>\n",
       "      <td>63.597397</td>\n",
       "    </tr>\n",
       "    <tr>\n",
       "      <th>1</th>\n",
       "      <td>23</td>\n",
       "      <td>КС-2 Олекминская Сила Сибири Этап 5.2</td>\n",
       "      <td>30</td>\n",
       "      <td>Кран автомобильный (21-25т)</td>\n",
       "      <td>1</td>\n",
       "      <td>ООО \"СГК-1\"</td>\n",
       "      <td>8</td>\n",
       "      <td>Прочее (Демонтажные работы - труба)</td>\n",
       "      <td>2021-03-01</td>\n",
       "      <td>1054.080000</td>\n",
       "      <td>248.919220</td>\n",
       "    </tr>\n",
       "    <tr>\n",
       "      <th>2</th>\n",
       "      <td>23</td>\n",
       "      <td>КС-2 Олекминская Сила Сибири Этап 5.2</td>\n",
       "      <td>30</td>\n",
       "      <td>Кран автомобильный (21-25т)</td>\n",
       "      <td>1</td>\n",
       "      <td>ООО \"СГК-1\"</td>\n",
       "      <td>11</td>\n",
       "      <td>Устройство свайного основания (буронабивные)</td>\n",
       "      <td>2021-03-01</td>\n",
       "      <td>10641.414402</td>\n",
       "      <td>1309.890747</td>\n",
       "    </tr>\n",
       "    <tr>\n",
       "      <th>3</th>\n",
       "      <td>23</td>\n",
       "      <td>КС-2 Олекминская Сила Сибири Этап 5.2</td>\n",
       "      <td>30</td>\n",
       "      <td>Кран автомобильный (21-25т)</td>\n",
       "      <td>1</td>\n",
       "      <td>ООО \"СГК-1\"</td>\n",
       "      <td>13</td>\n",
       "      <td>Устройство основания (песчаное)</td>\n",
       "      <td>2021-03-01</td>\n",
       "      <td>96.920000</td>\n",
       "      <td>30.919445</td>\n",
       "    </tr>\n",
       "    <tr>\n",
       "      <th>4</th>\n",
       "      <td>23</td>\n",
       "      <td>КС-2 Олекминская Сила Сибири Этап 5.2</td>\n",
       "      <td>30</td>\n",
       "      <td>Кран автомобильный (21-25т)</td>\n",
       "      <td>1</td>\n",
       "      <td>ООО \"СГК-1\"</td>\n",
       "      <td>14</td>\n",
       "      <td>Бетонирование (бетонная подготовка)</td>\n",
       "      <td>2021-03-01</td>\n",
       "      <td>30.976935</td>\n",
       "      <td>1.517365</td>\n",
       "    </tr>\n",
       "    <tr>\n",
       "      <th>...</th>\n",
       "      <td>...</td>\n",
       "      <td>...</td>\n",
       "      <td>...</td>\n",
       "      <td>...</td>\n",
       "      <td>...</td>\n",
       "      <td>...</td>\n",
       "      <td>...</td>\n",
       "      <td>...</td>\n",
       "      <td>...</td>\n",
       "      <td>...</td>\n",
       "      <td>...</td>\n",
       "    </tr>\n",
       "    <tr>\n",
       "      <th>1078</th>\n",
       "      <td>17</td>\n",
       "      <td>КС-3 Амгинская Сила Сибири Этап 5.3</td>\n",
       "      <td>30</td>\n",
       "      <td>Кран автомобильный (21-25т)</td>\n",
       "      <td>1</td>\n",
       "      <td>ООО \"СГК-1\"</td>\n",
       "      <td>71</td>\n",
       "      <td>Монтаж кабельных полок, стоек</td>\n",
       "      <td>2022-08-01</td>\n",
       "      <td>1.666820</td>\n",
       "      <td>0.482523</td>\n",
       "    </tr>\n",
       "    <tr>\n",
       "      <th>1079</th>\n",
       "      <td>17</td>\n",
       "      <td>КС-3 Амгинская Сила Сибири Этап 5.3</td>\n",
       "      <td>30</td>\n",
       "      <td>Кран автомобильный (21-25т)</td>\n",
       "      <td>1</td>\n",
       "      <td>ООО \"СГК-1\"</td>\n",
       "      <td>84</td>\n",
       "      <td>Монтаж дорожных ж/б плит</td>\n",
       "      <td>2022-08-01</td>\n",
       "      <td>1.243416</td>\n",
       "      <td>5.875149</td>\n",
       "    </tr>\n",
       "    <tr>\n",
       "      <th>1080</th>\n",
       "      <td>17</td>\n",
       "      <td>КС-3 Амгинская Сила Сибири Этап 5.3</td>\n",
       "      <td>30</td>\n",
       "      <td>Кран автомобильный (21-25т)</td>\n",
       "      <td>1</td>\n",
       "      <td>ООО \"СГК-1\"</td>\n",
       "      <td>85</td>\n",
       "      <td>Монтаж сборных ЖБК (бордюр)</td>\n",
       "      <td>2022-08-01</td>\n",
       "      <td>0.104342</td>\n",
       "      <td>0.199209</td>\n",
       "    </tr>\n",
       "    <tr>\n",
       "      <th>1081</th>\n",
       "      <td>17</td>\n",
       "      <td>КС-3 Амгинская Сила Сибири Этап 5.3</td>\n",
       "      <td>30</td>\n",
       "      <td>Кран автомобильный (21-25т)</td>\n",
       "      <td>1</td>\n",
       "      <td>ООО \"СГК-1\"</td>\n",
       "      <td>280</td>\n",
       "      <td>Предварительные гидравлические испытания КУ_узел</td>\n",
       "      <td>2022-08-01</td>\n",
       "      <td>0.102080</td>\n",
       "      <td>0.032096</td>\n",
       "    </tr>\n",
       "    <tr>\n",
       "      <th>1082</th>\n",
       "      <td>17</td>\n",
       "      <td>КС-3 Амгинская Сила Сибири Этап 5.3</td>\n",
       "      <td>30</td>\n",
       "      <td>Кран автомобильный (21-25т)</td>\n",
       "      <td>1</td>\n",
       "      <td>ООО \"СГК-1\"</td>\n",
       "      <td>296</td>\n",
       "      <td>Монтаж прожекторов на мачте_шт</td>\n",
       "      <td>2022-08-01</td>\n",
       "      <td>10.097268</td>\n",
       "      <td>26.191442</td>\n",
       "    </tr>\n",
       "  </tbody>\n",
       "</table>\n",
       "<p>1083 rows × 11 columns</p>\n",
       "</div>"
      ],
      "text/plain": [
       "      project_id                           project_name  resource_id  \\\n",
       "0             23  КС-2 Олекминская Сила Сибири Этап 5.2           30   \n",
       "1             23  КС-2 Олекминская Сила Сибири Этап 5.2           30   \n",
       "2             23  КС-2 Олекминская Сила Сибири Этап 5.2           30   \n",
       "3             23  КС-2 Олекминская Сила Сибири Этап 5.2           30   \n",
       "4             23  КС-2 Олекминская Сила Сибири Этап 5.2           30   \n",
       "...          ...                                    ...          ...   \n",
       "1078          17    КС-3 Амгинская Сила Сибири Этап 5.3           30   \n",
       "1079          17    КС-3 Амгинская Сила Сибири Этап 5.3           30   \n",
       "1080          17    КС-3 Амгинская Сила Сибири Этап 5.3           30   \n",
       "1081          17    КС-3 Амгинская Сила Сибири Этап 5.3           30   \n",
       "1082          17    КС-3 Амгинская Сила Сибири Этап 5.3           30   \n",
       "\n",
       "                    resource_name  contractor_id contractor_name  PO_id  \\\n",
       "0     Кран автомобильный (21-25т)              1     ООО \"СГК-1\"      4   \n",
       "1     Кран автомобильный (21-25т)              1     ООО \"СГК-1\"      8   \n",
       "2     Кран автомобильный (21-25т)              1     ООО \"СГК-1\"     11   \n",
       "3     Кран автомобильный (21-25т)              1     ООО \"СГК-1\"     13   \n",
       "4     Кран автомобильный (21-25т)              1     ООО \"СГК-1\"     14   \n",
       "...                           ...            ...             ...    ...   \n",
       "1078  Кран автомобильный (21-25т)              1     ООО \"СГК-1\"     71   \n",
       "1079  Кран автомобильный (21-25т)              1     ООО \"СГК-1\"     84   \n",
       "1080  Кран автомобильный (21-25т)              1     ООО \"СГК-1\"     85   \n",
       "1081  Кран автомобильный (21-25т)              1     ООО \"СГК-1\"    280   \n",
       "1082  Кран автомобильный (21-25т)              1     ООО \"СГК-1\"    296   \n",
       "\n",
       "                                               PO_name         dt  \\\n",
       "0                      Устройство ливневой канализации 2021-03-01   \n",
       "1                  Прочее (Демонтажные работы - труба) 2021-03-01   \n",
       "2         Устройство свайного основания (буронабивные) 2021-03-01   \n",
       "3                      Устройство основания (песчаное) 2021-03-01   \n",
       "4                  Бетонирование (бетонная подготовка) 2021-03-01   \n",
       "...                                                ...        ...   \n",
       "1078                     Монтаж кабельных полок, стоек 2022-08-01   \n",
       "1079                          Монтаж дорожных ж/б плит 2022-08-01   \n",
       "1080                       Монтаж сборных ЖБК (бордюр) 2022-08-01   \n",
       "1081  Предварительные гидравлические испытания КУ_узел 2022-08-01   \n",
       "1082                    Монтаж прожекторов на мачте_шт 2022-08-01   \n",
       "\n",
       "              Fact   Predict_NN  \n",
       "0        31.824629    63.597397  \n",
       "1      1054.080000   248.919220  \n",
       "2     10641.414402  1309.890747  \n",
       "3        96.920000    30.919445  \n",
       "4        30.976935     1.517365  \n",
       "...            ...          ...  \n",
       "1078      1.666820     0.482523  \n",
       "1079      1.243416     5.875149  \n",
       "1080      0.104342     0.199209  \n",
       "1081      0.102080     0.032096  \n",
       "1082     10.097268    26.191442  \n",
       "\n",
       "[1083 rows x 11 columns]"
      ]
     },
     "execution_count": 33,
     "metadata": {},
     "output_type": "execute_result"
    }
   ],
   "source": [
    "# объединяем и выгружаем\n",
    "result_new = result.loc[:,['proj_id','project_name','res_id','resource_name', 'contr_id', 'contractor_name','PO_id','PO_name','dt','Fact','Predict_NN']]\n",
    "\n",
    "result_new.columns = ['project_id','project_name','resource_id','resource_name','contractor_id','contractor_name','PO_id','PO_name','dt','Fact','Predict_NN']\n",
    "result_new.to_excel('./data/4_to_export/filled_template_bottom_left.xlsx', index=False,sheet_name = 'bottom_left')\n",
    "result_new             \n"
   ]
  },
  {
   "cell_type": "code",
   "execution_count": 34,
   "id": "fc170a44",
   "metadata": {
    "ExecuteTime": {
     "end_time": "2022-12-15T10:22:52.091062Z",
     "start_time": "2022-12-15T10:22:48.525132Z"
    }
   },
   "outputs": [],
   "source": [
    "# сохраняем result так как он понадобится для графика Bottom_right\n",
    "result.to_excel('./data/4_to_export/result.xlsx', index=False)"
   ]
  },
  {
   "cell_type": "markdown",
   "id": "62b77a7f",
   "metadata": {
    "ExecuteTime": {
     "end_time": "2022-12-14T19:34:43.636660Z",
     "start_time": "2022-12-14T19:34:43.622653Z"
    }
   },
   "source": [
    "## Top_right"
   ]
  },
  {
   "cell_type": "code",
   "execution_count": 278,
   "id": "8eae8f09",
   "metadata": {
    "ExecuteTime": {
     "end_time": "2022-12-18T10:22:26.067049Z",
     "start_time": "2022-12-18T10:22:26.051416Z"
    }
   },
   "outputs": [],
   "source": [
    "result['coef_1_org'] = 0.25\n",
    "result['coef_2_repair'] = 0.25\n",
    "result['coef_3_mat'] = 0.25\n",
    "result['coef_4_manag'] = 0.25"
   ]
  },
  {
   "cell_type": "code",
   "execution_count": null,
   "id": "34a695d2",
   "metadata": {},
   "outputs": [],
   "source": []
  },
  {
   "cell_type": "code",
   "execution_count": 279,
   "id": "bba41d37",
   "metadata": {
    "ExecuteTime": {
     "end_time": "2022-12-18T10:24:05.893312Z",
     "start_time": "2022-12-18T10:24:05.720807Z"
    },
    "scrolled": true
   },
   "outputs": [
    {
     "data": {
      "text/html": [
       "<div>\n",
       "<style scoped>\n",
       "    .dataframe tbody tr th:only-of-type {\n",
       "        vertical-align: middle;\n",
       "    }\n",
       "\n",
       "    .dataframe tbody tr th {\n",
       "        vertical-align: top;\n",
       "    }\n",
       "\n",
       "    .dataframe thead th {\n",
       "        text-align: right;\n",
       "    }\n",
       "</style>\n",
       "<table border=\"1\" class=\"dataframe\">\n",
       "  <thead>\n",
       "    <tr style=\"text-align: right;\">\n",
       "      <th></th>\n",
       "      <th>project_id</th>\n",
       "      <th>project_name</th>\n",
       "      <th>resource_id</th>\n",
       "      <th>resource_name</th>\n",
       "      <th>contractor_id</th>\n",
       "      <th>contractor_name</th>\n",
       "      <th>PO_id</th>\n",
       "      <th>PO_name</th>\n",
       "      <th>dt</th>\n",
       "      <th>coef_1_org</th>\n",
       "      <th>coef_2_repair</th>\n",
       "      <th>coef_3_mat</th>\n",
       "      <th>coef_4_manag</th>\n",
       "    </tr>\n",
       "  </thead>\n",
       "  <tbody>\n",
       "    <tr>\n",
       "      <th>0</th>\n",
       "      <td>23</td>\n",
       "      <td>КС-2 Олекминская Сила Сибири Этап 5.2</td>\n",
       "      <td>30</td>\n",
       "      <td>Кран автомобильный (21-25т)</td>\n",
       "      <td>1</td>\n",
       "      <td>ООО \"СГК-1\"</td>\n",
       "      <td>4</td>\n",
       "      <td>Устройство ливневой канализации</td>\n",
       "      <td>2021-03-01</td>\n",
       "      <td>0.25</td>\n",
       "      <td>0.25</td>\n",
       "      <td>0.25</td>\n",
       "      <td>0.25</td>\n",
       "    </tr>\n",
       "    <tr>\n",
       "      <th>1</th>\n",
       "      <td>23</td>\n",
       "      <td>КС-2 Олекминская Сила Сибири Этап 5.2</td>\n",
       "      <td>30</td>\n",
       "      <td>Кран автомобильный (21-25т)</td>\n",
       "      <td>1</td>\n",
       "      <td>ООО \"СГК-1\"</td>\n",
       "      <td>8</td>\n",
       "      <td>Прочее (Демонтажные работы - труба)</td>\n",
       "      <td>2021-03-01</td>\n",
       "      <td>0.25</td>\n",
       "      <td>0.25</td>\n",
       "      <td>0.25</td>\n",
       "      <td>0.25</td>\n",
       "    </tr>\n",
       "    <tr>\n",
       "      <th>2</th>\n",
       "      <td>23</td>\n",
       "      <td>КС-2 Олекминская Сила Сибири Этап 5.2</td>\n",
       "      <td>30</td>\n",
       "      <td>Кран автомобильный (21-25т)</td>\n",
       "      <td>1</td>\n",
       "      <td>ООО \"СГК-1\"</td>\n",
       "      <td>11</td>\n",
       "      <td>Устройство свайного основания (буронабивные)</td>\n",
       "      <td>2021-03-01</td>\n",
       "      <td>0.25</td>\n",
       "      <td>0.25</td>\n",
       "      <td>0.25</td>\n",
       "      <td>0.25</td>\n",
       "    </tr>\n",
       "    <tr>\n",
       "      <th>3</th>\n",
       "      <td>23</td>\n",
       "      <td>КС-2 Олекминская Сила Сибири Этап 5.2</td>\n",
       "      <td>30</td>\n",
       "      <td>Кран автомобильный (21-25т)</td>\n",
       "      <td>1</td>\n",
       "      <td>ООО \"СГК-1\"</td>\n",
       "      <td>13</td>\n",
       "      <td>Устройство основания (песчаное)</td>\n",
       "      <td>2021-03-01</td>\n",
       "      <td>0.25</td>\n",
       "      <td>0.25</td>\n",
       "      <td>0.25</td>\n",
       "      <td>0.25</td>\n",
       "    </tr>\n",
       "    <tr>\n",
       "      <th>4</th>\n",
       "      <td>23</td>\n",
       "      <td>КС-2 Олекминская Сила Сибири Этап 5.2</td>\n",
       "      <td>30</td>\n",
       "      <td>Кран автомобильный (21-25т)</td>\n",
       "      <td>1</td>\n",
       "      <td>ООО \"СГК-1\"</td>\n",
       "      <td>14</td>\n",
       "      <td>Бетонирование (бетонная подготовка)</td>\n",
       "      <td>2021-03-01</td>\n",
       "      <td>0.25</td>\n",
       "      <td>0.25</td>\n",
       "      <td>0.25</td>\n",
       "      <td>0.25</td>\n",
       "    </tr>\n",
       "    <tr>\n",
       "      <th>...</th>\n",
       "      <td>...</td>\n",
       "      <td>...</td>\n",
       "      <td>...</td>\n",
       "      <td>...</td>\n",
       "      <td>...</td>\n",
       "      <td>...</td>\n",
       "      <td>...</td>\n",
       "      <td>...</td>\n",
       "      <td>...</td>\n",
       "      <td>...</td>\n",
       "      <td>...</td>\n",
       "      <td>...</td>\n",
       "      <td>...</td>\n",
       "    </tr>\n",
       "    <tr>\n",
       "      <th>1078</th>\n",
       "      <td>17</td>\n",
       "      <td>КС-3 Амгинская Сила Сибири Этап 5.3</td>\n",
       "      <td>30</td>\n",
       "      <td>Кран автомобильный (21-25т)</td>\n",
       "      <td>1</td>\n",
       "      <td>ООО \"СГК-1\"</td>\n",
       "      <td>71</td>\n",
       "      <td>Монтаж кабельных полок, стоек</td>\n",
       "      <td>2022-08-01</td>\n",
       "      <td>0.25</td>\n",
       "      <td>0.25</td>\n",
       "      <td>0.25</td>\n",
       "      <td>0.25</td>\n",
       "    </tr>\n",
       "    <tr>\n",
       "      <th>1079</th>\n",
       "      <td>17</td>\n",
       "      <td>КС-3 Амгинская Сила Сибири Этап 5.3</td>\n",
       "      <td>30</td>\n",
       "      <td>Кран автомобильный (21-25т)</td>\n",
       "      <td>1</td>\n",
       "      <td>ООО \"СГК-1\"</td>\n",
       "      <td>84</td>\n",
       "      <td>Монтаж дорожных ж/б плит</td>\n",
       "      <td>2022-08-01</td>\n",
       "      <td>0.25</td>\n",
       "      <td>0.25</td>\n",
       "      <td>0.25</td>\n",
       "      <td>0.25</td>\n",
       "    </tr>\n",
       "    <tr>\n",
       "      <th>1080</th>\n",
       "      <td>17</td>\n",
       "      <td>КС-3 Амгинская Сила Сибири Этап 5.3</td>\n",
       "      <td>30</td>\n",
       "      <td>Кран автомобильный (21-25т)</td>\n",
       "      <td>1</td>\n",
       "      <td>ООО \"СГК-1\"</td>\n",
       "      <td>85</td>\n",
       "      <td>Монтаж сборных ЖБК (бордюр)</td>\n",
       "      <td>2022-08-01</td>\n",
       "      <td>0.25</td>\n",
       "      <td>0.25</td>\n",
       "      <td>0.25</td>\n",
       "      <td>0.25</td>\n",
       "    </tr>\n",
       "    <tr>\n",
       "      <th>1081</th>\n",
       "      <td>17</td>\n",
       "      <td>КС-3 Амгинская Сила Сибири Этап 5.3</td>\n",
       "      <td>30</td>\n",
       "      <td>Кран автомобильный (21-25т)</td>\n",
       "      <td>1</td>\n",
       "      <td>ООО \"СГК-1\"</td>\n",
       "      <td>280</td>\n",
       "      <td>Предварительные гидравлические испытания КУ_узел</td>\n",
       "      <td>2022-08-01</td>\n",
       "      <td>0.25</td>\n",
       "      <td>0.25</td>\n",
       "      <td>0.25</td>\n",
       "      <td>0.25</td>\n",
       "    </tr>\n",
       "    <tr>\n",
       "      <th>1082</th>\n",
       "      <td>17</td>\n",
       "      <td>КС-3 Амгинская Сила Сибири Этап 5.3</td>\n",
       "      <td>30</td>\n",
       "      <td>Кран автомобильный (21-25т)</td>\n",
       "      <td>1</td>\n",
       "      <td>ООО \"СГК-1\"</td>\n",
       "      <td>296</td>\n",
       "      <td>Монтаж прожекторов на мачте_шт</td>\n",
       "      <td>2022-08-01</td>\n",
       "      <td>0.25</td>\n",
       "      <td>0.25</td>\n",
       "      <td>0.25</td>\n",
       "      <td>0.25</td>\n",
       "    </tr>\n",
       "  </tbody>\n",
       "</table>\n",
       "<p>1083 rows × 13 columns</p>\n",
       "</div>"
      ],
      "text/plain": [
       "      project_id                           project_name  resource_id  \\\n",
       "0             23  КС-2 Олекминская Сила Сибири Этап 5.2           30   \n",
       "1             23  КС-2 Олекминская Сила Сибири Этап 5.2           30   \n",
       "2             23  КС-2 Олекминская Сила Сибири Этап 5.2           30   \n",
       "3             23  КС-2 Олекминская Сила Сибири Этап 5.2           30   \n",
       "4             23  КС-2 Олекминская Сила Сибири Этап 5.2           30   \n",
       "...          ...                                    ...          ...   \n",
       "1078          17    КС-3 Амгинская Сила Сибири Этап 5.3           30   \n",
       "1079          17    КС-3 Амгинская Сила Сибири Этап 5.3           30   \n",
       "1080          17    КС-3 Амгинская Сила Сибири Этап 5.3           30   \n",
       "1081          17    КС-3 Амгинская Сила Сибири Этап 5.3           30   \n",
       "1082          17    КС-3 Амгинская Сила Сибири Этап 5.3           30   \n",
       "\n",
       "                    resource_name  contractor_id contractor_name  PO_id  \\\n",
       "0     Кран автомобильный (21-25т)              1     ООО \"СГК-1\"      4   \n",
       "1     Кран автомобильный (21-25т)              1     ООО \"СГК-1\"      8   \n",
       "2     Кран автомобильный (21-25т)              1     ООО \"СГК-1\"     11   \n",
       "3     Кран автомобильный (21-25т)              1     ООО \"СГК-1\"     13   \n",
       "4     Кран автомобильный (21-25т)              1     ООО \"СГК-1\"     14   \n",
       "...                           ...            ...             ...    ...   \n",
       "1078  Кран автомобильный (21-25т)              1     ООО \"СГК-1\"     71   \n",
       "1079  Кран автомобильный (21-25т)              1     ООО \"СГК-1\"     84   \n",
       "1080  Кран автомобильный (21-25т)              1     ООО \"СГК-1\"     85   \n",
       "1081  Кран автомобильный (21-25т)              1     ООО \"СГК-1\"    280   \n",
       "1082  Кран автомобильный (21-25т)              1     ООО \"СГК-1\"    296   \n",
       "\n",
       "                                               PO_name         dt  coef_1_org  \\\n",
       "0                      Устройство ливневой канализации 2021-03-01        0.25   \n",
       "1                  Прочее (Демонтажные работы - труба) 2021-03-01        0.25   \n",
       "2         Устройство свайного основания (буронабивные) 2021-03-01        0.25   \n",
       "3                      Устройство основания (песчаное) 2021-03-01        0.25   \n",
       "4                  Бетонирование (бетонная подготовка) 2021-03-01        0.25   \n",
       "...                                                ...        ...         ...   \n",
       "1078                     Монтаж кабельных полок, стоек 2022-08-01        0.25   \n",
       "1079                          Монтаж дорожных ж/б плит 2022-08-01        0.25   \n",
       "1080                       Монтаж сборных ЖБК (бордюр) 2022-08-01        0.25   \n",
       "1081  Предварительные гидравлические испытания КУ_узел 2022-08-01        0.25   \n",
       "1082                    Монтаж прожекторов на мачте_шт 2022-08-01        0.25   \n",
       "\n",
       "      coef_2_repair  coef_3_mat  coef_4_manag  \n",
       "0              0.25        0.25          0.25  \n",
       "1              0.25        0.25          0.25  \n",
       "2              0.25        0.25          0.25  \n",
       "3              0.25        0.25          0.25  \n",
       "4              0.25        0.25          0.25  \n",
       "...             ...         ...           ...  \n",
       "1078           0.25        0.25          0.25  \n",
       "1079           0.25        0.25          0.25  \n",
       "1080           0.25        0.25          0.25  \n",
       "1081           0.25        0.25          0.25  \n",
       "1082           0.25        0.25          0.25  \n",
       "\n",
       "[1083 rows x 13 columns]"
      ]
     },
     "execution_count": 279,
     "metadata": {},
     "output_type": "execute_result"
    }
   ],
   "source": [
    "# объединяем и выгружаем\n",
    "result_new = result.loc[:,['proj_id','project_name','res_id',\n",
    "                           'resource_name', 'contr_id', 'contractor_name',\n",
    "                           'PO_id','PO_name','dt',\n",
    "                           'coef_1_org', 'coef_2_repair',\n",
    "                           'coef_3_mat', 'coef_4_manag'] ]\n",
    "\n",
    "result_new.columns = ['project_id','project_name','resource_id',\n",
    "                      'resource_name','contractor_id','contractor_name',\n",
    "                      'PO_id','PO_name','dt',\n",
    "                      'coef_1_org', 'coef_2_repair',\n",
    "                           'coef_3_mat', 'coef_4_manag'] \n",
    "\n",
    "result_new.to_excel('./data/4_to_export/filled_template_top_right.xlsx', \n",
    "                    index=False,sheet_name = 'filled_template_top_right')\n",
    "result_new             \n"
   ]
  },
  {
   "cell_type": "markdown",
   "id": "55cbf450",
   "metadata": {},
   "source": [
    "## Bottom_right"
   ]
  },
  {
   "cell_type": "code",
   "execution_count": 277,
   "id": "fc4c79a9",
   "metadata": {
    "ExecuteTime": {
     "end_time": "2022-12-18T10:21:08.306964Z",
     "start_time": "2022-12-18T10:21:05.242281Z"
    }
   },
   "outputs": [],
   "source": [
    "# загружаем result так как он понадобится для графика \n",
    "result = pd.read_excel('./data/4_to_export/result.xlsx')"
   ]
  },
  {
   "cell_type": "code",
   "execution_count": 262,
   "id": "49a46baa",
   "metadata": {
    "ExecuteTime": {
     "end_time": "2022-12-18T07:51:54.341573Z",
     "start_time": "2022-12-18T07:51:54.314844Z"
    }
   },
   "outputs": [
    {
     "data": {
      "text/plain": [
       "<All keys matched successfully>"
      ]
     },
     "execution_count": 262,
     "metadata": {},
     "output_type": "execute_result"
    }
   ],
   "source": [
    "# загружаем веса модели\n",
    "net_state_dict = torch.load('./weights/log_model_huber_05_epoch_500_loss_69_mae_547.pt')\n",
    "net.load_state_dict(net_state_dict)\n"
   ]
  },
  {
   "cell_type": "code",
   "execution_count": 263,
   "id": "cc68c209",
   "metadata": {
    "ExecuteTime": {
     "end_time": "2022-12-18T07:51:56.789748Z",
     "start_time": "2022-12-18T07:51:56.720118Z"
    }
   },
   "outputs": [],
   "source": [
    "result['coef_1_activity'] = abs(result.apply(lambda x: net_state_dict['activity_dense.weight'][x.res_id,x.PO_id].numpy(),axis =1))"
   ]
  },
  {
   "cell_type": "code",
   "execution_count": 264,
   "id": "98c602ce",
   "metadata": {
    "ExecuteTime": {
     "end_time": "2022-12-18T07:51:57.544255Z",
     "start_time": "2022-12-18T07:51:57.465426Z"
    }
   },
   "outputs": [],
   "source": [
    "result['coef_2_month'] = abs(result.apply(lambda x: net_state_dict['month_dense.weight'][0,int(x.month)-1].numpy() * net_state_dict['year_dense.weight'][0,int(x.year)].numpy()  ,axis =1 ))"
   ]
  },
  {
   "cell_type": "code",
   "execution_count": 265,
   "id": "36ad02e9",
   "metadata": {
    "ExecuteTime": {
     "end_time": "2022-12-18T07:51:58.251500Z",
     "start_time": "2022-12-18T07:51:58.235853Z"
    }
   },
   "outputs": [],
   "source": [
    "result['coef_3_pos'] = abs(result.contr_id.apply(lambda x: net_state_dict['contractor_dense.weight'][0,x].numpy() ))"
   ]
  },
  {
   "cell_type": "code",
   "execution_count": 275,
   "id": "d9b55d9c",
   "metadata": {
    "ExecuteTime": {
     "end_time": "2022-12-18T10:17:47.048514Z",
     "start_time": "2022-12-18T10:17:47.032868Z"
    }
   },
   "outputs": [],
   "source": [
    "#  даобавить коэф. ремонтируемых машин.\n"
   ]
  },
  {
   "cell_type": "markdown",
   "id": "d7a47cf2",
   "metadata": {},
   "source": [
    "### работа над коэффициентом ремонта - загружаем ремонтные машины, находим соотношение в ремонте- в работе обновляем coef_4"
   ]
  },
  {
   "cell_type": "code",
   "execution_count": 179,
   "id": "cd5d5e12",
   "metadata": {
    "ExecuteTime": {
     "end_time": "2022-12-18T06:21:50.507648Z",
     "start_time": "2022-12-18T06:21:46.562656Z"
    }
   },
   "outputs": [
    {
     "name": "stderr",
     "output_type": "stream",
     "text": [
      "C:\\Users\\msi\\AppData\\Local\\Temp\\ipykernel_1568\\1265679017.py:1: FutureWarning: Inferring datetime64[ns] from data containing strings is deprecated and will be removed in a future version. To retain the old behavior explicitly pass Series(data, dtype=datetime64[ns])\n",
      "  rem = pd.read_excel('./data/1_external/undentified/RENAME_IDINTROBJ.xlsx', dtype=datetime)\n"
     ]
    }
   ],
   "source": [
    "rem = pd.read_excel('./data/1_external/undentified/RENAME_IDINTROBJ.xlsx', dtype=datetime)"
   ]
  },
  {
   "cell_type": "code",
   "execution_count": 115,
   "id": "e7c53048",
   "metadata": {
    "ExecuteTime": {
     "end_time": "2022-12-18T05:29:30.943818Z",
     "start_time": "2022-12-18T05:29:30.928108Z"
    }
   },
   "outputs": [
    {
     "data": {
      "text/plain": [
       "array(['КС-2 Олекминская Сила Сибири Этап 5.2',\n",
       "       'КС-7 Сивакинская Сила Сибири Этап 5.7'], dtype=object)"
      ]
     },
     "execution_count": 115,
     "metadata": {},
     "output_type": "execute_result"
    }
   ],
   "source": [
    "pd.unique(rem.IDINTROBJ)"
   ]
  },
  {
   "cell_type": "code",
   "execution_count": null,
   "id": "cfd3e38b",
   "metadata": {},
   "outputs": [],
   "source": [
    "# выбираем только 'КС-2 Олекминская Сила Сибири Этап 5.2'\n",
    "rem = rem.loc[rem.IDINTROBJ.str.contains('КС-2')]"
   ]
  },
  {
   "cell_type": "code",
   "execution_count": 180,
   "id": "f529fce5",
   "metadata": {
    "ExecuteTime": {
     "end_time": "2022-12-18T06:21:55.200608Z",
     "start_time": "2022-12-18T06:21:55.184984Z"
    }
   },
   "outputs": [],
   "source": [
    "# собираем все уникальные классы машин\n",
    "a = pd.unique(rem.TechClass)  \n",
    "uniq_tech_dict = dict(zip(a,range(len(a))) )\n",
    "uniq_tech_dict_ids = {v:k for k,v in uniq_tech_dict.items()}\n",
    "rem['TechClass_ids'] = rem.TechClass.map(uniq_tech_dict)"
   ]
  },
  {
   "cell_type": "code",
   "execution_count": 181,
   "id": "f582d68b",
   "metadata": {
    "ExecuteTime": {
     "end_time": "2022-12-18T06:21:56.817595Z",
     "start_time": "2022-12-18T06:21:56.801910Z"
    }
   },
   "outputs": [
    {
     "data": {
      "text/plain": [
       "[(30, 'Кран автомобильный (21-25т)'),\n",
       " (28, 'Автобетоносмеситель'),\n",
       " (19, 'Экскаватор гусеничный легкого класса (массой до 15т)'),\n",
       " (32, 'Сварочный агрегат передвижной (гусеничный)')]"
      ]
     },
     "execution_count": 181,
     "metadata": {},
     "output_type": "execute_result"
    }
   ],
   "source": [
    "# машины, которые участвовали в первом отборе на выгрузку\n",
    "#id = [30, 28,19,32 ]\n",
    "list(zip(id,list(map(mech_res_dict_ids.get,id) )) )"
   ]
  },
  {
   "cell_type": "code",
   "execution_count": 226,
   "id": "de6557ba",
   "metadata": {
    "ExecuteTime": {
     "end_time": "2022-12-18T06:54:21.068571Z",
     "start_time": "2022-12-18T06:54:21.037318Z"
    }
   },
   "outputs": [
    {
     "name": "stdout",
     "output_type": "stream",
     "text": [
      "id --- | --- mech_name --- | --- group_id --- |\n"
     ]
    },
    {
     "data": {
      "text/plain": [
       "[(30, 'Кран автомобильный (21-25т)', 'Краны', 6),\n",
       " (28, 'Автобетоносмеситель', 'Сварочная техника', 19),\n",
       " (19,\n",
       "  'Экскаватор гусеничный легкого класса (массой до 15т)',\n",
       "  'Спецавтотранспорт',\n",
       "  12),\n",
       " (32, 'Сварочный агрегат передвижной (гусеничный)', 'Экскаваторы', 5)]"
      ]
     },
     "execution_count": 226,
     "metadata": {},
     "output_type": "execute_result"
    }
   ],
   "source": [
    "#в ручную выбрали из списка совпадающие классы - technique_for_repair_count\n",
    "technique_for_repair_count = [6,19,12,5]\n",
    "print('id --- | --- mech_name --- | --- group_id --- |')\n",
    "list(zip(id,list(map(mech_res_dict_ids.get,id) ),map(uniq_tech_dict_ids.get,technique_for_repair_count),technique_for_repair_count  ) )"
   ]
  },
  {
   "cell_type": "code",
   "execution_count": 228,
   "id": "92ba976c",
   "metadata": {
    "ExecuteTime": {
     "end_time": "2022-12-18T06:56:23.645222Z",
     "start_time": "2022-12-18T06:56:23.629593Z"
    }
   },
   "outputs": [],
   "source": [
    "# совместили классы с машинами\n",
    "mech_uniq_tech_matches = {30:6, 28:12, 19:5, 32:19}\n",
    "mech_uniq_tech_matches = {v:k for k,v in mech_uniq_tech_matches.items()}"
   ]
  },
  {
   "cell_type": "code",
   "execution_count": 183,
   "id": "b4621474",
   "metadata": {
    "ExecuteTime": {
     "end_time": "2022-12-18T06:22:04.490288Z",
     "start_time": "2022-12-18T06:22:04.081675Z"
    }
   },
   "outputs": [],
   "source": [
    "rem['dt'] = rem.ARDate.apply(lambda x: datetime.strptime(str(x), '%Y-%m-%d %H:%M:%S.000'))\n",
    "rem['month'] = rem.dt.dt.month\n",
    "rem['year'] = rem.dt.dt.year"
   ]
  },
  {
   "cell_type": "code",
   "execution_count": 260,
   "id": "85bdeea9",
   "metadata": {
    "ExecuteTime": {
     "end_time": "2022-12-18T07:12:48.955439Z",
     "start_time": "2022-12-18T07:12:48.751139Z"
    }
   },
   "outputs": [
    {
     "name": "stdout",
     "output_type": "stream",
     "text": [
      "машины id = 30, name = Кран автомобильный (21-25т) finished\n",
      "машины id = 32, name = Сварочный агрегат передвижной (гусеничный) finished\n",
      "машины id = 28, name = Автобетоносмеситель finished\n",
      "машины id = 19, name = Экскаватор гусеничный легкого класса (массой до 15т) finished\n",
      "Done\n"
     ]
    }
   ],
   "source": [
    "# обновляем коэффициент coef_4_repair\n",
    "\n",
    "# создаем новый столбец в result\n",
    "result['coef_4_repair'] = 0.1\n",
    "\n",
    "technique_for_repair_count = [6,19,12,5]\n",
    "# итерируемся по технике\n",
    "for j in technique_for_repair_count:\n",
    "    \n",
    "    # итерируемся по месяцу и году, считаем машины \"в работе\" и НЕ \"в работе\" подставляем в result\n",
    "    for  i in rem.loc[rem.TechClass_ids == j].groupby(['year','month']):\n",
    "        #print(i[0])\n",
    "        #print(i[1])\n",
    "        on_duty = i[1].loc[i[1].Status.str.contains('В работе'), 'Amount'].agg(lambda x: (x.sum()+1) / x.count())\n",
    "        on_repair = i[1].loc[~i[1].Status.str.contains('В работе'), 'Amount'].agg(lambda x: (x.sum()+1) / x.count())\n",
    "        coef_4 = round(on_duty/on_repair,2)\n",
    "        \n",
    "        #print(on_duty,on_repair,coef_4)\n",
    "        \n",
    "        # подставляем coef_4 в result\n",
    "        res_id = mech_uniq_tech_matches[j]\n",
    "        result.loc[(result.res_id == res_id) & (result.year== i[0][0]-2021) & (result.month==i[0][1]),'coef_4_repair' ] = coef_4     \n",
    "        #print('-'*25)\n",
    "\n",
    "    print(f'машины id = {res_id}, name = {mech_res_dict_ids[res_id]} finished')\n",
    "print('Done')"
   ]
  },
  {
   "cell_type": "code",
   "execution_count": 271,
   "id": "b31fa668",
   "metadata": {
    "ExecuteTime": {
     "end_time": "2022-12-18T07:57:54.700147Z",
     "start_time": "2022-12-18T07:57:54.621537Z"
    }
   },
   "outputs": [],
   "source": [
    "# объединить в круговую диаграмму - все коэф. нормализируем \n",
    "result['sum_coef'] = result.apply(lambda x: x.coef_1_activity + x.coef_2_month + x.coef_3_pos + x.coef_4_repair,axis=1)\n",
    "\n",
    "result['coef_1_activity'] = result.apply(lambda x: x.coef_1_activity/x.sum_coef, axis=1)\n",
    "result['coef_2_month'] = result.apply(lambda x: x.coef_2_month/x.sum_coef, axis=1)\n",
    "result['coef_3_pos'] = result.apply(lambda x: x.coef_3_pos/x.sum_coef, axis=1)\n",
    "result['coef_4_repair'] = result.apply(lambda x: x.coef_4_repair/x.sum_coef, axis=1)\n"
   ]
  },
  {
   "cell_type": "code",
   "execution_count": 274,
   "id": "9dd4f9ca",
   "metadata": {
    "ExecuteTime": {
     "end_time": "2022-12-18T08:21:23.847575Z",
     "start_time": "2022-12-18T08:21:23.140434Z"
    },
    "scrolled": true
   },
   "outputs": [
    {
     "data": {
      "text/html": [
       "<div>\n",
       "<style scoped>\n",
       "    .dataframe tbody tr th:only-of-type {\n",
       "        vertical-align: middle;\n",
       "    }\n",
       "\n",
       "    .dataframe tbody tr th {\n",
       "        vertical-align: top;\n",
       "    }\n",
       "\n",
       "    .dataframe thead th {\n",
       "        text-align: right;\n",
       "    }\n",
       "</style>\n",
       "<table border=\"1\" class=\"dataframe\">\n",
       "  <thead>\n",
       "    <tr style=\"text-align: right;\">\n",
       "      <th></th>\n",
       "      <th>project_id</th>\n",
       "      <th>project_name</th>\n",
       "      <th>resource_id</th>\n",
       "      <th>resource_name</th>\n",
       "      <th>contractor_id</th>\n",
       "      <th>contractor_name</th>\n",
       "      <th>PO_id</th>\n",
       "      <th>PO_name</th>\n",
       "      <th>dt</th>\n",
       "      <th>coef_1_activity</th>\n",
       "      <th>coef_2_month</th>\n",
       "      <th>coef_3_pos</th>\n",
       "      <th>coef_4_repair</th>\n",
       "    </tr>\n",
       "  </thead>\n",
       "  <tbody>\n",
       "    <tr>\n",
       "      <th>0</th>\n",
       "      <td>23</td>\n",
       "      <td>КС-2 Олекминская Сила Сибири Этап 5.2</td>\n",
       "      <td>30</td>\n",
       "      <td>Кран автомобильный (21-25т)</td>\n",
       "      <td>1</td>\n",
       "      <td>ООО \"СГК-1\"</td>\n",
       "      <td>4</td>\n",
       "      <td>Устройство ливневой канализации</td>\n",
       "      <td>2021-03-01</td>\n",
       "      <td>0.277918</td>\n",
       "      <td>0.146445</td>\n",
       "      <td>0.284644</td>\n",
       "      <td>0.290994</td>\n",
       "    </tr>\n",
       "    <tr>\n",
       "      <th>1</th>\n",
       "      <td>23</td>\n",
       "      <td>КС-2 Олекминская Сила Сибири Этап 5.2</td>\n",
       "      <td>30</td>\n",
       "      <td>Кран автомобильный (21-25т)</td>\n",
       "      <td>1</td>\n",
       "      <td>ООО \"СГК-1\"</td>\n",
       "      <td>8</td>\n",
       "      <td>Прочее (Демонтажные работы - труба)</td>\n",
       "      <td>2021-03-01</td>\n",
       "      <td>0.207742</td>\n",
       "      <td>0.160677</td>\n",
       "      <td>0.312307</td>\n",
       "      <td>0.319274</td>\n",
       "    </tr>\n",
       "    <tr>\n",
       "      <th>2</th>\n",
       "      <td>23</td>\n",
       "      <td>КС-2 Олекминская Сила Сибири Этап 5.2</td>\n",
       "      <td>30</td>\n",
       "      <td>Кран автомобильный (21-25т)</td>\n",
       "      <td>1</td>\n",
       "      <td>ООО \"СГК-1\"</td>\n",
       "      <td>11</td>\n",
       "      <td>Устройство свайного основания (буронабивные)</td>\n",
       "      <td>2021-03-01</td>\n",
       "      <td>0.314892</td>\n",
       "      <td>0.138946</td>\n",
       "      <td>0.270068</td>\n",
       "      <td>0.276093</td>\n",
       "    </tr>\n",
       "    <tr>\n",
       "      <th>3</th>\n",
       "      <td>23</td>\n",
       "      <td>КС-2 Олекминская Сила Сибири Этап 5.2</td>\n",
       "      <td>30</td>\n",
       "      <td>Кран автомобильный (21-25т)</td>\n",
       "      <td>1</td>\n",
       "      <td>ООО \"СГК-1\"</td>\n",
       "      <td>13</td>\n",
       "      <td>Устройство основания (песчаное)</td>\n",
       "      <td>2021-03-01</td>\n",
       "      <td>0.146082</td>\n",
       "      <td>0.173182</td>\n",
       "      <td>0.336613</td>\n",
       "      <td>0.344122</td>\n",
       "    </tr>\n",
       "    <tr>\n",
       "      <th>4</th>\n",
       "      <td>23</td>\n",
       "      <td>КС-2 Олекминская Сила Сибири Этап 5.2</td>\n",
       "      <td>30</td>\n",
       "      <td>Кран автомобильный (21-25т)</td>\n",
       "      <td>1</td>\n",
       "      <td>ООО \"СГК-1\"</td>\n",
       "      <td>14</td>\n",
       "      <td>Бетонирование (бетонная подготовка)</td>\n",
       "      <td>2021-03-01</td>\n",
       "      <td>0.424900</td>\n",
       "      <td>0.116636</td>\n",
       "      <td>0.226704</td>\n",
       "      <td>0.231761</td>\n",
       "    </tr>\n",
       "    <tr>\n",
       "      <th>...</th>\n",
       "      <td>...</td>\n",
       "      <td>...</td>\n",
       "      <td>...</td>\n",
       "      <td>...</td>\n",
       "      <td>...</td>\n",
       "      <td>...</td>\n",
       "      <td>...</td>\n",
       "      <td>...</td>\n",
       "      <td>...</td>\n",
       "      <td>...</td>\n",
       "      <td>...</td>\n",
       "      <td>...</td>\n",
       "      <td>...</td>\n",
       "    </tr>\n",
       "    <tr>\n",
       "      <th>1078</th>\n",
       "      <td>17</td>\n",
       "      <td>КС-3 Амгинская Сила Сибири Этап 5.3</td>\n",
       "      <td>30</td>\n",
       "      <td>Кран автомобильный (21-25т)</td>\n",
       "      <td>1</td>\n",
       "      <td>ООО \"СГК-1\"</td>\n",
       "      <td>71</td>\n",
       "      <td>Монтаж кабельных полок, стоек</td>\n",
       "      <td>2022-08-01</td>\n",
       "      <td>0.226460</td>\n",
       "      <td>0.157362</td>\n",
       "      <td>0.572196</td>\n",
       "      <td>0.043982</td>\n",
       "    </tr>\n",
       "    <tr>\n",
       "      <th>1079</th>\n",
       "      <td>17</td>\n",
       "      <td>КС-3 Амгинская Сила Сибири Этап 5.3</td>\n",
       "      <td>30</td>\n",
       "      <td>Кран автомобильный (21-25т)</td>\n",
       "      <td>1</td>\n",
       "      <td>ООО \"СГК-1\"</td>\n",
       "      <td>84</td>\n",
       "      <td>Монтаж дорожных ж/б плит</td>\n",
       "      <td>2022-08-01</td>\n",
       "      <td>0.564272</td>\n",
       "      <td>0.088641</td>\n",
       "      <td>0.322312</td>\n",
       "      <td>0.024775</td>\n",
       "    </tr>\n",
       "    <tr>\n",
       "      <th>1080</th>\n",
       "      <td>17</td>\n",
       "      <td>КС-3 Амгинская Сила Сибири Этап 5.3</td>\n",
       "      <td>30</td>\n",
       "      <td>Кран автомобильный (21-25т)</td>\n",
       "      <td>1</td>\n",
       "      <td>ООО \"СГК-1\"</td>\n",
       "      <td>85</td>\n",
       "      <td>Монтаж сборных ЖБК (бордюр)</td>\n",
       "      <td>2022-08-01</td>\n",
       "      <td>0.438130</td>\n",
       "      <td>0.114302</td>\n",
       "      <td>0.415621</td>\n",
       "      <td>0.031947</td>\n",
       "    </tr>\n",
       "    <tr>\n",
       "      <th>1081</th>\n",
       "      <td>17</td>\n",
       "      <td>КС-3 Амгинская Сила Сибири Этап 5.3</td>\n",
       "      <td>30</td>\n",
       "      <td>Кран автомобильный (21-25т)</td>\n",
       "      <td>1</td>\n",
       "      <td>ООО \"СГК-1\"</td>\n",
       "      <td>280</td>\n",
       "      <td>Предварительные гидравлические испытания КУ_узел</td>\n",
       "      <td>2022-08-01</td>\n",
       "      <td>0.197291</td>\n",
       "      <td>0.163296</td>\n",
       "      <td>0.593773</td>\n",
       "      <td>0.045640</td>\n",
       "    </tr>\n",
       "    <tr>\n",
       "      <th>1082</th>\n",
       "      <td>17</td>\n",
       "      <td>КС-3 Амгинская Сила Сибири Этап 5.3</td>\n",
       "      <td>30</td>\n",
       "      <td>Кран автомобильный (21-25т)</td>\n",
       "      <td>1</td>\n",
       "      <td>ООО \"СГК-1\"</td>\n",
       "      <td>296</td>\n",
       "      <td>Монтаж прожекторов на мачте_шт</td>\n",
       "      <td>2022-08-01</td>\n",
       "      <td>0.488238</td>\n",
       "      <td>0.104109</td>\n",
       "      <td>0.378556</td>\n",
       "      <td>0.029098</td>\n",
       "    </tr>\n",
       "  </tbody>\n",
       "</table>\n",
       "<p>1083 rows × 13 columns</p>\n",
       "</div>"
      ],
      "text/plain": [
       "      project_id                           project_name  resource_id  \\\n",
       "0             23  КС-2 Олекминская Сила Сибири Этап 5.2           30   \n",
       "1             23  КС-2 Олекминская Сила Сибири Этап 5.2           30   \n",
       "2             23  КС-2 Олекминская Сила Сибири Этап 5.2           30   \n",
       "3             23  КС-2 Олекминская Сила Сибири Этап 5.2           30   \n",
       "4             23  КС-2 Олекминская Сила Сибири Этап 5.2           30   \n",
       "...          ...                                    ...          ...   \n",
       "1078          17    КС-3 Амгинская Сила Сибири Этап 5.3           30   \n",
       "1079          17    КС-3 Амгинская Сила Сибири Этап 5.3           30   \n",
       "1080          17    КС-3 Амгинская Сила Сибири Этап 5.3           30   \n",
       "1081          17    КС-3 Амгинская Сила Сибири Этап 5.3           30   \n",
       "1082          17    КС-3 Амгинская Сила Сибири Этап 5.3           30   \n",
       "\n",
       "                    resource_name  contractor_id contractor_name  PO_id  \\\n",
       "0     Кран автомобильный (21-25т)              1     ООО \"СГК-1\"      4   \n",
       "1     Кран автомобильный (21-25т)              1     ООО \"СГК-1\"      8   \n",
       "2     Кран автомобильный (21-25т)              1     ООО \"СГК-1\"     11   \n",
       "3     Кран автомобильный (21-25т)              1     ООО \"СГК-1\"     13   \n",
       "4     Кран автомобильный (21-25т)              1     ООО \"СГК-1\"     14   \n",
       "...                           ...            ...             ...    ...   \n",
       "1078  Кран автомобильный (21-25т)              1     ООО \"СГК-1\"     71   \n",
       "1079  Кран автомобильный (21-25т)              1     ООО \"СГК-1\"     84   \n",
       "1080  Кран автомобильный (21-25т)              1     ООО \"СГК-1\"     85   \n",
       "1081  Кран автомобильный (21-25т)              1     ООО \"СГК-1\"    280   \n",
       "1082  Кран автомобильный (21-25т)              1     ООО \"СГК-1\"    296   \n",
       "\n",
       "                                               PO_name         dt  \\\n",
       "0                      Устройство ливневой канализации 2021-03-01   \n",
       "1                  Прочее (Демонтажные работы - труба) 2021-03-01   \n",
       "2         Устройство свайного основания (буронабивные) 2021-03-01   \n",
       "3                      Устройство основания (песчаное) 2021-03-01   \n",
       "4                  Бетонирование (бетонная подготовка) 2021-03-01   \n",
       "...                                                ...        ...   \n",
       "1078                     Монтаж кабельных полок, стоек 2022-08-01   \n",
       "1079                          Монтаж дорожных ж/б плит 2022-08-01   \n",
       "1080                       Монтаж сборных ЖБК (бордюр) 2022-08-01   \n",
       "1081  Предварительные гидравлические испытания КУ_узел 2022-08-01   \n",
       "1082                    Монтаж прожекторов на мачте_шт 2022-08-01   \n",
       "\n",
       "      coef_1_activity  coef_2_month  coef_3_pos  coef_4_repair  \n",
       "0            0.277918      0.146445    0.284644       0.290994  \n",
       "1            0.207742      0.160677    0.312307       0.319274  \n",
       "2            0.314892      0.138946    0.270068       0.276093  \n",
       "3            0.146082      0.173182    0.336613       0.344122  \n",
       "4            0.424900      0.116636    0.226704       0.231761  \n",
       "...               ...           ...         ...            ...  \n",
       "1078         0.226460      0.157362    0.572196       0.043982  \n",
       "1079         0.564272      0.088641    0.322312       0.024775  \n",
       "1080         0.438130      0.114302    0.415621       0.031947  \n",
       "1081         0.197291      0.163296    0.593773       0.045640  \n",
       "1082         0.488238      0.104109    0.378556       0.029098  \n",
       "\n",
       "[1083 rows x 13 columns]"
      ]
     },
     "execution_count": 274,
     "metadata": {},
     "output_type": "execute_result"
    }
   ],
   "source": [
    "# объединяем и выгружаем\n",
    "result_new = result.loc[:,['proj_id','project_name','res_id',\n",
    "                           'resource_name', 'contr_id', 'contractor_name',\n",
    "                           'PO_id','PO_name','dt',\n",
    "                           'coef_1_activity', 'coef_2_month',\n",
    "                           'coef_3_pos', 'coef_4_repair'] ]\n",
    "\n",
    "result_new.columns = ['project_id','project_name','resource_id',\n",
    "                      'resource_name','contractor_id','contractor_name',\n",
    "                      'PO_id','PO_name','dt',\n",
    "                      'coef_1_activity', 'coef_2_month',\n",
    "                           'coef_3_pos', 'coef_4_repair'] \n",
    "\n",
    "result_new.to_excel('./data/4_to_export/filled_template_bottom_right.xlsx', \n",
    "                    index=False,sheet_name = 'filled_template_bottom_right')\n",
    "result_new             \n"
   ]
  },
  {
   "cell_type": "code",
   "execution_count": 276,
   "id": "17b81b75",
   "metadata": {
    "ExecuteTime": {
     "end_time": "2022-12-18T10:20:56.438974Z",
     "start_time": "2022-12-18T10:20:53.060128Z"
    }
   },
   "outputs": [],
   "source": [
    "result.to_excel('./data/4_to_export/result_after_right_bottom.xlsx')"
   ]
  },
  {
   "cell_type": "code",
   "execution_count": null,
   "id": "b5447af4",
   "metadata": {},
   "outputs": [],
   "source": []
  },
  {
   "cell_type": "code",
   "execution_count": null,
   "id": "4bf346b3",
   "metadata": {},
   "outputs": [],
   "source": []
  },
  {
   "cell_type": "markdown",
   "id": "412e788d",
   "metadata": {},
   "source": [
    "## Old data to Delete"
   ]
  },
  {
   "cell_type": "markdown",
   "id": "0da22e60",
   "metadata": {},
   "source": [
    "### (old _ уже не используется) Создаем файл Excel по определенной машине (old _ уже не используется)"
   ]
  },
  {
   "cell_type": "code",
   "execution_count": null,
   "id": "9f90aabb",
   "metadata": {
    "ExecuteTime": {
     "end_time": "2022-12-13T12:54:45.835208Z",
     "start_time": "2022-12-13T12:54:40.130916Z"
    }
   },
   "outputs": [],
   "source": [
    "df  = pd.read_excel('./data/1_external/Primavera_features/EXCEL/КС-3 Амгинская Сила Сибири Этап 5.3.xlsx')"
   ]
  },
  {
   "cell_type": "code",
   "execution_count": 22,
   "id": "ffd578b7",
   "metadata": {
    "ExecuteTime": {
     "end_time": "2022-12-19T10:18:07.386795Z",
     "start_time": "2022-12-19T10:18:07.370797Z"
    }
   },
   "outputs": [],
   "source": [
    "mech_res_dict = np.load( './scripts/3_final/mech_res_dict.npy', allow_pickle=True).item()\n",
    "c = pd.read_excel('./data/Needed_materials/mech_missed_ids.xlsx',usecols=[0,1],).dropna()\n",
    "c = c.set_index('missed_name').id.astype( int ).to_dict()\n",
    "mech_res_dict = {**c,**mech_res_dict}"
   ]
  },
  {
   "cell_type": "code",
   "execution_count": null,
   "id": "12999b0a",
   "metadata": {
    "ExecuteTime": {
     "end_time": "2022-12-13T12:54:53.397973Z",
     "start_time": "2022-12-13T12:54:53.383945Z"
    }
   },
   "outputs": [],
   "source": []
  },
  {
   "cell_type": "code",
   "execution_count": null,
   "id": "b5777c8e",
   "metadata": {
    "ExecuteTime": {
     "end_time": "2022-12-13T13:17:05.635891Z",
     "start_time": "2022-12-13T13:17:05.243442Z"
    }
   },
   "outputs": [],
   "source": []
  },
  {
   "cell_type": "code",
   "execution_count": null,
   "id": "0a5737b0",
   "metadata": {},
   "outputs": [],
   "source": []
  },
  {
   "cell_type": "code",
   "execution_count": 56,
   "id": "ba7290a1",
   "metadata": {
    "ExecuteTime": {
     "end_time": "2022-12-13T12:54:45.882620Z",
     "start_time": "2022-12-13T12:54:45.867037Z"
    }
   },
   "outputs": [],
   "source": []
  },
  {
   "cell_type": "code",
   "execution_count": null,
   "id": "16204574",
   "metadata": {
    "ExecuteTime": {
     "end_time": "2022-12-13T12:54:50.997068Z",
     "start_time": "2022-12-13T12:54:50.981424Z"
    }
   },
   "outputs": [],
   "source": [
    "df['resource_id'] = df.resource_name.map(mech_res_dict)\n",
    "assert sum(pd.isna(df.resource_id)) == 0, 'есть пустые машины'"
   ]
  },
  {
   "cell_type": "code",
   "execution_count": 157,
   "id": "ec1ff5fa",
   "metadata": {
    "ExecuteTime": {
     "end_time": "2022-12-14T05:54:06.557959Z",
     "start_time": "2022-12-14T05:54:06.523160Z"
    },
    "collapsed": true
   },
   "outputs": [
    {
     "ename": "AttributeError",
     "evalue": "'DataFrame' object has no attribute 'contractor_name'",
     "output_type": "error",
     "traceback": [
      "\u001b[1;31m---------------------------------------------------------------------------\u001b[0m",
      "\u001b[1;31mAttributeError\u001b[0m                            Traceback (most recent call last)",
      "Input \u001b[1;32mIn [157]\u001b[0m, in \u001b[0;36m<cell line: 2>\u001b[1;34m()\u001b[0m\n\u001b[0;32m      1\u001b[0m feature_contractor_dict \u001b[38;5;241m=\u001b[39m np\u001b[38;5;241m.\u001b[39mload(\u001b[38;5;124m'\u001b[39m\u001b[38;5;124m./scripts/3_final/all_contractors.npy\u001b[39m\u001b[38;5;124m'\u001b[39m, allow_pickle\u001b[38;5;241m=\u001b[39m\u001b[38;5;28;01mTrue\u001b[39;00m)\u001b[38;5;241m.\u001b[39mitem()\n\u001b[1;32m----> 2\u001b[0m df[\u001b[38;5;124m'\u001b[39m\u001b[38;5;124mcontractor_id\u001b[39m\u001b[38;5;124m'\u001b[39m] \u001b[38;5;241m=\u001b[39m \u001b[43mdf\u001b[49m\u001b[38;5;241;43m.\u001b[39;49m\u001b[43mcontractor_name\u001b[49m\u001b[38;5;241m.\u001b[39mmap(feature_contractor_dict)\n\u001b[0;32m      3\u001b[0m \u001b[38;5;28;01massert\u001b[39;00m \u001b[38;5;28msum\u001b[39m(pd\u001b[38;5;241m.\u001b[39misna(df\u001b[38;5;241m.\u001b[39mcontractor_id)) \u001b[38;5;241m==\u001b[39m \u001b[38;5;241m0\u001b[39m, \u001b[38;5;124m'\u001b[39m\u001b[38;5;124mесть пустые контракторы\u001b[39m\u001b[38;5;124m'\u001b[39m\n",
      "File \u001b[1;32mC:\\ProgramData\\Anaconda3\\lib\\site-packages\\pandas\\core\\generic.py:5575\u001b[0m, in \u001b[0;36mNDFrame.__getattr__\u001b[1;34m(self, name)\u001b[0m\n\u001b[0;32m   5568\u001b[0m \u001b[38;5;28;01mif\u001b[39;00m (\n\u001b[0;32m   5569\u001b[0m     name \u001b[38;5;129;01mnot\u001b[39;00m \u001b[38;5;129;01min\u001b[39;00m \u001b[38;5;28mself\u001b[39m\u001b[38;5;241m.\u001b[39m_internal_names_set\n\u001b[0;32m   5570\u001b[0m     \u001b[38;5;129;01mand\u001b[39;00m name \u001b[38;5;129;01mnot\u001b[39;00m \u001b[38;5;129;01min\u001b[39;00m \u001b[38;5;28mself\u001b[39m\u001b[38;5;241m.\u001b[39m_metadata\n\u001b[0;32m   5571\u001b[0m     \u001b[38;5;129;01mand\u001b[39;00m name \u001b[38;5;129;01mnot\u001b[39;00m \u001b[38;5;129;01min\u001b[39;00m \u001b[38;5;28mself\u001b[39m\u001b[38;5;241m.\u001b[39m_accessors\n\u001b[0;32m   5572\u001b[0m     \u001b[38;5;129;01mand\u001b[39;00m \u001b[38;5;28mself\u001b[39m\u001b[38;5;241m.\u001b[39m_info_axis\u001b[38;5;241m.\u001b[39m_can_hold_identifiers_and_holds_name(name)\n\u001b[0;32m   5573\u001b[0m ):\n\u001b[0;32m   5574\u001b[0m     \u001b[38;5;28;01mreturn\u001b[39;00m \u001b[38;5;28mself\u001b[39m[name]\n\u001b[1;32m-> 5575\u001b[0m \u001b[38;5;28;01mreturn\u001b[39;00m \u001b[38;5;28;43mobject\u001b[39;49m\u001b[38;5;241;43m.\u001b[39;49m\u001b[38;5;21;43m__getattribute__\u001b[39;49m\u001b[43m(\u001b[49m\u001b[38;5;28;43mself\u001b[39;49m\u001b[43m,\u001b[49m\u001b[43m \u001b[49m\u001b[43mname\u001b[49m\u001b[43m)\u001b[49m\n",
      "\u001b[1;31mAttributeError\u001b[0m: 'DataFrame' object has no attribute 'contractor_name'"
     ]
    }
   ],
   "source": [
    "feature_contractor_dict = np.load('./scripts/3_final/all_contractors.npy', allow_pickle=True).item()\n",
    "df['contractor_id'] = df.contractor_name.map(feature_contractor_dict)\n",
    "assert sum(pd.isna(df.contractor_id)) == 0, 'есть пустые контракторы'"
   ]
  },
  {
   "cell_type": "code",
   "execution_count": 59,
   "id": "c7b118f4",
   "metadata": {
    "ExecuteTime": {
     "end_time": "2022-12-13T12:54:53.397973Z",
     "start_time": "2022-12-13T12:54:53.383945Z"
    }
   },
   "outputs": [],
   "source": [
    "norms_ids_dict = np.load('./data/Needed_materials/Norms_ids_dict.npy', allow_pickle=True).item()\n",
    "df['PO_name'] = df.PO_id.map(norms_ids_dict)\n",
    "assert sum(pd.isna(df.PO_name)) == 0, 'есть пустые PO_name'"
   ]
  },
  {
   "cell_type": "code",
   "execution_count": 79,
   "id": "60855c91",
   "metadata": {
    "ExecuteTime": {
     "end_time": "2022-12-13T13:17:05.635891Z",
     "start_time": "2022-12-13T13:17:05.243442Z"
    }
   },
   "outputs": [],
   "source": [
    "from datetime import datetime \n",
    "df['dt'] = df.dt.apply( lambda x: datetime.strptime(str(x), '%Y-%m-%d %H:%M:%S'))"
   ]
  },
  {
   "cell_type": "code",
   "execution_count": null,
   "id": "6f883235",
   "metadata": {},
   "outputs": [],
   "source": []
  },
  {
   "cell_type": "code",
   "execution_count": null,
   "id": "7444a7e1",
   "metadata": {},
   "outputs": [],
   "source": [
    "for i,name in enumerate(['КС-3 Амгинская Сила Сибири Этап 5.3.xlsx','КС-2 Олекминская Сила Сибири Этап 5.2.xlsx'])\n",
    "df  = pd.read_excel(f'./data/1_external/Primavera_features/EXCEL/{name}')\n",
    "\n",
    "df['resource_id'] = df.resource_name.map(mech_res_dict)\n",
    "assert sum(pd.isna(df.resource_id)) == 0, 'есть пустые машины'\n",
    "\n",
    "df['contractor_id'] = df.contractor_name.map(feature_contractor_dict)\n",
    "assert sum(pd.isna(df.contractor_id)) == 0, 'есть пустые контракторы'\n",
    "\n",
    "df['PO_name'] = df.PO_id.map(norms_ids_dict)\n",
    "assert sum(pd.isna(df.PO_name)) == 0, 'есть пустые PO_name'\n",
    "\n",
    "df['dt'] = df.dt.apply( lambda x: datetime.strptime(str(x), '%Y-%m-%d %H:%M:%S'))\n",
    "\n",
    "df_new = df.loc[:,['id_project','project_name','id_resource','resource_name', 'contractor_id', 'contractor_name','PO_id','PO_name','dt','act_reg_qty'  ]]\n",
    "df_new['fact'] = 0\n",
    "df_new['predict'] = 0\n",
    "df_new.columns = ['project_id','project_name','resource_id','resource_name','Contractor_id','Contractor_name','PO_id','PO_name(Work_name)','dt','Plan','Fact','Predict_NN']\n",
    "df_new.to_excel('./data/4_to_export/filled_template.xlsx', index=False)\n",
    "\n"
   ]
  },
  {
   "cell_type": "code",
   "execution_count": null,
   "id": "dad70860",
   "metadata": {},
   "outputs": [],
   "source": []
  },
  {
   "cell_type": "code",
   "execution_count": null,
   "id": "690422c6",
   "metadata": {},
   "outputs": [],
   "source": [
    "# создаем новые поля coef_1_activity, coef_2_month , coef_3_position\n",
    "result['']"
   ]
  },
  {
   "cell_type": "code",
   "execution_count": null,
   "id": "6b792674",
   "metadata": {},
   "outputs": [],
   "source": []
  },
  {
   "cell_type": "code",
   "execution_count": null,
   "id": "fcbebbe7",
   "metadata": {},
   "outputs": [],
   "source": []
  },
  {
   "cell_type": "code",
   "execution_count": 269,
   "id": "5a5cf046",
   "metadata": {
    "ExecuteTime": {
     "end_time": "2022-12-14T18:41:28.048828Z",
     "start_time": "2022-12-14T18:41:28.031837Z"
    }
   },
   "outputs": [
    {
     "data": {
      "text/plain": [
       "(array([11, 21], dtype=int64),)"
      ]
     },
     "execution_count": 269,
     "metadata": {},
     "output_type": "execute_result"
    }
   ],
   "source": [
    "np.nonzero(df_new.iloc[-1,3:-11].values)"
   ]
  },
  {
   "cell_type": "code",
   "execution_count": 253,
   "id": "9e4ae279",
   "metadata": {
    "ExecuteTime": {
     "end_time": "2022-12-14T18:28:40.997927Z",
     "start_time": "2022-12-14T18:28:40.987930Z"
    }
   },
   "outputs": [],
   "source": [
    "# start_pos = 3\n",
    "# end_pos = 11\n",
    "# l = pd.DataFrame([df_new.iloc[0,:start_pos] for _ in range(len(a))]).reset_index(drop= True)\n",
    "# k = pd.DataFrame([df_new.iloc[0,-end_pos:] for _ in range(len(a))]).reset_index(drop= True)\n",
    "\n",
    "# a = df_new.iloc[0]\n",
    "# a = np.nonzero(a[3:-11].values)[0]\n",
    "# b = np.zeros((len(a),373))\n",
    "\n",
    "# for i,j in enumerate(a):\n",
    "#     b[i,j] = df_new.iloc[0][start_pos+j]\n",
    "\n",
    "# res = pd.concat([ l,pd.DataFrame(b),k],axis=1,ignore_index=True )\n"
   ]
  },
  {
   "cell_type": "code",
   "execution_count": 196,
   "id": "9bb43142",
   "metadata": {
    "ExecuteTime": {
     "end_time": "2022-12-14T17:48:39.944149Z",
     "start_time": "2022-12-14T17:48:39.932135Z"
    }
   },
   "outputs": [
    {
     "data": {
      "text/plain": [
       "array([[0., 0., 0., ..., 0., 0., 0.],\n",
       "       [0., 0., 0., ..., 0., 0., 0.],\n",
       "       [0., 0., 0., ..., 0., 0., 0.],\n",
       "       [0., 0., 0., ..., 0., 0., 0.]])"
      ]
     },
     "execution_count": 196,
     "metadata": {},
     "output_type": "execute_result"
    }
   ],
   "source": [
    "for i,j in enumerate(a):\n",
    "    b[i,j] = df_new.iloc[0][start_pos+j]\n",
    "b"
   ]
  },
  {
   "cell_type": "code",
   "execution_count": 252,
   "id": "a068d552",
   "metadata": {
    "ExecuteTime": {
     "end_time": "2022-12-14T18:27:21.762803Z",
     "start_time": "2022-12-14T18:27:21.753806Z"
    }
   },
   "outputs": [],
   "source": [
    "\n",
    "res = pd.concat([ l,pd.DataFrame(b),k],axis=1,ignore_index=True, )"
   ]
  },
  {
   "cell_type": "code",
   "execution_count": null,
   "id": "26161eb1",
   "metadata": {},
   "outputs": [],
   "source": []
  },
  {
   "cell_type": "code",
   "execution_count": null,
   "id": "d4fd452b",
   "metadata": {},
   "outputs": [],
   "source": [
    "pd.DataFrame()"
   ]
  },
  {
   "cell_type": "code",
   "execution_count": 178,
   "id": "2159b6f1",
   "metadata": {
    "ExecuteTime": {
     "end_time": "2022-12-14T17:27:44.214572Z",
     "start_time": "2022-12-14T17:27:44.163583Z"
    },
    "scrolled": true
   },
   "outputs": [
    {
     "name": "stderr",
     "output_type": "stream",
     "text": [
      "C:\\Users\\msi\\AppData\\Local\\Temp\\ipykernel_10124\\896108613.py:1: FutureWarning: The frame.append method is deprecated and will be removed from pandas in a future version. Use pandas.concat instead.\n",
      "  df_new.append(df_new.iloc[0])\n"
     ]
    },
    {
     "data": {
      "text/html": [
       "<div>\n",
       "<style scoped>\n",
       "    .dataframe tbody tr th:only-of-type {\n",
       "        vertical-align: middle;\n",
       "    }\n",
       "\n",
       "    .dataframe tbody tr th {\n",
       "        vertical-align: top;\n",
       "    }\n",
       "\n",
       "    .dataframe thead th {\n",
       "        text-align: right;\n",
       "    }\n",
       "</style>\n",
       "<table border=\"1\" class=\"dataframe\">\n",
       "  <thead>\n",
       "    <tr style=\"text-align: right;\">\n",
       "      <th></th>\n",
       "      <th>Unnamed: 0</th>\n",
       "      <th>proj_id</th>\n",
       "      <th>contr_id</th>\n",
       "      <th>0</th>\n",
       "      <th>1</th>\n",
       "      <th>2</th>\n",
       "      <th>3</th>\n",
       "      <th>4</th>\n",
       "      <th>5</th>\n",
       "      <th>6</th>\n",
       "      <th>...</th>\n",
       "      <th>year</th>\n",
       "      <th>res_id</th>\n",
       "      <th>target</th>\n",
       "      <th>project_name</th>\n",
       "      <th>resource_name</th>\n",
       "      <th>contractor_name</th>\n",
       "      <th>Plan</th>\n",
       "      <th>Fact</th>\n",
       "      <th>dt</th>\n",
       "      <th>Predict_NN</th>\n",
       "    </tr>\n",
       "  </thead>\n",
       "  <tbody>\n",
       "    <tr>\n",
       "      <th>20</th>\n",
       "      <td>20</td>\n",
       "      <td>23</td>\n",
       "      <td>1</td>\n",
       "      <td>0.0</td>\n",
       "      <td>0.0</td>\n",
       "      <td>0.0</td>\n",
       "      <td>0.0</td>\n",
       "      <td>0.000000</td>\n",
       "      <td>0</td>\n",
       "      <td>0</td>\n",
       "      <td>...</td>\n",
       "      <td>0</td>\n",
       "      <td>28</td>\n",
       "      <td>1221.00</td>\n",
       "      <td>КС-2 Олекминская Сила Сибири Этап 5.2</td>\n",
       "      <td>Автобетоносмеситель</td>\n",
       "      <td>ООО \"СГК-1\"</td>\n",
       "      <td>8131.646914</td>\n",
       "      <td>1221.00</td>\n",
       "      <td>2021-03-01</td>\n",
       "      <td>1224.605469</td>\n",
       "    </tr>\n",
       "    <tr>\n",
       "      <th>24</th>\n",
       "      <td>24</td>\n",
       "      <td>23</td>\n",
       "      <td>1</td>\n",
       "      <td>0.0</td>\n",
       "      <td>0.0</td>\n",
       "      <td>0.0</td>\n",
       "      <td>0.0</td>\n",
       "      <td>0.000000</td>\n",
       "      <td>0</td>\n",
       "      <td>0</td>\n",
       "      <td>...</td>\n",
       "      <td>0</td>\n",
       "      <td>19</td>\n",
       "      <td>620.00</td>\n",
       "      <td>КС-2 Олекминская Сила Сибири Этап 5.2</td>\n",
       "      <td>Экскаватор гусеничный легкого класса (массой д...</td>\n",
       "      <td>ООО \"СГК-1\"</td>\n",
       "      <td>649.886509</td>\n",
       "      <td>620.00</td>\n",
       "      <td>2021-03-01</td>\n",
       "      <td>630.373718</td>\n",
       "    </tr>\n",
       "    <tr>\n",
       "      <th>23</th>\n",
       "      <td>23</td>\n",
       "      <td>23</td>\n",
       "      <td>1</td>\n",
       "      <td>0.0</td>\n",
       "      <td>0.0</td>\n",
       "      <td>0.0</td>\n",
       "      <td>0.0</td>\n",
       "      <td>0.000000</td>\n",
       "      <td>0</td>\n",
       "      <td>0</td>\n",
       "      <td>...</td>\n",
       "      <td>0</td>\n",
       "      <td>32</td>\n",
       "      <td>3366.01</td>\n",
       "      <td>КС-2 Олекминская Сила Сибири Этап 5.2</td>\n",
       "      <td>Сварочный агрегат передвижной (гусеничный)</td>\n",
       "      <td>ООО \"СГК-1\"</td>\n",
       "      <td>4045.658071</td>\n",
       "      <td>3366.01</td>\n",
       "      <td>2021-03-01</td>\n",
       "      <td>3485.977051</td>\n",
       "    </tr>\n",
       "    <tr>\n",
       "      <th>22</th>\n",
       "      <td>22</td>\n",
       "      <td>23</td>\n",
       "      <td>1</td>\n",
       "      <td>0.0</td>\n",
       "      <td>0.0</td>\n",
       "      <td>0.0</td>\n",
       "      <td>0.0</td>\n",
       "      <td>31.824629</td>\n",
       "      <td>0</td>\n",
       "      <td>0</td>\n",
       "      <td>...</td>\n",
       "      <td>0</td>\n",
       "      <td>30</td>\n",
       "      <td>2612.04</td>\n",
       "      <td>КС-2 Олекминская Сила Сибири Этап 5.2</td>\n",
       "      <td>Кран автомобильный (21-25т)</td>\n",
       "      <td>ООО \"СГК-1\"</td>\n",
       "      <td>15064.347697</td>\n",
       "      <td>2612.04</td>\n",
       "      <td>2021-03-01</td>\n",
       "      <td>2743.156494</td>\n",
       "    </tr>\n",
       "    <tr>\n",
       "      <th>42</th>\n",
       "      <td>42</td>\n",
       "      <td>23</td>\n",
       "      <td>1</td>\n",
       "      <td>0.0</td>\n",
       "      <td>0.0</td>\n",
       "      <td>0.0</td>\n",
       "      <td>0.0</td>\n",
       "      <td>0.000000</td>\n",
       "      <td>0</td>\n",
       "      <td>0</td>\n",
       "      <td>...</td>\n",
       "      <td>0</td>\n",
       "      <td>28</td>\n",
       "      <td>1186.02</td>\n",
       "      <td>КС-2 Олекминская Сила Сибири Этап 5.2</td>\n",
       "      <td>Автобетоносмеситель</td>\n",
       "      <td>ООО \"СГК-1\"</td>\n",
       "      <td>402.503894</td>\n",
       "      <td>1186.02</td>\n",
       "      <td>2021-04-01</td>\n",
       "      <td>786.559448</td>\n",
       "    </tr>\n",
       "    <tr>\n",
       "      <th>...</th>\n",
       "      <td>...</td>\n",
       "      <td>...</td>\n",
       "      <td>...</td>\n",
       "      <td>...</td>\n",
       "      <td>...</td>\n",
       "      <td>...</td>\n",
       "      <td>...</td>\n",
       "      <td>...</td>\n",
       "      <td>...</td>\n",
       "      <td>...</td>\n",
       "      <td>...</td>\n",
       "      <td>...</td>\n",
       "      <td>...</td>\n",
       "      <td>...</td>\n",
       "      <td>...</td>\n",
       "      <td>...</td>\n",
       "      <td>...</td>\n",
       "      <td>...</td>\n",
       "      <td>...</td>\n",
       "      <td>...</td>\n",
       "      <td>...</td>\n",
       "    </tr>\n",
       "    <tr>\n",
       "      <th>446</th>\n",
       "      <td>446</td>\n",
       "      <td>17</td>\n",
       "      <td>1</td>\n",
       "      <td>0.0</td>\n",
       "      <td>0.0</td>\n",
       "      <td>0.0</td>\n",
       "      <td>0.0</td>\n",
       "      <td>0.000000</td>\n",
       "      <td>0</td>\n",
       "      <td>0</td>\n",
       "      <td>...</td>\n",
       "      <td>1</td>\n",
       "      <td>30</td>\n",
       "      <td>7496.00</td>\n",
       "      <td>КС-3 Амгинская Сила Сибири Этап 5.3</td>\n",
       "      <td>Кран автомобильный (21-25т)</td>\n",
       "      <td>ООО \"СГК-1\"</td>\n",
       "      <td>173.604735</td>\n",
       "      <td>7496.00</td>\n",
       "      <td>2022-08-01</td>\n",
       "      <td>104.443245</td>\n",
       "    </tr>\n",
       "    <tr>\n",
       "      <th>448</th>\n",
       "      <td>448</td>\n",
       "      <td>17</td>\n",
       "      <td>1</td>\n",
       "      <td>0.0</td>\n",
       "      <td>0.0</td>\n",
       "      <td>0.0</td>\n",
       "      <td>0.0</td>\n",
       "      <td>0.000000</td>\n",
       "      <td>0</td>\n",
       "      <td>0</td>\n",
       "      <td>...</td>\n",
       "      <td>1</td>\n",
       "      <td>32</td>\n",
       "      <td>809.10</td>\n",
       "      <td>КС-3 Амгинская Сила Сибири Этап 5.3</td>\n",
       "      <td>Сварочный агрегат передвижной (гусеничный)</td>\n",
       "      <td>ООО \"СГК-1\"</td>\n",
       "      <td>101.826081</td>\n",
       "      <td>809.10</td>\n",
       "      <td>2022-08-01</td>\n",
       "      <td>401.715057</td>\n",
       "    </tr>\n",
       "    <tr>\n",
       "      <th>457</th>\n",
       "      <td>457</td>\n",
       "      <td>17</td>\n",
       "      <td>1</td>\n",
       "      <td>0.0</td>\n",
       "      <td>0.0</td>\n",
       "      <td>0.0</td>\n",
       "      <td>0.0</td>\n",
       "      <td>0.000000</td>\n",
       "      <td>0</td>\n",
       "      <td>0</td>\n",
       "      <td>...</td>\n",
       "      <td>1</td>\n",
       "      <td>19</td>\n",
       "      <td>485.00</td>\n",
       "      <td>КС-3 Амгинская Сила Сибири Этап 5.3</td>\n",
       "      <td>Экскаватор гусеничный легкого класса (массой д...</td>\n",
       "      <td>ООО \"СГК-1\"</td>\n",
       "      <td>17.438728</td>\n",
       "      <td>485.00</td>\n",
       "      <td>2022-08-01</td>\n",
       "      <td>24.923759</td>\n",
       "    </tr>\n",
       "    <tr>\n",
       "      <th>459</th>\n",
       "      <td>459</td>\n",
       "      <td>17</td>\n",
       "      <td>1</td>\n",
       "      <td>0.0</td>\n",
       "      <td>0.0</td>\n",
       "      <td>0.0</td>\n",
       "      <td>0.0</td>\n",
       "      <td>0.000000</td>\n",
       "      <td>0</td>\n",
       "      <td>0</td>\n",
       "      <td>...</td>\n",
       "      <td>1</td>\n",
       "      <td>28</td>\n",
       "      <td>1385.00</td>\n",
       "      <td>КС-3 Амгинская Сила Сибири Этап 5.3</td>\n",
       "      <td>Автобетоносмеситель</td>\n",
       "      <td>ООО \"СГК-1\"</td>\n",
       "      <td>59.481421</td>\n",
       "      <td>1385.00</td>\n",
       "      <td>2022-08-01</td>\n",
       "      <td>26.630539</td>\n",
       "    </tr>\n",
       "    <tr>\n",
       "      <th>20</th>\n",
       "      <td>20</td>\n",
       "      <td>23</td>\n",
       "      <td>1</td>\n",
       "      <td>0.0</td>\n",
       "      <td>0.0</td>\n",
       "      <td>0.0</td>\n",
       "      <td>0.0</td>\n",
       "      <td>0.000000</td>\n",
       "      <td>0</td>\n",
       "      <td>0</td>\n",
       "      <td>...</td>\n",
       "      <td>0</td>\n",
       "      <td>28</td>\n",
       "      <td>1221.00</td>\n",
       "      <td>КС-2 Олекминская Сила Сибири Этап 5.2</td>\n",
       "      <td>Автобетоносмеситель</td>\n",
       "      <td>ООО \"СГК-1\"</td>\n",
       "      <td>8131.646914</td>\n",
       "      <td>1221.00</td>\n",
       "      <td>2021-03-01</td>\n",
       "      <td>1224.605469</td>\n",
       "    </tr>\n",
       "  </tbody>\n",
       "</table>\n",
       "<p>120 rows × 387 columns</p>\n",
       "</div>"
      ],
      "text/plain": [
       "     Unnamed: 0  proj_id  contr_id    0    1    2    3          4  5  6  ...  \\\n",
       "20           20       23         1  0.0  0.0  0.0  0.0   0.000000  0  0  ...   \n",
       "24           24       23         1  0.0  0.0  0.0  0.0   0.000000  0  0  ...   \n",
       "23           23       23         1  0.0  0.0  0.0  0.0   0.000000  0  0  ...   \n",
       "22           22       23         1  0.0  0.0  0.0  0.0  31.824629  0  0  ...   \n",
       "42           42       23         1  0.0  0.0  0.0  0.0   0.000000  0  0  ...   \n",
       "..          ...      ...       ...  ...  ...  ...  ...        ... .. ..  ...   \n",
       "446         446       17         1  0.0  0.0  0.0  0.0   0.000000  0  0  ...   \n",
       "448         448       17         1  0.0  0.0  0.0  0.0   0.000000  0  0  ...   \n",
       "457         457       17         1  0.0  0.0  0.0  0.0   0.000000  0  0  ...   \n",
       "459         459       17         1  0.0  0.0  0.0  0.0   0.000000  0  0  ...   \n",
       "20           20       23         1  0.0  0.0  0.0  0.0   0.000000  0  0  ...   \n",
       "\n",
       "     year  res_id   target                           project_name  \\\n",
       "20      0      28  1221.00  КС-2 Олекминская Сила Сибири Этап 5.2   \n",
       "24      0      19   620.00  КС-2 Олекминская Сила Сибири Этап 5.2   \n",
       "23      0      32  3366.01  КС-2 Олекминская Сила Сибири Этап 5.2   \n",
       "22      0      30  2612.04  КС-2 Олекминская Сила Сибири Этап 5.2   \n",
       "42      0      28  1186.02  КС-2 Олекминская Сила Сибири Этап 5.2   \n",
       "..    ...     ...      ...                                    ...   \n",
       "446     1      30  7496.00    КС-3 Амгинская Сила Сибири Этап 5.3   \n",
       "448     1      32   809.10    КС-3 Амгинская Сила Сибири Этап 5.3   \n",
       "457     1      19   485.00    КС-3 Амгинская Сила Сибири Этап 5.3   \n",
       "459     1      28  1385.00    КС-3 Амгинская Сила Сибири Этап 5.3   \n",
       "20      0      28  1221.00  КС-2 Олекминская Сила Сибири Этап 5.2   \n",
       "\n",
       "                                         resource_name  contractor_name  \\\n",
       "20                                 Автобетоносмеситель      ООО \"СГК-1\"   \n",
       "24   Экскаватор гусеничный легкого класса (массой д...      ООО \"СГК-1\"   \n",
       "23          Сварочный агрегат передвижной (гусеничный)      ООО \"СГК-1\"   \n",
       "22                         Кран автомобильный (21-25т)      ООО \"СГК-1\"   \n",
       "42                                 Автобетоносмеситель      ООО \"СГК-1\"   \n",
       "..                                                 ...              ...   \n",
       "446                        Кран автомобильный (21-25т)      ООО \"СГК-1\"   \n",
       "448         Сварочный агрегат передвижной (гусеничный)      ООО \"СГК-1\"   \n",
       "457  Экскаватор гусеничный легкого класса (массой д...      ООО \"СГК-1\"   \n",
       "459                                Автобетоносмеситель      ООО \"СГК-1\"   \n",
       "20                                 Автобетоносмеситель      ООО \"СГК-1\"   \n",
       "\n",
       "             Plan     Fact         dt   Predict_NN  \n",
       "20    8131.646914  1221.00 2021-03-01  1224.605469  \n",
       "24     649.886509   620.00 2021-03-01   630.373718  \n",
       "23    4045.658071  3366.01 2021-03-01  3485.977051  \n",
       "22   15064.347697  2612.04 2021-03-01  2743.156494  \n",
       "42     402.503894  1186.02 2021-04-01   786.559448  \n",
       "..            ...      ...        ...          ...  \n",
       "446    173.604735  7496.00 2022-08-01   104.443245  \n",
       "448    101.826081   809.10 2022-08-01   401.715057  \n",
       "457     17.438728   485.00 2022-08-01    24.923759  \n",
       "459     59.481421  1385.00 2022-08-01    26.630539  \n",
       "20    8131.646914  1221.00 2021-03-01  1224.605469  \n",
       "\n",
       "[120 rows x 387 columns]"
      ]
     },
     "execution_count": 178,
     "metadata": {},
     "output_type": "execute_result"
    }
   ],
   "source": [
    "df_new.append(df_new.iloc[0])"
   ]
  },
  {
   "cell_type": "code",
   "execution_count": 172,
   "id": "b882a620",
   "metadata": {
    "ExecuteTime": {
     "end_time": "2022-12-14T17:16:09.826113Z",
     "start_time": "2022-12-14T17:16:09.804115Z"
    }
   },
   "outputs": [
    {
     "data": {
      "text/html": [
       "<div>\n",
       "<style scoped>\n",
       "    .dataframe tbody tr th:only-of-type {\n",
       "        vertical-align: middle;\n",
       "    }\n",
       "\n",
       "    .dataframe tbody tr th {\n",
       "        vertical-align: top;\n",
       "    }\n",
       "\n",
       "    .dataframe thead th {\n",
       "        text-align: right;\n",
       "    }\n",
       "</style>\n",
       "<table border=\"1\" class=\"dataframe\">\n",
       "  <thead>\n",
       "    <tr style=\"text-align: right;\">\n",
       "      <th></th>\n",
       "      <th>0</th>\n",
       "      <th>1</th>\n",
       "    </tr>\n",
       "  </thead>\n",
       "  <tbody>\n",
       "    <tr>\n",
       "      <th>Unnamed: 0</th>\n",
       "      <td>20</td>\n",
       "      <td>20</td>\n",
       "    </tr>\n",
       "    <tr>\n",
       "      <th>proj_id</th>\n",
       "      <td>23</td>\n",
       "      <td>23</td>\n",
       "    </tr>\n",
       "    <tr>\n",
       "      <th>contr_id</th>\n",
       "      <td>1</td>\n",
       "      <td>1</td>\n",
       "    </tr>\n",
       "    <tr>\n",
       "      <th>0</th>\n",
       "      <td>0.0</td>\n",
       "      <td>0.0</td>\n",
       "    </tr>\n",
       "    <tr>\n",
       "      <th>1</th>\n",
       "      <td>0.0</td>\n",
       "      <td>0.0</td>\n",
       "    </tr>\n",
       "    <tr>\n",
       "      <th>...</th>\n",
       "      <td>...</td>\n",
       "      <td>...</td>\n",
       "    </tr>\n",
       "    <tr>\n",
       "      <th>contractor_name</th>\n",
       "      <td>ООО \"СГК-1\"</td>\n",
       "      <td>ООО \"СГК-1\"</td>\n",
       "    </tr>\n",
       "    <tr>\n",
       "      <th>Plan</th>\n",
       "      <td>8131.646914</td>\n",
       "      <td>8131.646914</td>\n",
       "    </tr>\n",
       "    <tr>\n",
       "      <th>Fact</th>\n",
       "      <td>1221.0</td>\n",
       "      <td>1221.0</td>\n",
       "    </tr>\n",
       "    <tr>\n",
       "      <th>dt</th>\n",
       "      <td>2021-03-01 00:00:00</td>\n",
       "      <td>2021-03-01 00:00:00</td>\n",
       "    </tr>\n",
       "    <tr>\n",
       "      <th>Predict_NN</th>\n",
       "      <td>1224.605469</td>\n",
       "      <td>1224.605469</td>\n",
       "    </tr>\n",
       "  </tbody>\n",
       "</table>\n",
       "<p>387 rows × 2 columns</p>\n",
       "</div>"
      ],
      "text/plain": [
       "                                   0                    1\n",
       "Unnamed: 0                        20                   20\n",
       "proj_id                           23                   23\n",
       "contr_id                           1                    1\n",
       "0                                0.0                  0.0\n",
       "1                                0.0                  0.0\n",
       "...                              ...                  ...\n",
       "contractor_name          ООО \"СГК-1\"          ООО \"СГК-1\"\n",
       "Plan                     8131.646914          8131.646914\n",
       "Fact                          1221.0               1221.0\n",
       "dt               2021-03-01 00:00:00  2021-03-01 00:00:00\n",
       "Predict_NN               1224.605469          1224.605469\n",
       "\n",
       "[387 rows x 2 columns]"
      ]
     },
     "execution_count": 172,
     "metadata": {},
     "output_type": "execute_result"
    }
   ],
   "source": [
    "start_pos = 3\n",
    "\n",
    "pd.concat([df_new.iloc[0].T,df_new.iloc[0].T],axis=1,ignore_index=True)\n"
   ]
  },
  {
   "cell_type": "code",
   "execution_count": null,
   "id": "e5c9d19c",
   "metadata": {},
   "outputs": [],
   "source": [
    "for i in a[3:-11] :\n",
    "    if i >0:\n",
    "        \n",
    "pd.concat([pd.DataFrame([i], columns=['A']) for i in range(5)],\n",
    "...           ignore_index=True)"
   ]
  },
  {
   "cell_type": "code",
   "execution_count": 139,
   "id": "01af2f4c",
   "metadata": {
    "ExecuteTime": {
     "end_time": "2022-12-14T16:35:58.754788Z",
     "start_time": "2022-12-14T16:35:58.742719Z"
    }
   },
   "outputs": [
    {
     "data": {
      "text/plain": [
       "month                                                  2\n",
       "year                                                   0\n",
       "res_id                                                28\n",
       "target                                            1221.0\n",
       "project_name       КС-2 Олекминская Сила Сибири Этап 5.2\n",
       "resource_name                        Автобетоносмеситель\n",
       "contractor_name                              ООО \"СГК-1\"\n",
       "Plan                                         8131.646914\n",
       "Fact                                              1221.0\n",
       "dt                                   2021-03-01 00:00:00\n",
       "Predict_NN                                   1224.605469\n",
       "Name: 20, dtype: object"
      ]
     },
     "execution_count": 139,
     "metadata": {},
     "output_type": "execute_result"
    }
   ],
   "source": [
    "df_new.append()"
   ]
  },
  {
   "cell_type": "code",
   "execution_count": null,
   "id": "d6c648b9",
   "metadata": {},
   "outputs": [],
   "source": []
  },
  {
   "cell_type": "code",
   "execution_count": null,
   "id": "a504ce14",
   "metadata": {},
   "outputs": [],
   "source": []
  },
  {
   "cell_type": "code",
   "execution_count": 73,
   "id": "766bddd6",
   "metadata": {
    "ExecuteTime": {
     "end_time": "2022-12-14T10:34:02.744853Z",
     "start_time": "2022-12-14T10:34:02.733847Z"
    }
   },
   "outputs": [
    {
     "data": {
      "text/html": [
       "<div>\n",
       "<style scoped>\n",
       "    .dataframe tbody tr th:only-of-type {\n",
       "        vertical-align: middle;\n",
       "    }\n",
       "\n",
       "    .dataframe tbody tr th {\n",
       "        vertical-align: top;\n",
       "    }\n",
       "\n",
       "    .dataframe thead th {\n",
       "        text-align: right;\n",
       "    }\n",
       "</style>\n",
       "<table border=\"1\" class=\"dataframe\">\n",
       "  <thead>\n",
       "    <tr style=\"text-align: right;\">\n",
       "      <th></th>\n",
       "      <th>res_id</th>\n",
       "      <th>res_name</th>\n",
       "      <th>model_MAE</th>\n",
       "      <th>count</th>\n",
       "    </tr>\n",
       "  </thead>\n",
       "  <tbody>\n",
       "    <tr>\n",
       "      <th>0</th>\n",
       "      <td>51</td>\n",
       "      <td>Автобетоноподатчик</td>\n",
       "      <td>19.117668</td>\n",
       "      <td>1</td>\n",
       "    </tr>\n",
       "    <tr>\n",
       "      <th>1</th>\n",
       "      <td>179</td>\n",
       "      <td>Кран автомобильный (50-99т)</td>\n",
       "      <td>710.102309</td>\n",
       "      <td>17</td>\n",
       "    </tr>\n",
       "    <tr>\n",
       "      <th>2</th>\n",
       "      <td>42</td>\n",
       "      <td>Трубоукладчик тяжелого класса (81т и более)</td>\n",
       "      <td>1986.646080</td>\n",
       "      <td>2</td>\n",
       "    </tr>\n",
       "    <tr>\n",
       "      <th>3</th>\n",
       "      <td>88</td>\n",
       "      <td>Самосвал (21-25т)</td>\n",
       "      <td>210.249727</td>\n",
       "      <td>1</td>\n",
       "    </tr>\n",
       "    <tr>\n",
       "      <th>4</th>\n",
       "      <td>12</td>\n",
       "      <td>Автогидроподъемник (до 22м)</td>\n",
       "      <td>598.966580</td>\n",
       "      <td>16</td>\n",
       "    </tr>\n",
       "    <tr>\n",
       "      <th>5</th>\n",
       "      <td>9</td>\n",
       "      <td>Тягач седельный</td>\n",
       "      <td>1019.795113</td>\n",
       "      <td>7</td>\n",
       "    </tr>\n",
       "    <tr>\n",
       "      <th>6</th>\n",
       "      <td>76</td>\n",
       "      <td>Бульдозер тяжелого класса (массой свыше 35т)</td>\n",
       "      <td>628.493862</td>\n",
       "      <td>7</td>\n",
       "    </tr>\n",
       "    <tr>\n",
       "      <th>7</th>\n",
       "      <td>176</td>\n",
       "      <td>Сварочный агрегат передвижной (колесный)</td>\n",
       "      <td>968.491744</td>\n",
       "      <td>17</td>\n",
       "    </tr>\n",
       "    <tr>\n",
       "      <th>8</th>\n",
       "      <td>175</td>\n",
       "      <td>Кран автомобильный (26-49т)</td>\n",
       "      <td>395.973880</td>\n",
       "      <td>17</td>\n",
       "    </tr>\n",
       "    <tr>\n",
       "      <th>9</th>\n",
       "      <td>112</td>\n",
       "      <td>Экскаватор гусеничный среднего класса с гидрол...</td>\n",
       "      <td>468.880323</td>\n",
       "      <td>14</td>\n",
       "    </tr>\n",
       "    <tr>\n",
       "      <th>10</th>\n",
       "      <td>14</td>\n",
       "      <td>Бульдозер среднего класса (массой 21-35т)</td>\n",
       "      <td>294.319796</td>\n",
       "      <td>15</td>\n",
       "    </tr>\n",
       "    <tr>\n",
       "      <th>11</th>\n",
       "      <td>28</td>\n",
       "      <td>Автобетоносмеситель</td>\n",
       "      <td>174.567798</td>\n",
       "      <td>17</td>\n",
       "    </tr>\n",
       "    <tr>\n",
       "      <th>12</th>\n",
       "      <td>218</td>\n",
       "      <td>Погрузчик телескопический</td>\n",
       "      <td>298.535794</td>\n",
       "      <td>17</td>\n",
       "    </tr>\n",
       "    <tr>\n",
       "      <th>13</th>\n",
       "      <td>44</td>\n",
       "      <td>Автогрейдер большого класса (массой свыше 15т)</td>\n",
       "      <td>123.778761</td>\n",
       "      <td>10</td>\n",
       "    </tr>\n",
       "    <tr>\n",
       "      <th>14</th>\n",
       "      <td>48</td>\n",
       "      <td>Экскаватор гусеничный тяжелого класса (массой ...</td>\n",
       "      <td>3038.150580</td>\n",
       "      <td>17</td>\n",
       "    </tr>\n",
       "    <tr>\n",
       "      <th>15</th>\n",
       "      <td>38</td>\n",
       "      <td>Парогенератор</td>\n",
       "      <td>305.187162</td>\n",
       "      <td>17</td>\n",
       "    </tr>\n",
       "    <tr>\n",
       "      <th>16</th>\n",
       "      <td>23</td>\n",
       "      <td>Бортовой автомобиль</td>\n",
       "      <td>167.681512</td>\n",
       "      <td>17</td>\n",
       "    </tr>\n",
       "    <tr>\n",
       "      <th>17</th>\n",
       "      <td>19</td>\n",
       "      <td>Экскаватор гусеничный легкого класса (массой д...</td>\n",
       "      <td>358.654680</td>\n",
       "      <td>17</td>\n",
       "    </tr>\n",
       "    <tr>\n",
       "      <th>18</th>\n",
       "      <td>32</td>\n",
       "      <td>Сварочный агрегат передвижной (гусеничный)</td>\n",
       "      <td>266.283074</td>\n",
       "      <td>14</td>\n",
       "    </tr>\n",
       "    <tr>\n",
       "      <th>19</th>\n",
       "      <td>30</td>\n",
       "      <td>Кран автомобильный (21-25т)</td>\n",
       "      <td>164.776760</td>\n",
       "      <td>17</td>\n",
       "    </tr>\n",
       "    <tr>\n",
       "      <th>20</th>\n",
       "      <td>29</td>\n",
       "      <td>Бурильно-крановая установка тяжелого класса (к...</td>\n",
       "      <td>298.486256</td>\n",
       "      <td>7</td>\n",
       "    </tr>\n",
       "    <tr>\n",
       "      <th>21</th>\n",
       "      <td>87</td>\n",
       "      <td>Мотопомпа (производительность до 200 м3/час)</td>\n",
       "      <td>97.791491</td>\n",
       "      <td>12</td>\n",
       "    </tr>\n",
       "    <tr>\n",
       "      <th>22</th>\n",
       "      <td>41</td>\n",
       "      <td>Бортовой автомобиль с КМУ</td>\n",
       "      <td>2385.972976</td>\n",
       "      <td>14</td>\n",
       "    </tr>\n",
       "    <tr>\n",
       "      <th>23</th>\n",
       "      <td>188</td>\n",
       "      <td>Подъемник строительный самоходный</td>\n",
       "      <td>9.168011</td>\n",
       "      <td>2</td>\n",
       "    </tr>\n",
       "    <tr>\n",
       "      <th>24</th>\n",
       "      <td>234</td>\n",
       "      <td>Экскаватор колесный</td>\n",
       "      <td>298.623740</td>\n",
       "      <td>4</td>\n",
       "    </tr>\n",
       "    <tr>\n",
       "      <th>25</th>\n",
       "      <td>239</td>\n",
       "      <td>Каток дорожный среднего класса (массой 11-16т)</td>\n",
       "      <td>415.234770</td>\n",
       "      <td>1</td>\n",
       "    </tr>\n",
       "  </tbody>\n",
       "</table>\n",
       "</div>"
      ],
      "text/plain": [
       "    res_id                                           res_name    model_MAE  \\\n",
       "0       51                                 Автобетоноподатчик    19.117668   \n",
       "1      179                        Кран автомобильный (50-99т)   710.102309   \n",
       "2       42        Трубоукладчик тяжелого класса (81т и более)  1986.646080   \n",
       "3       88                                  Самосвал (21-25т)   210.249727   \n",
       "4       12                        Автогидроподъемник (до 22м)   598.966580   \n",
       "5        9                                    Тягач седельный  1019.795113   \n",
       "6       76       Бульдозер тяжелого класса (массой свыше 35т)   628.493862   \n",
       "7      176           Сварочный агрегат передвижной (колесный)   968.491744   \n",
       "8      175                        Кран автомобильный (26-49т)   395.973880   \n",
       "9      112  Экскаватор гусеничный среднего класса с гидрол...   468.880323   \n",
       "10      14          Бульдозер среднего класса (массой 21-35т)   294.319796   \n",
       "11      28                                Автобетоносмеситель   174.567798   \n",
       "12     218                          Погрузчик телескопический   298.535794   \n",
       "13      44     Автогрейдер большого класса (массой свыше 15т)   123.778761   \n",
       "14      48  Экскаватор гусеничный тяжелого класса (массой ...  3038.150580   \n",
       "15      38                                      Парогенератор   305.187162   \n",
       "16      23                                Бортовой автомобиль   167.681512   \n",
       "17      19  Экскаватор гусеничный легкого класса (массой д...   358.654680   \n",
       "18      32         Сварочный агрегат передвижной (гусеничный)   266.283074   \n",
       "19      30                        Кран автомобильный (21-25т)   164.776760   \n",
       "20      29  Бурильно-крановая установка тяжелого класса (к...   298.486256   \n",
       "21      87       Мотопомпа (производительность до 200 м3/час)    97.791491   \n",
       "22      41                          Бортовой автомобиль с КМУ  2385.972976   \n",
       "23     188                  Подъемник строительный самоходный     9.168011   \n",
       "24     234                                Экскаватор колесный   298.623740   \n",
       "25     239     Каток дорожный среднего класса (массой 11-16т)   415.234770   \n",
       "\n",
       "    count  \n",
       "0       1  \n",
       "1      17  \n",
       "2       2  \n",
       "3       1  \n",
       "4      16  \n",
       "5       7  \n",
       "6       7  \n",
       "7      17  \n",
       "8      17  \n",
       "9      14  \n",
       "10     15  \n",
       "11     17  \n",
       "12     17  \n",
       "13     10  \n",
       "14     17  \n",
       "15     17  \n",
       "16     17  \n",
       "17     17  \n",
       "18     14  \n",
       "19     17  \n",
       "20      7  \n",
       "21     12  \n",
       "22     14  \n",
       "23      2  \n",
       "24      4  \n",
       "25      1  "
      ]
     },
     "execution_count": 73,
     "metadata": {},
     "output_type": "execute_result"
    }
   ],
   "source": [
    "pd.DataFrame(result)"
   ]
  },
  {
   "cell_type": "code",
   "execution_count": 58,
   "id": "1be90aec",
   "metadata": {
    "ExecuteTime": {
     "end_time": "2022-12-13T12:54:50.997068Z",
     "start_time": "2022-12-13T12:54:50.981424Z"
    }
   },
   "outputs": [],
   "source": [
    "feature_contractor_dict = np.load('./scripts/3_final/all_contractors.npy', allow_pickle=True).item()\n",
    "df['contractor_id'] = df.contractor_name.map(feature_contractor_dict)\n",
    "assert sum(pd.isna(df.contractor_id)) == 0, 'есть пустые контракторы'"
   ]
  },
  {
   "cell_type": "code",
   "execution_count": 59,
   "id": "49aaeb41",
   "metadata": {
    "ExecuteTime": {
     "end_time": "2022-12-13T12:54:53.397973Z",
     "start_time": "2022-12-13T12:54:53.383945Z"
    }
   },
   "outputs": [],
   "source": [
    "norms_ids_dict = np.load('./data/Needed_materials/Norms_ids_dict.npy', allow_pickle=True).item()\n",
    "df['PO_name'] = df.PO_id.map(norms_ids_dict)\n",
    "assert sum(pd.isna(df.PO_name)) == 0, 'есть пустые PO_name'"
   ]
  },
  {
   "cell_type": "code",
   "execution_count": 79,
   "id": "8a1c1f88",
   "metadata": {
    "ExecuteTime": {
     "end_time": "2022-12-13T13:17:05.635891Z",
     "start_time": "2022-12-13T13:17:05.243442Z"
    }
   },
   "outputs": [],
   "source": [
    "from datetime import datetime \n",
    "df['dt'] = df.dt.apply( lambda x: datetime.strptime(str(x), '%Y-%m-%d %H:%M:%S'))"
   ]
  },
  {
   "cell_type": "code",
   "execution_count": null,
   "id": "095ff0ea",
   "metadata": {},
   "outputs": [],
   "source": []
  },
  {
   "cell_type": "code",
   "execution_count": null,
   "id": "84b54759",
   "metadata": {},
   "outputs": [],
   "source": []
  },
  {
   "cell_type": "code",
   "execution_count": null,
   "id": "1412c168",
   "metadata": {},
   "outputs": [],
   "source": [
    "# достаем данные по технике 39629 Кран автомобильный (21-25т)\n"
   ]
  },
  {
   "cell_type": "markdown",
   "id": "fa308981",
   "metadata": {},
   "source": [
    "### читаем файл по определенной машине"
   ]
  },
  {
   "cell_type": "code",
   "execution_count": 7,
   "id": "7020639e",
   "metadata": {
    "ExecuteTime": {
     "end_time": "2022-12-13T10:33:52.071167Z",
     "start_time": "2022-12-13T10:33:51.820463Z"
    }
   },
   "outputs": [],
   "source": [
    "df = pd.read_excel('data/4_to_export/example_stand_for_GSP.xlsx')"
   ]
  },
  {
   "cell_type": "code",
   "execution_count": 8,
   "id": "2268a4ce",
   "metadata": {
    "ExecuteTime": {
     "end_time": "2022-12-13T10:34:16.742014Z",
     "start_time": "2022-12-13T10:34:16.710762Z"
    }
   },
   "outputs": [
    {
     "data": {
      "text/html": [
       "<div>\n",
       "<style scoped>\n",
       "    .dataframe tbody tr th:only-of-type {\n",
       "        vertical-align: middle;\n",
       "    }\n",
       "\n",
       "    .dataframe tbody tr th {\n",
       "        vertical-align: top;\n",
       "    }\n",
       "\n",
       "    .dataframe thead th {\n",
       "        text-align: right;\n",
       "    }\n",
       "</style>\n",
       "<table border=\"1\" class=\"dataframe\">\n",
       "  <thead>\n",
       "    <tr style=\"text-align: right;\">\n",
       "      <th></th>\n",
       "      <th>PO_id</th>\n",
       "      <th>dt</th>\n",
       "      <th>resource_name</th>\n",
       "      <th>act_reg_qty</th>\n",
       "      <th>mat_res_name</th>\n",
       "      <th>mat_res_qt</th>\n",
       "      <th>Norm_coef</th>\n",
       "      <th>NN_coef</th>\n",
       "      <th>act_reg_qty_NN</th>\n",
       "      <th>время простоя</th>\n",
       "    </tr>\n",
       "  </thead>\n",
       "  <tbody>\n",
       "    <tr>\n",
       "      <th>0</th>\n",
       "      <td>PO2</td>\n",
       "      <td>2021-04-01</td>\n",
       "      <td>Экскаватор гусеничный тяжелого класса (массой ...</td>\n",
       "      <td>520.950208</td>\n",
       "      <td>Метр кубический</td>\n",
       "      <td>34500.0</td>\n",
       "      <td>66.225139</td>\n",
       "      <td>35.0</td>\n",
       "      <td>985.714286</td>\n",
       "      <td>464.764078</td>\n",
       "    </tr>\n",
       "    <tr>\n",
       "      <th>1</th>\n",
       "      <td>PO2</td>\n",
       "      <td>2021-05-01</td>\n",
       "      <td>Экскаватор гусеничный тяжелого класса (массой ...</td>\n",
       "      <td>230.229791</td>\n",
       "      <td>Метр кубический</td>\n",
       "      <td>15247.0</td>\n",
       "      <td>66.225139</td>\n",
       "      <td>NaN</td>\n",
       "      <td>NaN</td>\n",
       "      <td>NaN</td>\n",
       "    </tr>\n",
       "    <tr>\n",
       "      <th>2</th>\n",
       "      <td>PO3</td>\n",
       "      <td>2021-04-01</td>\n",
       "      <td>Экскаватор гусеничный тяжелого класса (массой ...</td>\n",
       "      <td>534.998844</td>\n",
       "      <td>Метр кубический</td>\n",
       "      <td>50000.0</td>\n",
       "      <td>93.458146</td>\n",
       "      <td>NaN</td>\n",
       "      <td>NaN</td>\n",
       "      <td>NaN</td>\n",
       "    </tr>\n",
       "    <tr>\n",
       "      <th>3</th>\n",
       "      <td>PO3</td>\n",
       "      <td>2021-05-01</td>\n",
       "      <td>Экскаватор гусеничный тяжелого класса (массой ...</td>\n",
       "      <td>75.434836</td>\n",
       "      <td>Метр кубический</td>\n",
       "      <td>7050.0</td>\n",
       "      <td>93.458147</td>\n",
       "      <td>NaN</td>\n",
       "      <td>NaN</td>\n",
       "      <td>NaN</td>\n",
       "    </tr>\n",
       "    <tr>\n",
       "      <th>4</th>\n",
       "      <td>PO3</td>\n",
       "      <td>2021-06-01</td>\n",
       "      <td>Экскаватор гусеничный тяжелого класса (массой ...</td>\n",
       "      <td>129.876320</td>\n",
       "      <td>Метр кубический</td>\n",
       "      <td>12138.0</td>\n",
       "      <td>93.458145</td>\n",
       "      <td>NaN</td>\n",
       "      <td>NaN</td>\n",
       "      <td>NaN</td>\n",
       "    </tr>\n",
       "  </tbody>\n",
       "</table>\n",
       "</div>"
      ],
      "text/plain": [
       "  PO_id          dt                                      resource_name  \\\n",
       "0   PO2  2021-04-01  Экскаватор гусеничный тяжелого класса (массой ...   \n",
       "1   PO2  2021-05-01  Экскаватор гусеничный тяжелого класса (массой ...   \n",
       "2   PO3  2021-04-01  Экскаватор гусеничный тяжелого класса (массой ...   \n",
       "3   PO3  2021-05-01  Экскаватор гусеничный тяжелого класса (массой ...   \n",
       "4   PO3  2021-06-01  Экскаватор гусеничный тяжелого класса (массой ...   \n",
       "\n",
       "   act_reg_qty     mat_res_name  mat_res_qt  Norm_coef  NN_coef  \\\n",
       "0   520.950208  Метр кубический     34500.0  66.225139     35.0   \n",
       "1   230.229791  Метр кубический     15247.0  66.225139      NaN   \n",
       "2   534.998844  Метр кубический     50000.0  93.458146      NaN   \n",
       "3    75.434836  Метр кубический      7050.0  93.458147      NaN   \n",
       "4   129.876320  Метр кубический     12138.0  93.458145      NaN   \n",
       "\n",
       "   act_reg_qty_NN  время простоя  \n",
       "0      985.714286     464.764078  \n",
       "1             NaN            NaN  \n",
       "2             NaN            NaN  \n",
       "3             NaN            NaN  \n",
       "4             NaN            NaN  "
      ]
     },
     "execution_count": 8,
     "metadata": {},
     "output_type": "execute_result"
    }
   ],
   "source": [
    "df.head()"
   ]
  },
  {
   "cell_type": "code",
   "execution_count": null,
   "id": "0aeaada9",
   "metadata": {},
   "outputs": [],
   "source": [
    "# преобразование времени\n",
    "df['dt'] = df['dt'].apply(lambda t: datetime.strptime(t,'%Y-%m-%d')) \n",
    "df['month'] = df.dt.apply( lambda x: datetime.strftime(x,'%m' ) )\n",
    "df['year'] = df.dt.apply( lambda x: datetime.strftime(x,'%Y' ) )\n"
   ]
  },
  {
   "cell_type": "code",
   "execution_count": null,
   "id": "d340ae7d",
   "metadata": {},
   "outputs": [],
   "source": [
    "# добавялем коэф из нейросети\n",
    "## 49 - это код ресурса! \n",
    "df['NN_coef'] = df.PO_id.apply(lambda x: net_state_dict['activity_dense.weight'][49,int(x[2:])].numpy() )\n",
    "\n",
    "df['NN_coef_month'] = df.month.apply(lambda x: net_state_dict['month_dense.weight'][0,int(x)-1].numpy() )\n",
    "\n",
    "df['NN_coef_year'] = df.year.apply(lambda x: net_state_dict['year_dense.weight'][0,int(x)-2021].numpy() )\n",
    "\n",
    "df['NN_coef_year_bias'] = net_state_dict['year_dense.bias'][0].numpy() \n",
    "\n",
    "df['NN_coef_contr'] = net_state_dict['contractor_dense.weight'][0,1].numpy()"
   ]
  },
  {
   "cell_type": "code",
   "execution_count": null,
   "id": "d6061192",
   "metadata": {},
   "outputs": [],
   "source": [
    "# сохраняемся\n",
    "df.to_excel('../../19.work_cs/1. Effectivness/model/example_stand_for_GSP_processed.xlsx')"
   ]
  },
  {
   "cell_type": "markdown",
   "id": "abc341ca",
   "metadata": {},
   "source": [
    "### Группировка и графики"
   ]
  },
  {
   "cell_type": "code",
   "execution_count": null,
   "id": "8906aaa5",
   "metadata": {},
   "outputs": [],
   "source": [
    "# прочитали\n",
    "df['year_month'] = df['year'].astype(str) + '-' + df['month'].astype(str)\n",
    "# сгруппировали\n",
    "new_df = df.groupby(by=['PO_id','year_month'])[['act_reg_qty','act_reg_qty_NN','время простоя']].sum()\n",
    "new_df.head()"
   ]
  },
  {
   "cell_type": "code",
   "execution_count": null,
   "id": "898e311d",
   "metadata": {},
   "outputs": [],
   "source": [
    "# сохранили\n",
    "new_df.reset_index(inplace=True)\n",
    "new_df.to_excel('../../19.work_cs/1. Effectivness/model/example_stand_for_GSP_processed_PO.xlsx')"
   ]
  },
  {
   "cell_type": "code",
   "execution_count": 174,
   "id": "f200a960",
   "metadata": {
    "ExecuteTime": {
     "end_time": "2022-11-22T11:29:18.352978Z",
     "start_time": "2022-11-22T11:29:18.186248Z"
    },
    "scrolled": true
   },
   "outputs": [
    {
     "data": {
      "image/png": "[encoded data removed]",
      "text/plain": [
       "<Figure size 1080x504 with 1 Axes>"
      ]
     },
     "metadata": {
      "needs_background": "light"
     },
     "output_type": "display_data"
    }
   ],
   "source": [
    "# Отрисовка\n",
    "plt.figure(figsize=(15,7))\n",
    "plt.bar(new_df.year_month,height=new_df.act_reg_qty,label='ПЛАН',alpha=0.7)\n",
    "plt.bar(new_df.year_month,height=new_df.act_reg_qty_NN,label='ФАКТ',alpha=0.7)\n",
    "plt.bar(new_df.year_month,height=new_df['время простоя'],label='ПРОСТОЙ',color ='red',alpha=0.7)\n",
    "\n",
    "plt.legend(loc='best')\n",
    "plt.xlabel('DATA')\n",
    "plt.ylabel('HOURS')\n",
    "plt.title('Диаграмма \"План\" - \"Факт\" - \"Простой\", \\n техники - \"Экскаватор гусеничный тяжелого класса,\\n по проекту КС-3 Амгинская')\n",
    "plt.grid();"
   ]
  },
  {
   "cell_type": "code",
   "execution_count": null,
   "id": "19bedd31",
   "metadata": {},
   "outputs": [],
   "source": []
  },
  {
   "cell_type": "code",
   "execution_count": 5,
   "id": "748e1359",
   "metadata": {
    "ExecuteTime": {
     "end_time": "2022-12-19T09:42:18.142780Z",
     "start_time": "2022-12-19T09:42:18.067773Z"
    },
    "scrolled": true
   },
   "outputs": [
    {
     "data": {
      "text/html": [
       "<div>\n",
       "<style scoped>\n",
       "    .dataframe tbody tr th:only-of-type {\n",
       "        vertical-align: middle;\n",
       "    }\n",
       "\n",
       "    .dataframe tbody tr th {\n",
       "        vertical-align: top;\n",
       "    }\n",
       "\n",
       "    .dataframe thead th {\n",
       "        text-align: right;\n",
       "    }\n",
       "</style>\n",
       "<table border=\"1\" class=\"dataframe\">\n",
       "  <thead>\n",
       "    <tr style=\"text-align: right;\">\n",
       "      <th></th>\n",
       "      <th>Unnamed: 0</th>\n",
       "      <th>date</th>\n",
       "      <th>project</th>\n",
       "      <th>predict</th>\n",
       "      <th>resource</th>\n",
       "      <th>resource_id</th>\n",
       "    </tr>\n",
       "  </thead>\n",
       "  <tbody>\n",
       "    <tr>\n",
       "      <th>0</th>\n",
       "      <td>142</td>\n",
       "      <td>2021-11-01</td>\n",
       "      <td>КС-2 Олекминская Сила Сибири Этап 5.2</td>\n",
       "      <td>0.00000</td>\n",
       "      <td>Экскаватор-планировщик</td>\n",
       "      <td>235</td>\n",
       "    </tr>\n",
       "    <tr>\n",
       "      <th>1</th>\n",
       "      <td>143</td>\n",
       "      <td>2022-05-01</td>\n",
       "      <td>КС-2 Олекминская Сила Сибири Этап 5.2</td>\n",
       "      <td>0.00000</td>\n",
       "      <td>Экскаватор-планировщик</td>\n",
       "      <td>235</td>\n",
       "    </tr>\n",
       "    <tr>\n",
       "      <th>2</th>\n",
       "      <td>144</td>\n",
       "      <td>2022-06-01</td>\n",
       "      <td>КС-2 Олекминская Сила Сибири Этап 5.2</td>\n",
       "      <td>0.00000</td>\n",
       "      <td>Экскаватор-планировщик</td>\n",
       "      <td>235</td>\n",
       "    </tr>\n",
       "    <tr>\n",
       "      <th>3</th>\n",
       "      <td>145</td>\n",
       "      <td>2022-07-01</td>\n",
       "      <td>КС-2 Олекминская Сила Сибири Этап 5.2</td>\n",
       "      <td>4.75384</td>\n",
       "      <td>Экскаватор-планировщик</td>\n",
       "      <td>235</td>\n",
       "    </tr>\n",
       "    <tr>\n",
       "      <th>4</th>\n",
       "      <td>146</td>\n",
       "      <td>2022-08-01</td>\n",
       "      <td>КС-2 Олекминская Сила Сибири Этап 5.2</td>\n",
       "      <td>99.84922</td>\n",
       "      <td>Экскаватор-планировщик</td>\n",
       "      <td>235</td>\n",
       "    </tr>\n",
       "  </tbody>\n",
       "</table>\n",
       "</div>"
      ],
      "text/plain": [
       "   Unnamed: 0       date                                project   predict  \\\n",
       "0         142 2021-11-01  КС-2 Олекминская Сила Сибири Этап 5.2   0.00000   \n",
       "1         143 2022-05-01  КС-2 Олекминская Сила Сибири Этап 5.2   0.00000   \n",
       "2         144 2022-06-01  КС-2 Олекминская Сила Сибири Этап 5.2   0.00000   \n",
       "3         145 2022-07-01  КС-2 Олекминская Сила Сибири Этап 5.2   4.75384   \n",
       "4         146 2022-08-01  КС-2 Олекминская Сила Сибири Этап 5.2  99.84922   \n",
       "\n",
       "                 resource  resource_id  \n",
       "0  Экскаватор-планировщик          235  \n",
       "1  Экскаватор-планировщик          235  \n",
       "2  Экскаватор-планировщик          235  \n",
       "3  Экскаватор-планировщик          235  \n",
       "4  Экскаватор-планировщик          235  "
      ]
     },
     "execution_count": 5,
     "metadata": {},
     "output_type": "execute_result"
    }
   ],
   "source": [
    "df_pred = pd.read_excel('./data/4_to_export/predict_template_top_left/predict_ks2.xlsx')\n",
    "df_pred.head()"
   ]
  },
  {
   "cell_type": "code",
   "execution_count": 23,
   "id": "a747231c",
   "metadata": {
    "ExecuteTime": {
     "end_time": "2022-12-19T10:18:13.965638Z",
     "start_time": "2022-12-19T10:18:13.955629Z"
    }
   },
   "outputs": [],
   "source": [
    "ids = [30, 28,19,32 ] "
   ]
  },
  {
   "cell_type": "code",
   "execution_count": 31,
   "id": "d343be75",
   "metadata": {
    "ExecuteTime": {
     "end_time": "2022-12-19T10:21:42.864030Z",
     "start_time": "2022-12-19T10:21:42.848031Z"
    }
   },
   "outputs": [
    {
     "data": {
      "text/plain": [
       "[30, 19, 32]"
      ]
     },
     "execution_count": 31,
     "metadata": {},
     "output_type": "execute_result"
    }
   ],
   "source": [
    "df_pred['res_id'] = df_pred.resource.map(mech_res_dict)\n",
    "[i for i in ids if i in pd.unique(df_pred.res_id)]"
   ]
  },
  {
   "cell_type": "code",
   "execution_count": 9,
   "id": "5a9f95a4",
   "metadata": {
    "ExecuteTime": {
     "end_time": "2022-12-19T09:44:28.806602Z",
     "start_time": "2022-12-19T09:44:28.793604Z"
    }
   },
   "outputs": [
    {
     "data": {
      "text/plain": [
       "year  month  resource_id\n",
       "2021  3      2              1\n",
       "             5              1\n",
       "             14             1\n",
       "             19             1\n",
       "             29             1\n",
       "                           ..\n",
       "2022  8      111            1\n",
       "             112            1\n",
       "             115            1\n",
       "             234            1\n",
       "             235            1\n",
       "Name: resource_id, Length: 280, dtype: int64"
      ]
     },
     "execution_count": 9,
     "metadata": {},
     "output_type": "execute_result"
    }
   ],
   "source": [
    "df_pred['year'] = df_pred.date.dt.year\n",
    "df_pred['month'] = df_pred.date.dt.month\n",
    "df_pred.groupby(['year','month']).resource_id.value_counts()"
   ]
  },
  {
   "cell_type": "code",
   "execution_count": null,
   "id": "b95e0db9",
   "metadata": {},
   "outputs": [],
   "source": []
  },
  {
   "cell_type": "code",
   "execution_count": null,
   "id": "9d5c179e",
   "metadata": {},
   "outputs": [],
   "source": []
  },
  {
   "cell_type": "code",
   "execution_count": 130,
   "id": "443b107e",
   "metadata": {
    "ExecuteTime": {
     "end_time": "2022-12-20T08:30:11.781303Z",
     "start_time": "2022-12-20T08:30:11.760638Z"
    }
   },
   "outputs": [],
   "source": [
    "# from glob import glob\n",
    "# import re\n",
    "\n",
    "# feat = np.zeros([1,378])\n",
    "\n",
    "\n",
    "# for name in glob('./data/4_to_export/predict_template_top_left/*.xlsx'):\n",
    "#     print(name)\n",
    "#     l = name.split('\\\\')[-1]\n",
    "    \n",
    "#     if not re.findall(r'КС', l ): \n",
    "#         print('pass')\n",
    "#         continue\n",
    "#     else: \n",
    "#         df = pd.read_excel(name,\n",
    "#                usecols= ['PO_id','dt', 'resource_name', 'id_resource', 'remain_qty'])\n",
    "        \n",
    "        \n",
    "#         a = np.zeros((len(df),378))\n",
    "\n",
    "#         # КС-2 = 23 , КС-3 = 17\n",
    "#         if re.findall(r'КС_2', l ): contr_id = 23\n",
    "#         else: contr_id = 17\n",
    "#         a[:,0] = contr_id\n",
    "\n",
    "#         #contr_id = 1 (СГК)\n",
    "#         a[:,1] = 1 \n",
    "        \n",
    "#         # res_id\n",
    "#         df['res_id'] = df.resource_name.map(mech_res_dict)\n",
    "#         assert sum(pd.isna(df.res_id)) == 0, 'есть пустые машины'\n",
    "\n",
    "#         # month year\n",
    "#         from datetime import datetime \n",
    "#         df['month'] = df.dt.dt.month\n",
    "#         df['year'] = df.dt.dt.year - 2021\n",
    "        \n",
    "#         for j,i in enumerate(df.groupby(['res_id','year','month','PO_id'])):\n",
    "#             #res_id\n",
    "#             a[j,-1] = i[0][0]\n",
    "#             #year\n",
    "#             a[j,-2] = i[0][1]\n",
    "#             #month\n",
    "#             a[j,-3] = i[0][2]\n",
    "            \n",
    "#             # PO number\n",
    "#             po_number = int( str(i[0][-1])[2:] )\n",
    "#             a[j,po_number+1] = i[1].remain_qty.sum()\n",
    "\n",
    "#         print(j)\n",
    "#         a = a[:j]\n",
    "#         print('Done. a shape = ', a.shape )    \n",
    "        \n",
    "#         feat = np.concatenate((feat,a))\n",
    "\n",
    "# feat = feat[1:]"
   ]
  }
 ],
 "metadata": {
  "kernelspec": {
   "display_name": "Python 3 (ipykernel)",
   "language": "python",
   "name": "python3"
  },
  "language_info": {
   "codemirror_mode": {
    "name": "ipython",
    "version": 3
   },
   "file_extension": ".py",
   "mimetype": "text/x-python",
   "name": "python",
   "nbconvert_exporter": "python",
   "pygments_lexer": "ipython3",
   "version": "3.9.12"
  },
  "latex_envs": {
   "LaTeX_envs_menu_present": true,
   "autoclose": false,
   "autocomplete": true,
   "bibliofile": "biblio.bib",
   "cite_by": "apalike",
   "current_citInitial": 1,
   "eqLabelWithNumbers": true,
   "eqNumInitial": 1,
   "hotkeys": {
    "equation": "Ctrl-E",
    "itemize": "Ctrl-I"
   },
   "labels_anchors": false,
   "latex_user_defs": false,
   "report_style_numbering": false,
   "user_envs_cfg": false
  },
  "notify_time": "5",
  "toc": {
   "base_numbering": 1,
   "nav_menu": {},
   "number_sections": true,
   "sideBar": true,
   "skip_h1_title": false,
   "title_cell": "Table of Contents",
   "title_sidebar": "Contents",
   "toc_cell": false,
   "toc_position": {
    "height": "calc(100% - 180px)",
    "left": "10px",
    "top": "150px",
    "width": "283.4px"
   },
   "toc_section_display": true,
   "toc_window_display": true
  }
 },
 "nbformat": 4,
 "nbformat_minor": 5
}
